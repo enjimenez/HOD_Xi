{
 "cells": [
  {
   "cell_type": "code",
   "execution_count": 1,
   "metadata": {
    "collapsed": true
   },
   "outputs": [],
   "source": [
    "import numpy as np\n",
    "import os\n",
    "import matplotlib.pyplot as plt\n",
    "from matplotlib import rc\n",
    "import time\n",
    "rc('text', usetex=True)\n",
    "rc('font', family='serif')\n",
    "% matplotlib inline"
   ]
  },
  {
   "cell_type": "code",
   "execution_count": null,
   "metadata": {
    "collapsed": false
   },
   "outputs": [],
   "source": [
    "for i in range(29):\n",
    "    print round(bins[i],3), \"/\", round(bins[i+1],3), \"/\", i"
   ]
  },
  {
   "cell_type": "code",
   "execution_count": null,
   "metadata": {
    "collapsed": true
   },
   "outputs": [],
   "source": [
    "b = bins[-1]\n",
    "a = bins[0]\n",
    "array = (b - a) * np.random.random_sample(10) + a\n",
    "array[0] = 10.0"
   ]
  },
  {
   "cell_type": "code",
   "execution_count": null,
   "metadata": {
    "collapsed": false
   },
   "outputs": [],
   "source": [
    "index = (((array - a)/(b-a)) * 29).astype('int')"
   ]
  },
  {
   "cell_type": "code",
   "execution_count": null,
   "metadata": {
    "collapsed": false
   },
   "outputs": [],
   "source": [
    "print array\n",
    "print index"
   ]
  },
  {
   "cell_type": "code",
   "execution_count": 4,
   "metadata": {
    "collapsed": false
   },
   "outputs": [
    {
     "data": {
      "text/plain": [
       "0.16666666666666666"
      ]
     },
     "execution_count": 4,
     "metadata": {},
     "output_type": "execute_result"
    }
   ],
   "source": [
    "(15-10.)/30"
   ]
  },
  {
   "cell_type": "code",
   "execution_count": 3,
   "metadata": {
    "collapsed": false
   },
   "outputs": [
    {
     "name": "stdout",
     "output_type": "stream",
     "text": [
      "CPU times: user 13min 3s, sys: 7.36 s, total: 13min 10s\n",
      "Wall time: 13min 22s\n"
     ]
    }
   ],
   "source": [
    "%%time\n",
    "rhos     = [3.5, 3.0, 2.5]\n",
    "dc       = [1, 2, 3]                # Density cuts\n",
    "#models = ['G13']\n",
    "#type_cut = ['Stellar Mass/']\n",
    "models   = ['L16']\n",
    "type_cut = ['Stellar Mass/', 'SFR/']\n",
    "\n",
    "NBIN, lmax, lmin = 30, 15, 10.\n",
    "bin_width = ( lmax - lmin ) / NBIN\n",
    "\n",
    "for model in models:\n",
    "    \n",
    "    ab = model\n",
    "    model = ab + \"_millennium\"\n",
    "    path = \"/home/esteban/Escritorio/Practica/Data/\" + model\n",
    "    os.chdir( path )\n",
    "    \n",
    "    # Loading\n",
    "    x = np.load( 'x.npy' )\n",
    "    y = np.load( 'y.npy' )\n",
    "    z = np.load( 'z.npy' )\n",
    "    if ab == 'G13': halomass = np.log10( np.load( 'centralmvir.npy' ) + 1e-10 ) + 10\n",
    "    else: halomass = np.log10( np.load( 'mdhalo.npy' ) + 1e-10 ) + 10\n",
    "    type_gal = np.load( 'type.npy' )\n",
    "\n",
    "    idx = np.where( type_gal == 0 )[0] # Positions of the centrals\n",
    "\n",
    "    # Centrals Data\n",
    "    x_cen = x[idx]\n",
    "    y_cen = y[idx]\n",
    "    z_cen = z[idx]\n",
    "    halomass_cen = halomass[idx]\n",
    "    \n",
    "    del x, y, z, halomass\n",
    "    \n",
    "    for cut in type_cut:\n",
    "        \n",
    "        hod_path = path + '/hod_data/' + cut\n",
    "        cat_path = path + '/Catalogues/' + cut\n",
    "        os.chdir( cat_path )\n",
    "        \n",
    "        for k, rho in enumerate(rhos):\n",
    "    \n",
    "            # Loading HOD data\n",
    "            #hod_path = path + '/hod_data/' + cut\n",
    "            bins, HOD, Cent, Sats = np.loadtxt( hod_path + 'hod_%.1f' %rho, unpack = True )\n",
    "            bins = bins - bin_width * 0.5 # Move to original position\n",
    "\n",
    "            # Straight parameters equation\n",
    "            params = np.zeros((NBIN - 1, 2), dtype = np.float32)\n",
    "            for i in range( NBIN-1 ):\n",
    "                y1, y2 = HOD[i], HOD[i+1]\n",
    "                x1, x2 = bins[i], bins[i+1]\n",
    "                m = ( y2 - y1 ) / ( x2 - x1)\n",
    "                n = y1 - m * x1\n",
    "                params[i] = np.array([m, n])\n",
    "\n",
    "            mask = (halomass_cen >= bins[0]) & (halomass_cen <= bins[-1])\n",
    "            halomass_cen = halomass_cen[mask]\n",
    "            x_cen, y_cen, z_cen = x_cen[mask], y_cen[mask], z_cen[mask]\n",
    "\n",
    "            #%%time\n",
    "            mass_index = ((( halomass_cen - bins[0] ) / ( bins[-1] - bins[0] )) * (NBIN-1)).astype('int')\n",
    "            n_gal = np.zeros(len(halomass_cen))\n",
    "            for i in xrange(len(halomass_cen)):\n",
    "                index = mass_index[i]\n",
    "                m, n = params[index]\n",
    "                log_n_gal = m * halomass_cen[i] + n\n",
    "                n_gal[i] = 10**(log_n_gal)   \n",
    "\n",
    "            #%%time\n",
    "            nn_gal = np.zeros( len(n_gal) )\n",
    "            for i in xrange( len(n_gal) ):\n",
    "                n = n_gal[i]\n",
    "                dec = n % 1\n",
    "                rr = np.random.random_sample()\n",
    "                if rr <= dec: nn_gal[i] = int(n) + 1\n",
    "                else: nn_gal[i] = int(n)    \n",
    "            \n",
    "            del n_gal\n",
    "            #%%time\n",
    "            \n",
    "            j = 0\n",
    "            f = open('cat_d%i_fixed.txt' %(k+1), 'w')\n",
    "            \n",
    "            for i in xrange( len(x_cen) ):\n",
    "                n = nn_gal[i]\n",
    "                if n != 0:\n",
    "                    while j < n:\n",
    "                        print >> f, x_cen[i], y_cen[i], z_cen[i], halomass_cen[i]\n",
    "                        j += 1\n",
    "                    j = 0\n",
    "\n",
    "            f.close()        \n",
    "            data = np.loadtxt('cat_d%i_fixed.txt' %(k+1))\n",
    "            np.save('cat_d%i_fixed' %(k+1), data)         \n"
   ]
  },
  {
   "cell_type": "code",
   "execution_count": null,
   "metadata": {
    "collapsed": false
   },
   "outputs": [],
   "source": [
    "import numpy as np\n",
    "dec = 0.1 %1\n",
    "cont = 0\n",
    "for i in range(1000):\n",
    "    a = np.random.random_sample()\n",
    "    if a < dec:\n",
    "        cont += 1\n",
    "        #print a"
   ]
  },
  {
   "cell_type": "code",
   "execution_count": null,
   "metadata": {
    "collapsed": false
   },
   "outputs": [],
   "source": [
    "\"\"\"halo_mass = np.log10(np.load('mdhalo.npy') + 1e-10) + 10\n",
    "type_gal = np.load('type.npy')\n",
    "x = np.load('x.npy')\n",
    "y = np.load('y.npy')\n",
    "z = np.load('z.npy')\n",
    "\n",
    "logm_min, logm_max = 10,15.\n",
    "NBIN = 30\n",
    "bin_width = (logm_max - logm_min) / NBIN\n",
    "\n",
    "hod_path = path + '/hod_data/'\n",
    "data = np.load(hod_path + 'hod_stellarmass_1.5.npy')\n",
    "\n",
    "bins = data[:,0] - bin_width * 0.5\n",
    "HOD  = data[:,1]\n",
    "Cent = data[:,2]\n",
    "Sats = data[:,3]\n",
    "\n",
    "from scipy.interpolate import interp1d\n",
    "\n",
    "f = interp1d(bins, HOD)\n",
    "xnew = np.linspace(logm_min, logm_max - bin_width -0.01, num=50)\n",
    "plt.plot(bins, HOD, 'o', xnew, f(xnew), '-')\n",
    "plt.legend(['data', 'linear'], loc='best')\n",
    "\n",
    "mask = (halo_mass >= min(bins)) & (halo_mass < max(bins))\n",
    "halo_mass = halo_mass[mask]\n",
    "type_gal = type_gal[mask]\n",
    "x,y,z = x[mask] ,y[mask], z[mask]\n",
    "\n",
    "idx = np.where(type_gal == 0)[0]\n",
    "\n",
    "start_time = time.time()\n",
    "#Total_Len = 0\n",
    "LogN_array = np.zeros(len(idx))\n",
    "i = 0\n",
    "display_step = len(halo_mass[idx])/10\n",
    "\n",
    "for mass in halo_mass[idx]:\n",
    "    Log_N = f(mass)\n",
    "    dec = Log_N - int(Log_N)\n",
    "    rand = np.random.random_sample()\n",
    "    if rand <= dec: \n",
    "        Log_N += 1\n",
    "    LogN_array[i] = int(Log_N)    \n",
    "    #Total_Len += 10**(Log_N)\n",
    "    i += 1\n",
    "    if i % display_step == 0:\n",
    "        print \"Step: %i Time: %3fs\" % (i, (time.time() - start_time))\n",
    "\n",
    "Total_Len = np.sum(10**(LogN_array))        \n",
    "data = np.zeros((Total_Len, 3), dtype=np.float32)\n",
    "x_ = x[idx]\n",
    "y_ = y[idx]\n",
    "z_ = z[idx]    \n",
    "    \n",
    "i = 0\n",
    "while i < Total_Len:\n",
    "    x_cat = x_[i]\n",
    "    y_cat = y_[i]\n",
    "    z_cat = z_[i]\n",
    "    \n",
    "    N = 10**(LogN_array[i])\n",
    "    data[i] = np.array([x_cat, y_cat, z_cat])\n",
    "\"\"\"     "
   ]
  },
  {
   "cell_type": "code",
   "execution_count": null,
   "metadata": {
    "collapsed": true
   },
   "outputs": [],
   "source": []
  },
  {
   "cell_type": "code",
   "execution_count": null,
   "metadata": {
    "collapsed": true
   },
   "outputs": [],
   "source": []
  }
 ],
 "metadata": {
  "kernelspec": {
   "display_name": "Python 2",
   "language": "python",
   "name": "python2"
  },
  "language_info": {
   "codemirror_mode": {
    "name": "ipython",
    "version": 2
   },
   "file_extension": ".py",
   "mimetype": "text/x-python",
   "name": "python",
   "nbconvert_exporter": "python",
   "pygments_lexer": "ipython2",
   "version": "2.7.12"
  }
 },
 "nbformat": 4,
 "nbformat_minor": 1
}
