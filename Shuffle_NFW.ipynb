{
 "cells": [
  {
   "cell_type": "code",
   "execution_count": 1,
   "metadata": {
    "collapsed": true
   },
   "outputs": [],
   "source": [
    "# ========================================================================================\n",
    "# THIS CODE COMPUTES THE SHUFFLE CATALOGUE OF THE G13 SAM WITH STELLAR MASS SELECTION \n",
    "# USING A NFW HALO PROFILE. ALSO IT IS COMPUTED THE CORRELATION FUNCTION FOR THE DENSITY \n",
    "# CUT 2 SAMPLE. \n",
    "# ========================================================================================\n",
    "\n",
    "import numpy as np\n",
    "import random"
   ]
  },
  {
   "cell_type": "code",
   "execution_count": 2,
   "metadata": {
    "collapsed": false
   },
   "outputs": [],
   "source": [
    "log_centralmvir = np.log10(np.load('../Data/G13_millennium/centralmvir.npy') + 1e-10) + 10\n",
    "type_gal = np.load('../Data/G13_millennium/type.npy')\n",
    "fofid = np.load('../Data/G13_millennium/fofid.npy')\n",
    "stellarmass = np.load('../Data/G13_millennium/stellarmass.npy')\n",
    "#sfr = np.load('../Data/G13_millennium/sfr.npy')\n",
    "x = np.load('../Data/G13_millennium/x.npy')\n",
    "y = np.load('../Data/G13_millennium/y.npy')\n",
    "z = np.load('../Data/G13_millennium/z.npy')\n",
    "#r_vector = np.array([x,y,z]).T\n",
    "#del x,y,z"
   ]
  },
  {
   "cell_type": "code",
   "execution_count": 3,
   "metadata": {
    "collapsed": true
   },
   "outputs": [],
   "source": [
    "h = 0.73\n",
    "def r200 (logM):\n",
    "    t = (h*10**logM)**(1./3)\n",
    "    return  (1.63e-2) * t * 1e3 # pc/h\n",
    "        \n",
    "def conc (log_Mh,z):\n",
    "    c1 = 2e13\n",
    "    t1 = (10.**(log_Mh) /c1)**(-0.13)\n",
    "    return (11./(1+z)) * t1\n",
    "\n",
    "def delta_c (c):\n",
    "    return (200./3)* (c**3) /(np.log(1+c) -c/(1+c))\n",
    "\n",
    "def g(x):\n",
    "    return np.log(1+x) - x/(1+x)\n",
    "\n",
    "tt = np.argsort(fofid)\n",
    "fofid = fofid[tt]\n",
    "log_centralmvir = log_centralmvir[tt]\n",
    "stellarmass = stellarmass[tt]\n",
    "type_gal = type_gal[tt]\n",
    "x = x[tt]\n",
    "y = y[tt]\n",
    "z = z[tt]\n",
    "\n",
    "idx_cen = np.where(type_gal == 0)[0]\n",
    "halomass_cen = log_centralmvir[idx_cen]\n",
    "fo,ngal = np.unique(fofid, return_counts=True)\n",
    "del fo, log_centralmvir, type_gal\n",
    "\n",
    "x_cen = x[idx_cen]\n",
    "y_cen = y[idx_cen]\n",
    "z_cen = z[idx_cen]\n",
    "del x,y,z\n",
    "#del idx_cen\n",
    "\n",
    "import time\n",
    "from scipy.interpolate import UnivariateSpline\n",
    "start_time = time.time()\n",
    "\n",
    "NGAL = np.sum(ngal)\n",
    "stellarmass_shuffle = np.zeros(NGAL)\n",
    "stellarmass_shuffle[idx_cen] = stellarmass[idx_cen] \n",
    "type_gal = np.ones(NGAL, dtype=np.int16)\n",
    "\n",
    "i = 0\n",
    "for n in ngal:\n",
    "    type_gal[i] = 0\n",
    "    i += n"
   ]
  },
  {
   "cell_type": "code",
   "execution_count": null,
   "metadata": {
    "collapsed": true
   },
   "outputs": [],
   "source": [
    "h = 0.73\n",
    "def r200 (logM):\n",
    "    t = (h*10**logM)**(1./3)\n",
    "    return  (1.63e-2) * t * 1e3 # pc/h\n",
    "        \n",
    "def conc (log_Mh,z):\n",
    "    c1 = 2e13\n",
    "    t1 = (10.**(log_Mh) /c1)**(-0.13)\n",
    "    return (11./(1+z)) * t1\n",
    "\n",
    "def delta_c (c):\n",
    "    return (200./3)* (c**3) /(np.log(1+c) -c/(1+c))\n",
    "\n",
    "def g(x):\n",
    "    return np.log(1+x) - x/(1+x)\n",
    "\n",
    "tt = np.argsort(fofid)\n",
    "fofid = fofid[tt]\n",
    "log_centralmvir = log_centralmvir[tt]\n",
    "stellarmass = stellarmass[tt]\n",
    "type_gal = type_gal[tt]\n",
    "x = x[tt]\n",
    "y = y[tt]\n",
    "z = z[tt]\n",
    "\n",
    "idx_cen = np.where(type_gal == 0)[0]\n",
    "halomass_cen = log_centralmvir[idx_cen]\n",
    "fo,ngal = np.unique(fofid, return_counts=True)\n",
    "del fo, log_centralmvir,\n",
    "\n",
    "x_cen = x[idx_cen]\n",
    "y_cen = y[idx_cen]\n",
    "z_cen = z[idx_cen]\n",
    "del x,y,z\n",
    "#del idx_cen\n",
    "\n",
    "import time\n",
    "from scipy.interpolate import UnivariateSpline\n",
    "start_time = time.time()\n",
    "\n",
    "NGAL = np.sum(ngal)\n",
    "stellarmass_shuffle = np.zeros(NGAL)\n",
    "stellarmass_shuffle[idx_cen] = stellarmass[idx_cen] \n",
    "\n",
    "#i = 0\n",
    "#for n in ngal:\n",
    "#    type_gal[i] = 0\n",
    "#    i += n\n",
    "\n",
    "display_step = NGAL/1000\n",
    "\n",
    "cat_data = np.zeros((NGAL,4), dtype=np.float32)\n",
    "NHALOS = len(halomass_cen)\n",
    "i,j = 0,0\n",
    "\n",
    "# FALTA AGREGAR SI SON SATELITES O NO\n",
    "while i < NHALOS:\n",
    "    \n",
    "    if i % display_step == 0:\n",
    "        print \"Step: %i Time: %3fs\" % (i, (time.time() - start_time))\n",
    "    \n",
    "    halo_ngal = ngal[i]\n",
    "    cat_data[j] = np.array([x_cen[i], y_cen[i], z_cen[i],halomass_cen[i]])\n",
    "    j += 1\n",
    "    \n",
    "    if halo_ngal == 1:\n",
    "        i += 1\n",
    "        continue\n",
    "    \n",
    "    else:\n",
    "        c = 13.981 #conc(halomass_cen[i], 0)\n",
    "        x0 = np.linspace(1e-5,1,10)\n",
    "        y0 = np.zeros(10)\n",
    "        for k in range(len(x0)):\n",
    "            r_norm0 = 1e-10\n",
    "            cmf0 = g(c*r_norm0)/g(c)\n",
    "            while x0[k] > cmf0:\n",
    "                r_norm0 += 0.01\n",
    "                cmf0 = g(c*r_norm0)/g(c) \n",
    "            y0[k] = r_norm0    \n",
    "\n",
    "        spl = UnivariateSpline(x0, y0)\n",
    "        rr = np.random.random_sample(halo_ngal-1)\n",
    "        r_norm = spl(rr)\n",
    "\n",
    "        r = r_norm * r200(halomass_cen[i])\n",
    "        phi = np.random.random_sample(halo_ngal-1) * 2*np.pi\n",
    "        theta = np.random.random_sample(halo_ngal-1) * np.pi\n",
    "\n",
    "        X = r*np.sin(theta)*np.cos(phi)\n",
    "        Y = r*np.sin(theta)*np.sin(phi)\n",
    "        Z = r*np.cos(theta)\n",
    "\n",
    "        x_sat = x_cen[i] + X/1e6\n",
    "        y_sat = y_cen[i] + Y/1e6\n",
    "        z_sat = z_cen[i] + Z/1e6\n",
    "        \n",
    "        halomass_array = np.ones(len(x_sat))*halomass_cen[i]\n",
    "\n",
    "        #fn = j + halo_ngal\n",
    "        cat_data[j+1:(j+1) +(halo_ngal-1),:] = np.array([x_sat, y_sat, z_sat, halomass_array]).T\n",
    "        stellarmass_shuffle[j:fn] = stellarmass[j:fn]\n",
    "\n",
    "        j += halo_ngal\n",
    "        i += 1\n",
    "        #if i % display_step == 0:\n",
    "        #    print \"Step: %i Time: %3fs\" % (i, (time.time() - start_time))\n",
    "        \n",
    "del r_norm, r, phi,theta,X,Y,Z,x_sat,y_sat,z_sat\n",
    "del x_cen,y_cen,z_cen\n",
    "del halomass_cen, halomass_array, stellarmass"
   ]
  },
  {
   "cell_type": "code",
   "execution_count": null,
   "metadata": {
    "collapsed": false
   },
   "outputs": [],
   "source": [
    "np.save('../Data/G13_millennium/cat_data.npy',cat_data)\n",
    "np.save('../Data/G13_millennium/stellarmass_shuffle_nfw2.npy', stellarmass_shuffle)\n"
   ]
  },
  {
   "cell_type": "code",
   "execution_count": 27,
   "metadata": {
    "collapsed": false
   },
   "outputs": [],
   "source": [
    "import numpy as np\n",
    "data = np.load('../Data/G13_millennium/cat_data.npy')\n",
    "#stellar = np.load('../Data/G13_millennium/stellarmass_shuffle_nfw2.npy')\n",
    "\n",
    "logm_min = 10.\n",
    "logm_max = 15.\n",
    "NBIN = 60\n",
    "mass_index = ((data[:,3] - logm_min)/(logm_max - logm_min) * NBIN).astype(int)\n",
    "mask = (mass_index >= 0) & (mass_index < NBIN)\n",
    "type_gall = type_gal[mask]"
   ]
  },
  {
   "cell_type": "code",
   "execution_count": 38,
   "metadata": {
    "collapsed": false
   },
   "outputs": [],
   "source": [
    "data2 = np.concatenate((data2,np.array([type_gall]).T),axis=1)"
   ]
  },
  {
   "cell_type": "code",
   "execution_count": 45,
   "metadata": {
    "collapsed": false
   },
   "outputs": [
    {
     "data": {
      "text/plain": [
       "array([0, 1, 1, ..., 0, 0, 0], dtype=int16)"
      ]
     },
     "execution_count": 45,
     "metadata": {},
     "output_type": "execute_result"
    }
   ],
   "source": [
    "type_gall"
   ]
  },
  {
   "cell_type": "code",
   "execution_count": 53,
   "metadata": {
    "collapsed": false
   },
   "outputs": [
    {
     "data": {
      "text/plain": [
       "44962"
      ]
     },
     "execution_count": 53,
     "metadata": {},
     "output_type": "execute_result"
    }
   ],
   "source": [
    "np.where(type_gall == 0)[0][15]"
   ]
  },
  {
   "cell_type": "code",
   "execution_count": 56,
   "metadata": {
    "collapsed": false
   },
   "outputs": [
    {
     "data": {
      "text/plain": [
       "array([[ 266.09606934,  170.43177795,  393.21588135,   14.94154072,    1.        ],\n",
       "       [ 266.83178711,  171.47796631,  392.77844238,   14.94154072,    1.        ],\n",
       "       [ 266.35507202,  169.75010681,  391.68249512,   14.94154072,    1.        ],\n",
       "       [ 435.36685181,   69.44320679,  468.72521973,   14.85103416,    0.        ],\n",
       "       [ 435.32977295,   69.48150635,  468.92053223,   14.88376522,    1.        ],\n",
       "       [ 435.49151611,   69.57315063,  469.18405151,   14.88376522,    1.        ],\n",
       "       [ 435.4574585 ,   69.27435303,  468.91036987,   14.88376522,    1.        ],\n",
       "       [ 435.86566162,   69.65499878,  469.25320435,   14.88376522,    1.        ],\n",
       "       [ 434.70303345,   69.60211182,  467.83303833,   14.88376522,    1.        ],\n",
       "       [ 435.33618164,   69.4201355 ,  468.70831299,   14.88376522,    1.        ],\n",
       "       [ 435.19104004,   69.16967773,  468.99679565,   14.88376522,    1.        ],\n",
       "       [ 435.43859863,   70.30209351,  468.33898926,   14.88376522,    1.        ],\n",
       "       [ 435.66271973,   68.82067871,  468.83792114,   14.88376522,    1.        ]], dtype=float32)"
      ]
     },
     "execution_count": 56,
     "metadata": {},
     "output_type": "execute_result"
    }
   ],
   "source": [
    "data2[44959:44972]"
   ]
  },
  {
   "cell_type": "code",
   "execution_count": 34,
   "metadata": {
    "collapsed": false
   },
   "outputs": [
    {
     "data": {
      "text/plain": [
       "array([[1, 2, 5],\n",
       "       [3, 4, 6]])"
      ]
     },
     "execution_count": 34,
     "metadata": {},
     "output_type": "execute_result"
    }
   ],
   "source": [
    "a = np.array([[1,2],[3,4]])\n",
    "b = np.array([[5,6]])\n",
    "np.concatenate((a,b.T), axis=1)"
   ]
  },
  {
   "cell_type": "code",
   "execution_count": null,
   "metadata": {
    "collapsed": false
   },
   "outputs": [],
   "source": [
    "cen_pos = np.zeros(NGAL,dtype=np.int16)\n",
    "i,j = 0,0\n",
    "while i < NGAL:\n",
    "    cen_pos[i] = 1\n",
    "    i += ngal[j]\n",
    "    j += 1"
   ]
  },
  {
   "cell_type": "code",
   "execution_count": null,
   "metadata": {
    "collapsed": false
   },
   "outputs": [],
   "source": [
    "mask = (mass_index >= 0) & (mass_index < NBIN)\n",
    "mass_index = mass_index[mask]        # mass indexes in interest region\n",
    "cen_pos = cen_pos[mask]              # position of centrals in interest regions\n",
    "idx_cen = np.where(cen_pos != 0)[0]\n",
    "mass_index_cen = mass_index[idx_cen] # mass index of center galaxies\n",
    "stellarmass_shuffle = stellarmass_shuffle[mask]\n",
    "np.save('../Data/G13_millennium/stellarmass_shuffle_nfw2.npy', stellarmass_shuffle)\n",
    "\n",
    "TOT = len(mass_index) # number of galaxies\n",
    "del mass_index, cen_pos, stellarmass_shuffle\n",
    "fofid = fofid[mask]\n",
    "cat_data = cat_data[mask]\n",
    "#sfr = sfr[mask]\n",
    "\n",
    "del mask"
   ]
  },
  {
   "cell_type": "code",
   "execution_count": null,
   "metadata": {
    "collapsed": false
   },
   "outputs": [],
   "source": [
    "%%time\n",
    "N,j,k = 0,0,0\n",
    "V = np.zeros((TOT,3))\n",
    "len_data = TOT\n",
    "\n",
    "for i in range(NBIN):\n",
    "    central_positions = idx_cen[mass_index_cen == i]#np.where((type_gal == 0) & (mass_index == i))[0]\n",
    "    num_halos = len(central_positions)\n",
    "    shuffled_pos = np.array(random.sample(central_positions, num_halos))\n",
    "    for j in range(num_halos):\n",
    "        \n",
    "        pos_i = shuffled_pos[j]\n",
    "        init_mass = cat_data[shuffled_pos[0]]\n",
    "        if j == num_halos - 1: \n",
    "            pos_f = shuffled_pos[0]\n",
    "            cat_data[pos_i][3] = init_mass\n",
    "        \n",
    "        else: \n",
    "            pos_f = shuffled_pos[j+1]\n",
    "            cat_data[pos_i][3] = cat_data[pos_f][3]\n",
    "            \n",
    "        v_dir = cat_data[pos_f][:3] - cat_data[pos_i][:3]     \n",
    "        cond = True\n",
    "\n",
    "        while cond:\n",
    "            V[pos_i + N] = v_dir \n",
    "            N += 1  # Recorre el halo\n",
    "            if pos_i + N == len_data: break\n",
    "            cond = (fofid[pos_i+N] == fofid[pos_i])\n",
    "            k += 1 # Recorre todas las galaxias\n",
    "            \n",
    "        N = 0\n",
    "    "
   ]
  },
  {
   "cell_type": "code",
   "execution_count": null,
   "metadata": {
    "collapsed": false
   },
   "outputs": [],
   "source": [
    "%%time\n",
    "def isout (r,vr):\n",
    "    if r + vr < 0:\n",
    "        return 1\n",
    "    elif r + vr > 500: \n",
    "        return -1\n",
    "    else:\n",
    "        return 0\n",
    "\n",
    "Lbox = 500.    \n",
    "for i in range(len_data):\n",
    "    \n",
    "    x,y,z = cat_data[i,:3]\n",
    "    dx,dy,dz  = V[i]\n",
    "\n",
    "    cat_data[i][0] = x + dx + isout(x,dx)*Lbox\n",
    "    cat_data[i][1] = y + dy + isout(y,dy)*Lbox\n",
    "    cat_data[i][2] = z + dz + isout(z,dz)*Lbox\n",
    "    \n",
    "del V    "
   ]
  },
  {
   "cell_type": "code",
   "execution_count": null,
   "metadata": {
    "collapsed": false
   },
   "outputs": [],
   "source": [
    "np.save('../Data/G13_millennium/SAM_shuffle_nfw.npy', cat_data)"
   ]
  },
  {
   "cell_type": "code",
   "execution_count": 16,
   "metadata": {
    "collapsed": false
   },
   "outputs": [
    {
     "data": {
      "text/plain": [
       "(26909106, 26909106, 27365836)"
      ]
     },
     "execution_count": 16,
     "metadata": {},
     "output_type": "execute_result"
    }
   ],
   "source": [
    "len(stellar),len(data),len(type_gal)"
   ]
  },
  {
   "cell_type": "code",
   "execution_count": null,
   "metadata": {
    "collapsed": false
   },
   "outputs": [],
   "source": [
    "import numpy as np\n",
    "import corr_function\n",
    "import matplotlib.pyplot as plt\n",
    "\n",
    "model = 'G13_millennium'\n",
    "path = \"/home/esteban/Escritorio/Esteban HOD/Data/\" + model\n",
    "#r = np.load(path + '/r_nfw.npy')\n",
    "\n",
    "x = cat_data[:,0].astype('float64')\n",
    "y = cat_data[:,1].astype('float64')\n",
    "z = cat_data[:,2].astype('float64')\n",
    "\n",
    "DD, RR = corr_function.xi_ll(x,y,z,'Mstell', 2, path,Shuffle = True )"
   ]
  },
  {
   "cell_type": "code",
   "execution_count": null,
   "metadata": {
    "collapsed": false
   },
   "outputs": [],
   "source": [
    "Dmin = -2  \n",
    "Dmax = 2. \n",
    "NBIN = 40\n",
    "Bw = (Dmax - Dmin)/NBIN\n",
    "bins = np.array([Dmin + Bw*i for i in range(NBIN)]) + Bw*0.5\n",
    "\n",
    "model = 'G13_millennium'\n",
    "xi_path_shuffle = \"../Data/\" + model + '/xi_sam' + '/Shuffle' + '/Stellar Mass'\n",
    "np.savetxt(xi_path_shuffle + '/xi_shuffle_d2_nfw2.txt', np.array([bins, xi, DD, RR]).T) "
   ]
  },
  {
   "cell_type": "code",
   "execution_count": null,
   "metadata": {
    "collapsed": false
   },
   "outputs": [],
   "source": [
    "xi = DD/RR - 1 \n",
    "logxi = np.log10(xi)\n",
    "\n",
    "plt.plot(bins, logxi, 'k-')\n",
    "plt.show()"
   ]
  },
  {
   "cell_type": "code",
   "execution_count": null,
   "metadata": {
    "collapsed": true
   },
   "outputs": [],
   "source": []
  }
 ],
 "metadata": {
  "kernelspec": {
   "display_name": "Python 2",
   "language": "python",
   "name": "python2"
  },
  "language_info": {
   "codemirror_mode": {
    "name": "ipython",
    "version": 2
   },
   "file_extension": ".py",
   "mimetype": "text/x-python",
   "name": "python",
   "nbconvert_exporter": "python",
   "pygments_lexer": "ipython2",
   "version": "2.7.12"
  }
 },
 "nbformat": 4,
 "nbformat_minor": 1
}
