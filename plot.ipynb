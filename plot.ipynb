{
 "cells": [
  {
   "cell_type": "code",
   "execution_count": 5,
   "metadata": {
    "collapsed": false
   },
   "outputs": [],
   "source": [
    "import numpy as np\n",
    "import matplotlib.pyplot as plt\n",
    "from matplotlib import rc\n",
    "import plot\n",
    "import os\n",
    "rc('text', usetex=True)\n",
    "rc('font', family='serif')"
   ]
  },
  {
   "cell_type": "code",
   "execution_count": 6,
   "metadata": {
    "collapsed": false
   },
   "outputs": [
    {
     "name": "stdout",
     "output_type": "stream",
     "text": [
      "entre al else\n"
     ]
    },
    {
     "name": "stderr",
     "output_type": "stream",
     "text": [
      "plot.py:94: RuntimeWarning: invalid value encountered in log10\n",
      "  logxi_sam, logxi_mock, logxi_shuff = np.log10(xi_sam), np.log10(xi_mock), np.log10(xi_shuffle)\n"
     ]
    }
   ],
   "source": [
    "# ===================== CORRELATION FUNCTION =========================================\n",
    "model = 'G13'\n",
    "density_cut = 4\n",
    "type_cut = ['Mstell', 'SFR']\n",
    "plot.xi(model, density_cut, type_cut, Mock=True, Shuffle=True)"
   ]
  },
  {
   "cell_type": "code",
   "execution_count": null,
   "metadata": {
    "collapsed": true
   },
   "outputs": [],
   "source": [
    "data = np.load('../Data/G13_millennium/r.npy')"
   ]
  },
  {
   "cell_type": "code",
   "execution_count": null,
   "metadata": {
    "collapsed": true
   },
   "outputs": [],
   "source": [
    "x = data[:,0]\n",
    "y = data[:,1]\n",
    "z = data[:,2]"
   ]
  },
  {
   "cell_type": "code",
   "execution_count": null,
   "metadata": {
    "collapsed": false
   },
   "outputs": [],
   "source": [
    "len(np.where((z < 0) | (z > 500))[0])"
   ]
  },
  {
   "cell_type": "code",
   "execution_count": null,
   "metadata": {
    "collapsed": false
   },
   "outputs": [],
   "source": [
    "# ====================== HALO MASS FUNCTION =========================================\n",
    "import glob as G\n",
    "prop = ['r-', 'b-', 'k-']\n",
    "ab = ['G13', 'GP14', 'L16']\n",
    "f = plt.figure()\n",
    "for i,ab in enumerate(ab):\n",
    "    model = ab + \"_millennium\"\n",
    "    path = \"/home/esteban/Escritorio/Practica/Data/\" + model\n",
    "    os.chdir( path )\n",
    "    bins, hmf = np.loadtxt(G.glob('hmf*')[0], unpack=True)\n",
    "    if ab == 'GP14' or ab == 'L16':\n",
    "        plt.plot(bins[3:], hmf[3:], prop[i], lw = .5, label = ab)\n",
    "        continue\n",
    "    plt.plot(bins, hmf, prop[i], lw = .5, label = ab)\n",
    "    \n",
    "plt.yscale('log')\n",
    "plt.xlim(10,15)\n",
    "plt.ylim(1e-7, 1e-1)\n",
    "plt.ylabel(r\"$n/h^3 Mpc^{-3}$\", fontsize = 12 )\n",
    "plt.xlabel(r\"$log(M_h / h^{-1}M_{\\odot})$\", fontsize = 12) \n",
    "plt.legend(loc='upper right', frameon = False, prop={'size':10})\n",
    "path = \"/home/esteban/Escritorio/Practica/Plots\"\n",
    "os.chdir( path )\n",
    "f.savefig(\"hmf.pdf\") "
   ]
  },
  {
   "cell_type": "code",
   "execution_count": null,
   "metadata": {
    "collapsed": false
   },
   "outputs": [],
   "source": [
    "# ======================== TEST OF ASUMPTION ========================================\n",
    "type_cut = int(raw_input(\"Type cut\\n Stellarmass: 1\\n SFR: 2\\n Choice: \"))\n",
    "if type_cut == 1: type_cut = 'smass'\n",
    "else: type_cut = 'sfr'\n",
    "bins,ICS1, ACS1 = np.loadtxt('test_assumption_%s_2.5' %type_cut, unpack=True)\n",
    "bins,ICS2, ACS2 = np.loadtxt('test_assumption_%s_2.0' %type_cut, unpack=True)\n",
    "bins,ICS3, ACS3 = np.loadtxt('test_assumption_%s_1.5' %type_cut, unpack=True)\n",
    "rho1, rho2, rho3 = -2.5, -2.0, -1.5\n",
    "\n",
    "f, ax = plt.subplots(ncols = 2, figsize =[10,5])\n",
    "\n",
    "ax[0].plot(bins, ICS1, 'b-', label = r\"$<N_{Cen}><N_{Sat}>$\")\n",
    "ax[0].plot(bins, ACS1, 'r--', label = r\"$<N_{Cen}N_{Sat}>$\")\n",
    "ax[0].plot(bins, ICS2, 'b-',)\n",
    "ax[0].plot(bins, ACS2, 'r--',)\n",
    "ax[0].plot(bins, ICS3, 'b-',)\n",
    "ax[0].plot(bins, ACS3, 'r--',)\n",
    "ax[0].axhline(y= 10**(-1.5), color = 'black', linestyle = '--', lw = .5)\n",
    "ax[0].set_xlim(10.5,15)\n",
    "ax[0].set_yscale('log')\n",
    "ax[0].set_ylim(1e-3, 1e3)\n",
    "ax[0].set_xlabel(r\"$log(M_h / h^{-1}M_{\\odot})$\", fontsize = 12)\n",
    "ax[0].set_ylabel(r\"$<N_{Cen}><N_{Sat}>, <N_{Cen}N_{Sat}>$\", fontsize = 12)\n",
    "ax[0].legend(loc = 'upper left',title = r\"\\large{G13}\", frameon = False, prop={'size':12})\n",
    "\n",
    "mask1 = ICS1 > 10**(-1.5)\n",
    "mask2 = ICS2 > 10**(-1.5)\n",
    "mask3 = ICS3 > 10**(-1.5)\n",
    "bins1 = bins[mask1]\n",
    "bins2 = bins[mask2]\n",
    "bins3 = bins[mask3]\n",
    "\n",
    "ACS1, ACS2, ACS3 = ACS1 + 1e-10, ACS2 + 1e-10, ACS3 + 1e-10\n",
    "div1 = ICS1[mask1]/ACS1[mask1]\n",
    "div2 = ICS2[mask2]/ACS2[mask2]\n",
    "div3 = ICS3[mask3]/ACS3[mask3]\n",
    "div = np.array([div1, div2, div3])\n",
    "\n",
    "#tp = ['c-', 'c-', 'c-']\n",
    "rho = [rho1, rho2, rho3]\n",
    "ax[1].axhline(y=1, color='black', linestyle='--', lw=.4)\n",
    "ax[1].plot(bins1, div1, 'c-', label = r\"$n=10^{%.1f}/h^{-3}Mpc^3$\" %rho1)\n",
    "ax[1].plot(bins2, div2, 'm-', label = r\"$n=10^{%.1f}/h^{-3}Mpc^3$\" %rho2)\n",
    "ax[1].plot(bins3, div3, 'g-', label = r\"$n=10^{%.1f}/h^{-3}Mpc^3$\" %rho3)\n",
    "\n",
    "\n",
    "#ax[1].set_yscale('log')\n",
    "#ax[1].set_ylim(1e-2,1e2)\n",
    "ax[1].set_xlim(10.5,15)\n",
    "ax[1].set_xlabel(r\"$log(M_h / h^{-1}M_{\\odot})$\", fontsize = 12)\n",
    "ax[1].set_ylabel(r\"$<N_{Cen}><N_{Sat}>/<N_{Cen}N_{Sat}>$\", fontsize = 12)\n",
    "ax[1].legend(loc='best', frameon=False)\n",
    "#ax[1].annotate(r\"\\large{\\textbf{%s}}\" %ab, xy=(0.06,0.1), xycoords='axes fraction' )\n",
    "    \n",
    "    \n",
    "f.tight_layout()\n",
    "f.savefig(\"Test_Assumption_%s.pdf\" %type_cut)\n"
   ]
  },
  {
   "cell_type": "code",
   "execution_count": null,
   "metadata": {
    "collapsed": true
   },
   "outputs": [],
   "source": [
    "# ================================ CSMF or CSMASS ==========================================\n",
    "import glob as G\n",
    "prop = ['r-', 'b-', 'k-']\n",
    "ab = ['G13', 'GP14', 'L16']\n",
    "f = plt.figure()\n",
    "for i,ab in enumerate(ab):\n",
    "    model = ab + \"_millennium\"\n",
    "    path = \"/home/esteban/Escritorio/Practica/Data/\" + model\n",
    "    os.chdir( path )\n",
    "    bins, CF = np.loadtxt(G.glob('CSFR*.txt')[0], unpack=True)\n",
    "    plt.plot(bins, CF, prop[i], lw = .5, label = ab)\n",
    "    \n",
    "plt.xlim(-3.5, 2)\n",
    "plt.ylim(-5.5,0)\n",
    "#plt.xlim(6.5, 11.5)\n",
    "#plt.ylim(-4,0)\n",
    "\n",
    "plt.xlabel(r\"$\\log(SFR/M_{\\odot}Yr^{-1}$)\", fontsize = 12)\n",
    "plt.ylabel(r\"$\\log(Ngal (> x)/h^3 Mpc^{-3})$ \", fontsize = 12)\n",
    "#plt.xlabel(r\"$\\log(M_{*} / h^{-1}M_{\\odot})$\", fontsize = 12)\n",
    "#plt.ylabel(r\"$\\log(Ngal (> x) /h^{3} Mpc^{-3})$ \", fontsize = 12)\n",
    "\n",
    "plt.legend(loc='upper right', frameon = False, prop={'size':10})\n",
    "path = \"/home/esteban/Escritorio/Practica/Plots\"\n",
    "os.chdir( path )\n",
    "f.savefig(\"CSFR.pdf\")"
   ]
  },
  {
   "cell_type": "code",
   "execution_count": null,
   "metadata": {
    "collapsed": true
   },
   "outputs": [],
   "source": []
  }
 ],
 "metadata": {
  "kernelspec": {
   "display_name": "Python 2",
   "language": "python",
   "name": "python2"
  },
  "language_info": {
   "codemirror_mode": {
    "name": "ipython",
    "version": 2
   },
   "file_extension": ".py",
   "mimetype": "text/x-python",
   "name": "python",
   "nbconvert_exporter": "python",
   "pygments_lexer": "ipython2",
   "version": "2.7.12"
  }
 },
 "nbformat": 4,
 "nbformat_minor": 1
}
