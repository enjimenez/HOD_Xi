{
 "cells": [
  {
   "cell_type": "code",
   "execution_count": 1,
   "metadata": {
    "collapsed": true
   },
   "outputs": [],
   "source": [
    "import numpy as np\n",
    "import time\n",
    "import matplotlib.pyplot as plt\n",
    "import os"
   ]
  },
  {
   "cell_type": "code",
   "execution_count": 2,
   "metadata": {
    "collapsed": false
   },
   "outputs": [],
   "source": [
    "path = \"/home/esteban/Escritorio/Practica/Data/G13_millennium\" # Guo2013 \n",
    "#path = \"/home/esteban/Escritorio/Practica/Data/G14_millennium\" # Gonzalez2014 \n",
    "#path = \"/home/esteban/Escritorio/Practica/Data/L16_millennium\" # Lacey2016 \n",
    "os.chdir( path )"
   ]
  },
  {
   "cell_type": "code",
   "execution_count": 8,
   "metadata": {
    "collapsed": true
   },
   "outputs": [],
   "source": [
    "halos_data = np.load('halos_sfrcut_2.0.npy')\n",
    "\n",
    "All = halos_data[:,2]                  # Num of Cent //\n",
    "mask = All == 0\n",
    "\n",
    "fofid = halos_data[:,0][~mask]         # fofid of the halo\n",
    "logmass = halos_data[:,1][~mask]       # Halo's log mass\n",
    "All = All[~mask]                       # Num of galaxies in the halo\n",
    "Cent = halos_data[:,3][~mask]          # Num of Cent //\n",
    "Sats = halos_data[:,4][~mask]          # Num of Sats //\n",
    "x = halos_data[:,5][~mask]             # Halo x-position "
   ]
  },
  {
   "cell_type": "code",
   "execution_count": 10,
   "metadata": {
    "collapsed": true
   },
   "outputs": [],
   "source": [
    "NJACK = 10\n",
    "x_min, x_max = 1e-5, 500.\n",
    "Ngal = np.zeros(10)\n",
    "\n",
    "labels = ((x - x_min)/(x_max - x_min) * NJACK).astype(int)\n",
    "for i in xrange(len(fofid)):\n",
    "    index = labels[i]\n",
    "    Ngal[index] += All[i]"
   ]
  },
  {
   "cell_type": "code",
   "execution_count": 11,
   "metadata": {
    "collapsed": false
   },
   "outputs": [
    {
     "name": "stdout",
     "output_type": "stream",
     "text": [
      "CPU times: user 0 ns, sys: 0 ns, total: 0 ns\n",
      "Wall time: 131 µs\n"
     ]
    }
   ],
   "source": [
    "%%time\n",
    "def Jackknife_var (x_array, x_mean):\n",
    "    var = 0\n",
    "    for i in range(len(x_array)):\n",
    "        var += (x_array[i] - x_mean)**2\n",
    "    return var  \n",
    "\n",
    "Jk = np.zeros(NJACK)\n",
    "Var_Jk = np.zeros(NJACK)\n",
    "All_gal = np.sum(Ngal)\n",
    "for i in range(NJACK):\n",
    "    Jk[i] = (All_gal - Ngal[i])/(NJACK-1)\n",
    "    if i == NJACK-1:\n",
    "        Jk_mean = np.sum(Jk)/NJACK\n",
    "        Var_Jk = Jackknife_var(Jk, Jk_mean)\n",
    "        \n",
    "# TO DO:\n",
    "# Done! /Check All array in hod_2 code!\n",
    "# Remember delete halos without Centrals! PROBLEM: ALMOST ALL CENTRALS ARE DELETED ##############\n",
    "# Done! /Make a form to calculate mean for all \n",
    "# Done! /Finish the code"
   ]
  },
  {
   "cell_type": "code",
   "execution_count": null,
   "metadata": {
    "collapsed": true
   },
   "outputs": [],
   "source": []
  }
 ],
 "metadata": {
  "kernelspec": {
   "display_name": "Python 2",
   "language": "python",
   "name": "python2"
  },
  "language_info": {
   "codemirror_mode": {
    "name": "ipython",
    "version": 2
   },
   "file_extension": ".py",
   "mimetype": "text/x-python",
   "name": "python",
   "nbconvert_exporter": "python",
   "pygments_lexer": "ipython2",
   "version": "2.7.12"
  }
 },
 "nbformat": 4,
 "nbformat_minor": 1
}
