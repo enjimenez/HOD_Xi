{
 "cells": [
  {
   "cell_type": "code",
   "execution_count": null,
   "metadata": {
    "collapsed": false
   },
   "outputs": [],
   "source": [
    "import numpy as np\n",
    "import matplotlib.pyplot as plt\n",
    "from matplotlib import rc\n",
    "import os\n",
    "rc('text', usetex=True)\n",
    "rc('font', family='serif')\n",
    "% matplotlib inline"
   ]
  },
  {
   "cell_type": "code",
   "execution_count": null,
   "metadata": {
    "collapsed": false
   },
   "outputs": [],
   "source": [
    "ab = str(raw_input(\"Model: \"))\n",
    "model = ab + \"_millennium\"\n",
    "path = \"/home/esteban/Escritorio/Practica/Data/\" + model\n",
    "os.chdir( path )"
   ]
  },
  {
   "cell_type": "code",
   "execution_count": null,
   "metadata": {
    "collapsed": true
   },
   "outputs": [],
   "source": [
    "halos_data = np.load('halos_masscut_2.0.npy')\n",
    "\n",
    "fofid = halos_data[:,0]         # Halo's fofid\n",
    "logmass = halos_data[:,1]       # Halo's log mass\n",
    "All = halos_data[:,2]           # Num of galaxies in the halo\n",
    "Cent = halos_data[:,3]          # Num of Cent //\n",
    "Sats = halos_data[:,4]          # Num of Sats //\n",
    "x = halos_data[:,5]             # Halo x-position "
   ]
  },
  {
   "cell_type": "code",
   "execution_count": null,
   "metadata": {
    "collapsed": false
   },
   "outputs": [],
   "source": [
    "hod_data= np.load('hod_masscut_2.0.npy')\n",
    "bins = hod_data[:,0]\n",
    "HOD = hod_data[:,1]\n",
    "Cent_plot = hod_data[:,2]\n",
    "Sats_plot = hod_data[:,3]\n",
    "Dmin, Dmax = 10,15.\n",
    "NBIN = 30\n",
    "bin_width = (Dmax-Dmin)/NBIN\n",
    "bins_left = bins - bin_width *.5\n",
    "# bins[15], HOD[15] ############### punto a analizar"
   ]
  },
  {
   "cell_type": "code",
   "execution_count": null,
   "metadata": {
    "collapsed": false
   },
   "outputs": [],
   "source": [
    "bins_left"
   ]
  },
  {
   "cell_type": "code",
   "execution_count": null,
   "metadata": {
    "collapsed": false
   },
   "outputs": [],
   "source": [
    "mask1 = (logmass > bins_left[14]) & (logmass < bins_left[15])\n",
    "mask2 = (logmass > bins_left[-3]) & (logmass < bins_left[-2])"
   ]
  },
  {
   "cell_type": "code",
   "execution_count": null,
   "metadata": {
    "collapsed": false
   },
   "outputs": [],
   "source": [
    "# eliminar los ceros es consistente, solo estoy analizando halos que cumplen con el criterio de masa (hacerlo tambien para sfr)\n",
    "All_mask1, All_mask2 = All[mask1], All[mask2]\n",
    "#Cent_mask1, Cent_mask2 = Cent[mask1], Cent[mask2]\n",
    "Sats_mask1, Sats_mask2 = Sats[mask1], Sats[mask2]\n",
    "\n",
    "mask_zeros1, mask_zeros2 = All_mask1 == 0, All_mask2 == 0\n",
    "All_mask1, All_mask2 = All_mask1[~mask_zeros], All_mask2[~mask_zeros2]\n",
    "#Cent_mask1, Cent_mask2 = Cent_mask1[~mask_zeros1], Cent_mask2[~mask_zeros2]\n",
    "Sats_mask1, Sats_mask2 = Sats_mask1[~mask_zeros1], Sats_mask2[~mask_zeros2]   "
   ]
  },
  {
   "cell_type": "code",
   "execution_count": null,
   "metadata": {
    "collapsed": false
   },
   "outputs": [],
   "source": [
    "All_mask2, Sats_mask2, mask_zeros2"
   ]
  },
  {
   "cell_type": "code",
   "execution_count": null,
   "metadata": {
    "collapsed": false
   },
   "outputs": [],
   "source": [
    "f, ax = plt.subplots(nrows=2, ncols=2, figsize = [10,10])\n",
    "\n",
    "ax[0,0].hist(All_mask1, bins = np.arange(10), alpha=.3, facecolor = 'b')\n",
    "#ax[0,0].set_title(\"All-Galaxies Histogram\")\n",
    "ax[0,1].hist(Sats_mask1, bins = np.arange(10), alpha = .3, facecolor = 'b')\n",
    "#ax[0,1].set_title(\"Sats-Galaxies Histogram\")\n",
    "ax[1,0].hist(All_mask2, bins = np.arange(100), alpha = .3, facecolor = 'r')\n",
    "#ax[0,1].set_title(\"Sats-Galaxies Histogram\")\n",
    "ax[1,1].hist(Sats_mask2, bins = np.arange(100), alpha = .3, facecolor = 'r')\n",
    "#ax[0,1].set_title(\"Sats-Galaxies Histogram\")\n",
    "\n",
    "for row in ax:\n",
    "    for col in row:\n",
    "        col.set_xlabel(r\"\\tt{Number of galaxies}\", fontsize = 12)\n",
    "        col.set_ylabel(r\"\\tt{N}\", fontsize = 12)\n",
    "        col.set_yscale('log')"
   ]
  },
  {
   "cell_type": "code",
   "execution_count": null,
   "metadata": {
    "collapsed": false
   },
   "outputs": [],
   "source": [
    "plt.plot(bins, HOD, 'k.')\n",
    "plt.plot(bins, Cent_plot, 'r-')\n",
    "plt.plot(bins, Sats_plot, 'b-')\n",
    "plt.axvline(bins_left[14], linestyle = '--', color = 'black')\n",
    "plt.axvline(bins_left[15], linestyle = '--', color = 'black')\n",
    "plt.axvline(bins_left[-3], linestyle = '--', color = 'black')\n",
    "plt.axvline(bins_left[-2], linestyle = '--', color = 'black')\n",
    "plt.ylim(-2, 3)"
   ]
  },
  {
   "cell_type": "code",
   "execution_count": null,
   "metadata": {
    "collapsed": true
   },
   "outputs": [],
   "source": [
    "type_gal = np.load('type.npy')\n",
    "log_centralmvir = np.log10(np.load('mdhalo.npy') + 1e-10) + 10"
   ]
  },
  {
   "cell_type": "code",
   "execution_count": null,
   "metadata": {
    "collapsed": true
   },
   "outputs": [],
   "source": [
    "logm_min = 10\n",
    "logm_max = 15.\n",
    "NBIN = 30\n",
    "\n",
    "mass_labels = ((log_centralmvir - logm_min)/(logm_max - logm_min) * NBIN).astype(int)\n",
    "bin_width = (logm_max - logm_min)/NBIN\n",
    "bins = np.array([logm_min + bin_width*i for i in range(NBIN)]) + bin_width *.5"
   ]
  },
  {
   "cell_type": "code",
   "execution_count": null,
   "metadata": {
    "collapsed": false
   },
   "outputs": [],
   "source": [
    "mask = (mass_labels >= NBIN) | (mass_labels < 0)\n",
    "type_gal = type_gal[~mask]\n",
    "log_centralmvir = log_centralmvir[~mask]\n",
    "mass_labels = mass_labels[~mask]"
   ]
  },
  {
   "cell_type": "code",
   "execution_count": null,
   "metadata": {
    "collapsed": false
   },
   "outputs": [],
   "source": [
    "%%time\n",
    "Ngal = np.zeros(NBIN)\n",
    "Ncen = np.zeros(NBIN)\n",
    "Nsat = np.zeros(NBIN)\n",
    "\n",
    "for i in range(NBIN):\n",
    "    \n",
    "    idx = np.where(mass_labels == i)[0]\n",
    "    Ngal[i] = len(idx)\n",
    "    Ncen[i] = len(np.where(type_gal[idx] == 0)[0])\n",
    "    Nsat[i] = len(np.where(type_gal[idx] != 0)[0])"
   ]
  },
  {
   "cell_type": "code",
   "execution_count": null,
   "metadata": {
    "collapsed": true
   },
   "outputs": [],
   "source": [
    "#path = \"/home/esteban/Escritorio/Practica/Plots/G13_millennium\" # Guo2013    (MPA)\n",
    "#path = \"/home/esteban/Escritorio/Practica/Plots/G14_millennium\"  # Gonzalez2014  (Durham)\n",
    "path = \"/home/esteban/Escritorio/Practica/Plots/L16_millennium\" # Lacey2016     (Durham)\n",
    "os.chdir( path )"
   ]
  },
  {
   "cell_type": "code",
   "execution_count": null,
   "metadata": {
    "collapsed": false
   },
   "outputs": [],
   "source": [
    "bins_hist = np.linspace(logm_min, logm_max, NBIN, endpoint=False)\n",
    "f, ax = plt.subplots(ncols=2, figsize = [12,5])\n",
    "\n",
    "ax[0].bar(bins_hist, np.log10(Ngal + 1e-10), bin_width, lw = .1, facecolor='green', alpha=.3, label = 'All')\n",
    "ax[0].plot(bins, np.log10(Ncen + 1e-10), 'r--', label = 'Cent')\n",
    "ax[0].plot(bins, np.log10(Nsat + 1e-10), 'b--', label = 'Sats')\n",
    "ax[0].set_ylim(0,10)\n",
    "ax[0].set_ylabel(r\"$log(N)$\", fontsize=15)\n",
    "ax[1].bar(bins_hist, Ngal, bin_width, lw = .1, facecolor='green', alpha=.3, label = 'All')\n",
    "ax[1].plot(bins, Ncen, 'r--', label = 'Cent')\n",
    "ax[1].plot(bins, Nsat, 'b--', label = 'Sats')\n",
    "ax[1].ticklabel_format(style='sci', axis='y', scilimits=(0,0))\n",
    "ax[1].set_ylabel('N', fontsize=15)\n",
    "\n",
    "for a in ax:\n",
    "    a.set_xlim(logm_min, logm_max)\n",
    "    a.set_xlabel(r\"$log(M_h / h^{-1}M_{\\odot})$\", fontsize=15)\n",
    "    a.legend(loc='upper right', frameon = False, prop={'size':10})\n",
    "    a.minorticks_on()\n",
    "    \n",
    "f.tight_layout()\n",
    "f.savefig('histograms.pdf')"
   ]
  },
  {
   "cell_type": "code",
   "execution_count": null,
   "metadata": {
    "collapsed": true
   },
   "outputs": [],
   "source": []
  },
  {
   "cell_type": "code",
   "execution_count": null,
   "metadata": {
    "collapsed": true
   },
   "outputs": [],
   "source": []
  }
 ],
 "metadata": {
  "kernelspec": {
   "display_name": "Python 2",
   "language": "python",
   "name": "python2"
  },
  "language_info": {
   "codemirror_mode": {
    "name": "ipython",
    "version": 2
   },
   "file_extension": ".py",
   "mimetype": "text/x-python",
   "name": "python",
   "nbconvert_exporter": "python",
   "pygments_lexer": "ipython2",
   "version": "2.7.12"
  }
 },
 "nbformat": 4,
 "nbformat_minor": 1
}
