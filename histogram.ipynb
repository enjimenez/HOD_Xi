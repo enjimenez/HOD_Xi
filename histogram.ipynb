{
 "cells": [
  {
   "cell_type": "code",
   "execution_count": null,
   "metadata": {
    "collapsed": false
   },
   "outputs": [],
   "source": [
    "# ======\n",
    "# Cambiar legend del primer plot\n",
    "# Cambiar el tipo de corte\n",
    "# Elegir el span\n",
    "# Cambiar el rango del eje x\n",
    "# Cambiar nombre de histograma\n",
    "# ======\n",
    "import numpy as np\n",
    "import matplotlib.pyplot as plt\n",
    "from matplotlib import rc\n",
    "import os\n",
    "rc('text', usetex=True)\n",
    "rc('font', family='serif')\n",
    "% matplotlib inline"
   ]
  },
  {
   "cell_type": "code",
   "execution_count": null,
   "metadata": {
    "collapsed": false
   },
   "outputs": [],
   "source": [
    "ab = str(raw_input(\"Model: \"))\n",
    "model = ab + \"_millennium\"\n",
    "path = \"/home/esteban/Escritorio/Practica/Data/\" + model\n",
    "os.chdir( path )"
   ]
  },
  {
   "cell_type": "code",
   "execution_count": null,
   "metadata": {
    "collapsed": false
   },
   "outputs": [],
   "source": [
    "# Archivo con información de todos los halos (usando una muestra de densidad 10^-2 y con corte en sfr)\n",
    "halos_data = np.load('halos_sfrcut_1.5.npy')\n",
    "\n",
    "#fofid = halos_data[:,0]         # Halo's fofid\n",
    "logmass = halos_data[:,1]       # Halo's log mass\n",
    "All = halos_data[:,2]           # Num of galaxies in the halo\n",
    "Cent = halos_data[:,3]          # Num of Cent in the halo\n",
    "#Sats = halos_data[:,4]          # Num of Sats in the halo\n",
    "#x = halos_data[:,5]             # Halo x-position "
   ]
  },
  {
   "cell_type": "code",
   "execution_count": null,
   "metadata": {
    "collapsed": false
   },
   "outputs": [],
   "source": [
    "# Archivo con los datos del HOD usando el corte en sfr\n",
    "hod_data= np.load('hod_sfrcut_1.5.npy')\n",
    "bins = hod_data[:,0]\n",
    "HOD = hod_data[:,1]\n",
    "Cent_plot = hod_data[:,2]\n",
    "Sats_plot = hod_data[:,3]\n",
    "Dmin, Dmax = 10,15.\n",
    "NBIN = 30\n",
    "bin_width = (Dmax-Dmin)/NBIN\n",
    "bins_left = bins - bin_width *.5"
   ]
  },
  {
   "cell_type": "code",
   "execution_count": null,
   "metadata": {
    "collapsed": false,
    "scrolled": false
   },
   "outputs": [],
   "source": [
    "# Rangos a analizar \n",
    "spn1_l, spn1_r = bins_left[13], bins_left[14]\n",
    "spn2_l, spn2_r = bins_left[-3], bins_left[-2]\n",
    "mask1 = (logmass > spn1_l) & (logmass < spn1_r) # Span 1\n",
    "mask2 = (logmass > spn2_l) & (logmass < spn2_r) # Span 2\n",
    "\n",
    "f = plt.figure(figsize = [6,4])\n",
    "plt.plot(bins, HOD, 'k.', label = 'All')\n",
    "plt.plot(bins, Cent_plot, 'r--', label = 'Cent')\n",
    "plt.plot(bins, Sats_plot, 'b--', label = 'Sats')\n",
    "plt.axvspan(xmin=spn1_l,xmax=spn1_r,color='b',alpha=.3)\n",
    "plt.axvspan(xmin=spn2_l,xmax=spn2_r,color='r',alpha=.3)\n",
    "plt.xlabel(r\"$log(M_h / h^{-1}M_{\\odot})$\", fontsize = 10)\n",
    "plt.xlabel(r\"$log(M_h / h^{-1}M_{\\odot})$\", fontsize = 10)\n",
    "plt.title(r\"$n = 10^{-2.0} /h^{-3} Mpc^3$\")\n",
    "plt.ylabel(r\"$log(N)$\", fontsize = 10)\n",
    "plt.ylim(-2, 3)\n",
    "plt.legend(loc = (.04,.7),title = r\"\\large{SFR}\", frameon = False, prop={'size':10})\n",
    "#plt.annotate(r\"\\large{\\textbf{SFR}}\", xy=(.05,.9), xycoords='axes fraction' )\n",
    "#plt.ylim(-2, 3)\n",
    "path = \"/home/esteban/Escritorio/Practica/Plots/\" + model\n",
    "os.chdir( path )\n",
    "f.savefig(\"sfr_spans_selected.pdf\")"
   ]
  },
  {
   "cell_type": "code",
   "execution_count": null,
   "metadata": {
    "collapsed": false
   },
   "outputs": [],
   "source": [
    "# Seleccionamos los halos que se encuentran dentro de estos spans\n",
    "All_span1, Cent_span1 = All[mask1], Cent[mask1]   \n",
    "All_span2, Cent_span2 = All[mask2], Cent[mask2]\n",
    "\n",
    "# Eliminamos los halos que no tienen galaxias (ya que ninguna de sus galaxias \n",
    "# cumple con el criterio de sfr)\n",
    "mask_zeros1 = All_span1 == 0\n",
    "mask_zeros2 = All_span2 == 0\n",
    "\n",
    "All_span1, Cent_span1 = All_span1[~mask_zeros1], Cent_span1[~mask_zeros1]\n",
    "All_span2, Cent_span2 = All_span2[~mask_zeros2], Cent_span2[~mask_zeros2]   \n",
    "\n",
    "# Halos without central\n",
    "mask_nocent1 = Cent_span1 == 0\n",
    "mask_nocent2 = Cent_span2 == 0\n",
    "\n",
    "Span1_nocent, Span1_cent = All_span1[mask_nocent1], All_span1[~mask_nocent1]\n",
    "Span2_nocent, Span2_cent = All_span2[mask_nocent2], All_span2[~mask_nocent2]\n",
    "\n",
    "# To Do:\n",
    "# Done / Make two plots, the first with the halos without central and the other one with the halos that have centrals\n",
    "# Done / Have the plots for stellarmass and sfr\n",
    "# Done / Add a vertical line that shows the mean of the distribution\n",
    "# Done / What is the range of mass that I've plotted?"
   ]
  },
  {
   "cell_type": "code",
   "execution_count": null,
   "metadata": {
    "collapsed": false
   },
   "outputs": [],
   "source": [
    "f, ax = plt.subplots(nrows=2, ncols=2, figsize = [10,10])\n",
    "\n",
    "bins_span1 = np.arange(10)\n",
    "bins_span2 = np.arange(150)\n",
    "nn = np.zeros(4)\n",
    "\n",
    "n = ax[0,0].hist(Span1_nocent, bins = bins_span1, alpha=.8, color = 'b', histtype = 'step')\n",
    "if np.sum(n[0]) != 0:\n",
    "    mean = np.sum(n[0] * n[1][:len(bins_span1)-1])/np.sum(n[0])\n",
    "    ax[0,0].axvline(x = mean, color = 'k', linestyle = '--', label = r\"$\\bar n = %.2f$\" %mean)\n",
    "    ax[0,0].set_yscale('log')\n",
    "ax[0,0].set_title(\"Halos without Central \\n $ %.2f<log(M_h / h^{-1}M_{\\odot})<%.2f$\" %(spn1_l, spn1_r), fontsize = 10)\n",
    "\n",
    "n = ax[0,1].hist(Span1_cent, bins = bins_span1, alpha = .8, color = 'b', histtype = 'step')\n",
    "if np.sum(n[0]) != 0:\n",
    "    mean = np.sum(n[0] * n[1][:len(bins_span1)-1])/np.sum(n[0])\n",
    "    ax[0,1].axvline(x = mean, color = 'k', linestyle = '--', label = r\"$\\bar n = %.2f$\" %mean)\n",
    "    ax[0,1].set_yscale('log')\n",
    "ax[0,1].set_title(\"Halos with Central \\n $ %.2f<log(M_h / h^{-1}M_{\\odot})<%.2f$\" %(spn1_l, spn1_r), fontsize = 10)\n",
    "\n",
    "n = ax[1,0].hist(Span2_nocent, bins = bins_span2, alpha = .8, color = 'red', histtype = 'step')\n",
    "if np.sum(n[0]) != 0:\n",
    "    mean = np.sum(n[0] * n[1][:len(bins_span2)-1])/np.sum(n[0])\n",
    "    ax[1,0].axvline(x = mean, color = 'k', linestyle = '--', label = r\"$\\bar n = %.2f$\" %mean)\n",
    "    ax[1,0].set_yscale('log')\n",
    "ax[1,0].set_title(\"Halos without Central \\n $ %.2f<log(M_h / h^{-1}M_{\\odot})<%.2f$\" %(spn2_l, spn2_r), fontsize = 10)\n",
    "\n",
    "n = ax[1,1].hist(Span2_cent, bins = bins_span2, alpha = .8, color = 'red', histtype = 'step')\n",
    "if np.sum(n[0]) != 0:\n",
    "    mean = np.sum(n[0] * n[1][:len(bins_span2)-1])/np.sum(n[0])\n",
    "    ax[1,1].axvline(x = mean, color = 'k', linestyle = '--', label = r\"$\\bar n = %.2f$\" %mean)\n",
    "    ax[1,1].set_yscale('log')\n",
    "ax[1,1].set_title(\"Halos with Central \\n $ %.2f<log(M_h / h^{-1}M_{\\odot})<%.2f$\" %(spn2_l, spn2_r), fontsize = 10)\n",
    "\n",
    "for row in ax:\n",
    "    for col in row:\n",
    "        col.set_xlabel(r\"\\tt{Number of galaxies}\", fontsize = 10)\n",
    "        col.set_ylabel(r\"\\tt{N}\", fontsize = 10)\n",
    "        col.legend(frameon=False)\n",
    "\n",
    "ax[0,0].set_xlim(0,7)\n",
    "ax[0,1].set_xlim(0,7)     \n",
    "ax[1,0].set_xlim(38,150)\n",
    "ax[1,1].set_xlim(38,150)\n",
    "f.subplots_adjust(hspace=.3)\n",
    "f.savefig(\"histograms_smass.pdf\")"
   ]
  },
  {
   "cell_type": "code",
   "execution_count": null,
   "metadata": {
    "collapsed": false
   },
   "outputs": [],
   "source": [
    "n[2]"
   ]
  },
  {
   "cell_type": "code",
   "execution_count": null,
   "metadata": {
    "collapsed": true
   },
   "outputs": [],
   "source": []
  }
 ],
 "metadata": {
  "kernelspec": {
   "display_name": "Python 2",
   "language": "python",
   "name": "python2"
  },
  "language_info": {
   "codemirror_mode": {
    "name": "ipython",
    "version": 2
   },
   "file_extension": ".py",
   "mimetype": "text/x-python",
   "name": "python",
   "nbconvert_exporter": "python",
   "pygments_lexer": "ipython2",
   "version": "2.7.12"
  }
 },
 "nbformat": 4,
 "nbformat_minor": 1
}
