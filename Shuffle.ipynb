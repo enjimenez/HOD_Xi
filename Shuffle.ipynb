{
 "cells": [
  {
   "cell_type": "code",
   "execution_count": null,
   "metadata": {
    "collapsed": true
   },
   "outputs": [],
   "source": [
    "import numpy as np\n",
    "import random"
   ]
  },
  {
   "cell_type": "code",
   "execution_count": null,
   "metadata": {
    "collapsed": false
   },
   "outputs": [],
   "source": [
    "#a = np.load('../Data/G13_millennium/V.npy')\n",
    "#b = np.load('../Data/G13_millennium/V_fixed.npy')"
   ]
  },
  {
   "cell_type": "code",
   "execution_count": null,
   "metadata": {
    "collapsed": true
   },
   "outputs": [],
   "source": [
    "log_centralmvir = np.log10(np.load('../Data/G13_millennium/centralmvir.npy') + 1e-10) + 10\n",
    "type_gal = np.load('../Data/G13_millennium/type.npy')\n",
    "fofid = np.load('../Data/G13_millennium/fofid.npy')\n",
    "#stellarmass = np.load('../Data/G13_millennium/stellarmass.npy')\n",
    "#sfr = np.load('../Data/G13_millennium/sfr.npy')\n",
    "x = np.load('../Data/G13_millennium/x.npy')\n",
    "y = np.load('../Data/G13_millennium/y.npy')\n",
    "z = np.load('../Data/G13_millennium/z.npy')\n",
    "r_vector = np.array([x,y,z]).T\n",
    "del x,y,z"
   ]
  },
  {
   "cell_type": "code",
   "execution_count": null,
   "metadata": {
    "collapsed": false
   },
   "outputs": [],
   "source": [
    "logm_min = 10.\n",
    "logm_max = 15.\n",
    "NBIN = 30\n",
    "mass_index = ((log_centralmvir - logm_min)/(logm_max - logm_min) * NBIN).astype(int)"
   ]
  },
  {
   "cell_type": "code",
   "execution_count": null,
   "metadata": {
    "collapsed": false
   },
   "outputs": [],
   "source": [
    "mask = (mass_index >= 0) & (mass_index < NBIN)\n",
    "mass_index = mass_index[mask]\n",
    "type_gal = type_gal[mask]\n",
    "fofid = fofid[mask]\n",
    "r_vector = r_vector[mask]\n",
    "#sfr = sfr[mask]\n",
    "del mask"
   ]
  },
  {
   "cell_type": "code",
   "execution_count": null,
   "metadata": {
    "collapsed": false
   },
   "outputs": [],
   "source": [
    "%%time\n",
    "N,j,k = 0,0,0\n",
    "V = np.zeros((len(mass_index),3))\n",
    "len_data = len(mass_index)\n",
    "\n",
    "for i in range(NBIN):\n",
    "    central_positions = np.where((type_gal == 0) & (mass_index == i))[0]\n",
    "    num_halos = len(central_positions)\n",
    "    shuffled_pos = np.array(random.sample(central_positions, num_halos))\n",
    "    for j in range(num_halos):\n",
    "        \n",
    "        pos_i = shuffled_pos[j]\n",
    "        if j == num_halos - 1: pos_f = shuffled_pos[0]\n",
    "        else: pos_f = shuffled_pos[j+1]\n",
    "        v_dir = r_vector[pos_f] - r_vector[pos_i] \n",
    "        cond = True\n",
    "        \n",
    "        while cond:\n",
    "            V[pos_i + N] = v_dir \n",
    "            N += 1  # Recorre el halo\n",
    "            if pos_i + N == len_data: break\n",
    "            cond = (fofid[pos_i+N] == fofid[pos_i])\n",
    "            k += 1 # Recorre todas las galaxias\n",
    "            \n",
    "        N = 0\n",
    "    "
   ]
  },
  {
   "cell_type": "code",
   "execution_count": null,
   "metadata": {
    "collapsed": true
   },
   "outputs": [],
   "source": [
    "np.save('../Data/G13_millennium/V.npy', V)"
   ]
  },
  {
   "cell_type": "code",
   "execution_count": null,
   "metadata": {
    "collapsed": false
   },
   "outputs": [],
   "source": [
    "%%time\n",
    "def isout (r,vr):\n",
    "    if r + vr < 0:\n",
    "        return 1\n",
    "    elif r + vr > 500: \n",
    "        return -1\n",
    "    else:\n",
    "        return 0\n",
    "\n",
    "Lbox = 500.    \n",
    "for i in range(len_data):\n",
    "    \n",
    "    x,y,z = r_vector[i]\n",
    "    dx,dy,dz  = V[i]\n",
    "\n",
    "    r_vector[i][0] = x + dx + isout(x,dx)*Lbox\n",
    "    r_vector[i][1] = y + dy + isout(y,dy)*Lbox\n",
    "    r_vector[i][2] = z + dz + isout(z,dz)*Lbox\n",
    "    \n",
    "    "
   ]
  },
  {
   "cell_type": "code",
   "execution_count": null,
   "metadata": {
    "collapsed": false
   },
   "outputs": [],
   "source": [
    "np.save('../Data/G13_millennium/r.npy', r_vector)"
   ]
  }
 ],
 "metadata": {
  "kernelspec": {
   "display_name": "Python 2",
   "language": "python",
   "name": "python2"
  },
  "language_info": {
   "codemirror_mode": {
    "name": "ipython",
    "version": 2
   },
   "file_extension": ".py",
   "mimetype": "text/x-python",
   "name": "python",
   "nbconvert_exporter": "python",
   "pygments_lexer": "ipython2",
   "version": "2.7.12"
  }
 },
 "nbformat": 4,
 "nbformat_minor": 1
}
