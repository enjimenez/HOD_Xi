{
 "cells": [
  {
   "cell_type": "code",
   "execution_count": 1,
   "metadata": {
    "collapsed": false,
    "scrolled": false
   },
   "outputs": [
    {
     "name": "stdout",
     "output_type": "stream",
     "text": [
      "Using matplotlib backend: TkAgg\n"
     ]
    }
   ],
   "source": [
    "import numpy as np\n",
    "import matplotlib.pyplot as plt\n",
    "from matplotlib import rcParams\n",
    "from astropy.io import ascii\n",
    "from collections import Counter\n",
    "import time\n",
    "rcParams['font.family'] = 'serif'\n",
    "% matplotlib"
   ]
  },
  {
   "cell_type": "code",
   "execution_count": 2,
   "metadata": {
    "collapsed": true
   },
   "outputs": [],
   "source": [
    "# Reading of the data\n",
    "data = np.load('DL07_milimill_HOD_BIN.npy')\n",
    "IDs = data[:,0]\n",
    "fofid = (data[:,1]).astype(np.int64)\n",
    "stellarmass = data[:,2]\n",
    "centralmvir = np.log10(data[:,3] + 1e-10) + 10\n",
    "Type = data[:,4]"
   ]
  },
  {
   "cell_type": "code",
   "execution_count": 3,
   "metadata": {
    "collapsed": false
   },
   "outputs": [],
   "source": [
    "log_centralmvir = centralmvir\n",
    "IDS, index = np.unique(fofid, return_index = True)\n",
    "halo_masses = log_centralmvir[index]\n",
    "\n",
    "NBIN = 30\n",
    "logm_min, logm_max = 10, 14.\n",
    "mass_labels = ((log_centralmvir - logm_min)/(logm_max - logm_min) * NBIN).astype(int)\n",
    "\n",
    "bin_width = (logm_max - logm_min)/NBIN\n",
    "\n",
    "#bins = np.linspace(logm_min, logm_max, NBIN) + bin_width *.5\n",
    "bins = np.array([10 + bin_width*i for i in range(NBIN)]) + bin_width *.5"
   ]
  },
  {
   "cell_type": "code",
   "execution_count": 4,
   "metadata": {
    "collapsed": false
   },
   "outputs": [],
   "source": [
    "def counter (T, F, M): \n",
    "    Halos = len(T)\n",
    "    Ngal, Ncen, Nsat = 0, 0, 0\n",
    "    Halo_data = np.zeros((Halos, 5))\n",
    "    for i in range(Halos):\n",
    "        \n",
    "        T_array = T[i]\n",
    "        M_array = M[i]\n",
    "        F_array = F[i]\n",
    "        \n",
    "        mass_mask = M_array > .1\n",
    "        T_array = T_array[mass_mask]\n",
    "        F_array = F_array[mass_mask]\n",
    "        \n",
    "        sat_mask = T_array != 0\n",
    "        Nsat += len(T_array[sat_mask])\n",
    "        Ncen += int(np.any(T_array == 0))\n",
    "        Ngal += len(T_array)\n",
    "        \n",
    "        if len(F_array) == 0: continue\n",
    "        pos = np.where(F_array[0] == IDS)\n",
    "        Hmass = halo_masses[pos]\n",
    "        Halo_data[i] = F_array[0], Ngal, Ncen, Nsat, Hmass\n",
    "        \n",
    "    return Halos, Ngal, Ncen, Nsat, Halo_data\n",
    " \n",
    "def ToList (fofid, Type, stellarmass):\n",
    "    \n",
    "    fofid_list = []\n",
    "    type_list = []\n",
    "    mass_list = []\n",
    "    C = Counter(fofid)\n",
    "    \n",
    "    for FOFID in C.keys():\n",
    "        \n",
    "        mask_fofid = fofid == FOFID\n",
    "        temp_fofid = fofid[mask_fofid]\n",
    "        temp_Type = Type[mask_fofid]\n",
    "        temp_stellarmass = stellarmass[mask_fofid]\n",
    "        \n",
    "        type_list.append(temp_Type)\n",
    "        fofid_list.append(temp_fofid)  \n",
    "        mass_list.append(temp_stellarmass)\n",
    "\n",
    "    return fofid_list, type_list, mass_list"
   ]
  },
  {
   "cell_type": "code",
   "execution_count": 5,
   "metadata": {
    "collapsed": false
   },
   "outputs": [],
   "source": [
    "from collections import Counter\n",
    "a, idx = np.unique(fofid, return_index = True)\n",
    "\n",
    "Halos = np.zeros(NBIN)\n",
    "Galaxies = np.zeros(NBIN)\n",
    "Cent = np.zeros(NBIN)\n",
    "Sats = np.zeros(NBIN)\n",
    "\n",
    "for i in range(NBIN):\n",
    "    \n",
    "    # Índices correspondientes al bin de masa\n",
    "    idx = np.where(mass_labels == i)[0]\n",
    "\n",
    "    # Seleccionamos sólo los valores que corresponden al bin\n",
    "    bin_halomasses = log_centralmvir[idx] \n",
    "    bin_stellarmass = stellarmass[idx]\n",
    "    bin_fofid = fofid[idx]\n",
    "    bin_type = Type[idx]\n",
    "\n",
    "    FOFID_list, TYPE_list, MASS_list = ToList(bin_fofid, bin_type, bin_stellarmass)\n",
    "    \n",
    "    if i > 0:\n",
    "        Halos[i], Galaxies[i], Cent[i], Sats[i], temp_DATA = counter(TYPE_list, FOFID_list, MASS_list)\n",
    "        DATA = np.append(DATA, temp_DATA, axis = 0)\n",
    "        continue\n",
    "        \n",
    "    # HOD, Centrals y Sats cumplen la condición de MASA\n",
    "    Halos[i], Galaxies[i], Cent[i], Sats[i], DATA = counter(TYPE_list, FOFID_list, MASS_list)\n",
    "    \n",
    "idx = np.where(DATA[:,0] == 0)[0]\n",
    "DATA = np.delete(DATA, idx, axis = 0)\n",
    "np.save(\"HOD_data\", DATA)"
   ]
  },
  {
   "cell_type": "code",
   "execution_count": null,
   "metadata": {
    "collapsed": false
   },
   "outputs": [],
   "source": [
    "#Galaxies += 1e-10\n",
    "Cent += 1e-10\n",
    "Sats += 1e-10\n",
    "HOD = Galaxies/Halos\n",
    "Cent /= Halos\n",
    "Sats /= Halos"
   ]
  },
  {
   "cell_type": "code",
   "execution_count": null,
   "metadata": {
    "collapsed": false
   },
   "outputs": [],
   "source": [
    "bins2, HOD2, cent, sats = np.loadtxt(\"HOD.txt\", unpack = True)"
   ]
  },
  {
   "cell_type": "code",
   "execution_count": null,
   "metadata": {
    "collapsed": false
   },
   "outputs": [],
   "source": [
    "plt.plot(bins, np.log10(HOD), 'k.', label = 'All')\n",
    "plt.plot(bins, np.log10(Cent), 'r--', label = 'Centrals')\n",
    "plt.plot(bins, np.log10(Sats), 'b--', label = 'Sats')\n",
    "#plt.plot(bins2, np.log10(HOD2), 'y.')  # To Compare with first method\n",
    "plt.xlabel(r\"$log(M_h / h^{-1}M_{\\odot})$\")\n",
    "plt.ylabel(r\"$log(N)$\")\n",
    "plt.ylim(-2,2)\n",
    "plt.xlim(10,15)\n",
    "plt.minorticks_on()\n",
    "plt.legend(loc='upper left', frameon = False, prop={'size':10})\n",
    "plt.show()"
   ]
  }
 ],
 "metadata": {
  "kernelspec": {
   "display_name": "Python 2",
   "language": "python",
   "name": "python2"
  },
  "language_info": {
   "codemirror_mode": {
    "name": "ipython",
    "version": 2
   },
   "file_extension": ".py",
   "mimetype": "text/x-python",
   "name": "python",
   "nbconvert_exporter": "python",
   "pygments_lexer": "ipython2",
   "version": "2.7.12"
  }
 },
 "nbformat": 4,
 "nbformat_minor": 1
}
