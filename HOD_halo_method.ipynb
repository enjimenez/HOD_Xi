{
 "cells": [
  {
   "cell_type": "code",
   "execution_count": 1,
   "metadata": {
    "collapsed": false,
    "scrolled": true
   },
   "outputs": [
    {
     "name": "stdout",
     "output_type": "stream",
     "text": [
      "Using matplotlib backend: TkAgg\n"
     ]
    }
   ],
   "source": [
    "import numpy as np\n",
    "import matplotlib.pyplot as plt\n",
    "from matplotlib import rcParams\n",
    "from astropy.io import ascii\n",
    "from collections import Counter\n",
    "import time\n",
    "rcParams['font.family'] = 'serif'\n",
    "% matplotlib"
   ]
  },
  {
   "cell_type": "code",
   "execution_count": 2,
   "metadata": {
    "collapsed": false,
    "scrolled": true
   },
   "outputs": [],
   "source": [
    "converters = {'col1': [ascii.convert_numpy(np.uint64)],\n",
    "              'col2': [ascii.convert_numpy(np.uint64)],\n",
    "              'col3': [ascii.convert_numpy(np.float64)],\n",
    "              'col4': [ascii.convert_numpy(np.float64)],\n",
    "              'col5': [ascii.convert_numpy(np.uint)]}\n",
    "\n",
    "\n",
    "from astropy.io import ascii\n",
    "data = ascii.read('DL07_milimill_HOD.csv', converters=converters)"
   ]
  },
  {
   "cell_type": "code",
   "execution_count": 3,
   "metadata": {
    "collapsed": false
   },
   "outputs": [],
   "source": [
    "lenght = len(data)\n",
    "IDs, fofid, stellarmass, centralmvir, Type = np.zeros(lenght), np.zeros(lenght), np.zeros(lenght), np.zeros(lenght), np.zeros(lenght)\n",
    "\n",
    "for i, line in enumerate(data):\n",
    "    IDs[i], fofid[i], stellarmass[i], centralmvir[i], Type[i] = line  \n",
    "    fofid[i] %= 1e9\n",
    "\n",
    "fofid = fofid.astype(np.int64)"
   ]
  },
  {
   "cell_type": "code",
   "execution_count": null,
   "metadata": {
    "collapsed": false
   },
   "outputs": [],
   "source": [
    "IDs_mass = {}\n",
    "for i in range(len(fofid)):\n",
    "    IDs_mass[str(fofid)]\n",
    "\n",
    "\n",
    "print fofid[:10]\n",
    "print centralmvir[:10]"
   ]
  },
  {
   "cell_type": "code",
   "execution_count": 4,
   "metadata": {
    "collapsed": false
   },
   "outputs": [],
   "source": [
    "NBIN = 30\n",
    "halo_masses = np.log10(centralmvir) + 10\n",
    "hmin, hmax = np.min(halo_masses), np.max(halo_masses) + 1e-10\n",
    "mass_bins = ((halo_masses - hmin)/(hmax - hmin) * NBIN).astype(int)\n",
    "\n",
    "bin_width = (hmax - hmin)/NBIN\n",
    "bins = np.linspace(hmin, hmax, NBIN) + bin_width *.5"
   ]
  },
  {
   "cell_type": "code",
   "execution_count": 5,
   "metadata": {
    "collapsed": true
   },
   "outputs": [],
   "source": [
    "def counter (L):\n",
    "    Nhalos = len(L)\n",
    "    Ngal, Ncen, Nsat = 0, 0, 0\n",
    "    for i in range(Nhalos):\n",
    "        #L_array = np.array(L[i])\n",
    "        #if len(L[i]) == 1:\n",
    "            #Ngal += 1\n",
    "        #    Ncen += 1\n",
    "        #    continue\n",
    "        Ngal += len(L[i]) # Solo galaxias con M > 10^9 Msun\n",
    "        sat_mask = L[i] != 0\n",
    "        Nsat += len((L[i])[sat_mask])\n",
    "        Ncen += int(np.any(L[i] == 0))\n",
    "        \n",
    "    return Nhalos, Ngal, Ncen, Nsat\n",
    "\n",
    "\n"
   ]
  },
  {
   "cell_type": "code",
   "execution_count": 11,
   "metadata": {
    "collapsed": true
   },
   "outputs": [],
   "source": [
    "def counter (T, F, M):\n",
    "    Halos = len(T)\n",
    "    Ngal, Ncen, Nsat = 0, 0, 0\n",
    "    for i in range(Halos):\n",
    "        \n",
    "        T_array = np.array(T[i])\n",
    "        M_array = np.array(M[i])\n",
    "        F_array = np.array(F[i])\n",
    "        \n",
    "        mass_mask = M_array > .1\n",
    "        T_array = T_array[mass_mask]\n",
    "        F_array = F_array[mass_mask]\n",
    "        \n",
    "        sat_mask = T_array != 0\n",
    "        Nsat += len(T_array[sat_mask])\n",
    "        Ncen += int(np.any(T_array == 0))\n",
    "        Ngal += len(T_array)\n",
    "    return Halos, Ngal, Ncen, Nsat, F_array"
   ]
  },
  {
   "cell_type": "code",
   "execution_count": 7,
   "metadata": {
    "collapsed": true
   },
   "outputs": [],
   "source": [
    "def ToList (fofid, Type, stellarmass):\n",
    "    \n",
    "    fofid_list = []\n",
    "    type_list = []\n",
    "    mass_list = []\n",
    "    C = Counter(fofid)\n",
    "    \n",
    "    for FOFID in C.keys():\n",
    "        \n",
    "        mask_fofid = fofid == FOFID\n",
    "        temp_fofid = fofid[mask_fofid]\n",
    "        temp_Type = Type[mask_fofid]\n",
    "        temp_stellarmass = stellarmass[mask_fofid]\n",
    "        \n",
    "        type_list.append(temp_Type)\n",
    "        fofid_list.append(temp_fofid)  \n",
    "        mass_list.append(temp_stellarmass)\n",
    "\n",
    "    return fofid_list, type_list, mass_list\n"
   ]
  },
  {
   "cell_type": "code",
   "execution_count": 12,
   "metadata": {
    "collapsed": false,
    "scrolled": true
   },
   "outputs": [],
   "source": [
    "from itertools import groupby\n",
    "from collections import Counter\n",
    "\n",
    "Halos = np.zeros(NBIN)\n",
    "Galaxies = np.zeros(NBIN)\n",
    "Cent = np.zeros(NBIN)\n",
    "Sats = np.zeros(NBIN)\n",
    "\n",
    "for i in range(NBIN):\n",
    "    \n",
    "    # Índices correspondientes al bin de masa\n",
    "    idx = np.where(mass_bins == i)[0]\n",
    "\n",
    "    # Seleccionamos sólo los valores que corresponden al bin\n",
    "    bin_halomasses = halo_masses[idx]\n",
    "    bin_stellarmass = stellarmass[idx]\n",
    "    bin_fofid = fofid[idx]\n",
    "    bin_type = Type[idx]\n",
    "\n",
    "    FOFID_list, TYPE_list, MASS_list = ToList(bin_fofid, bin_type, bin_stellarmass)\n",
    "    #print len(FOFID_list), len(TYPE_list)\n",
    "    \n",
    "    Halos[i], Galaxies[i], Cent[i], Sats[i], FOFID = counter(TYPE_list, FOFID_list, MASS_list)\n",
    "    \n",
    "    #if i == 3:\n",
    "    #    print FOFID_list\n",
    "    #    print TYPE_list\n",
    "        #print sort_fofid\n",
    "        #print sort_type\n",
    "        #print sort_stellarmass\n",
    "\n",
    "    \n",
    "    \n",
    "    "
   ]
  },
  {
   "cell_type": "code",
   "execution_count": null,
   "metadata": {
    "collapsed": false
   },
   "outputs": [],
   "source": [
    "5/2"
   ]
  },
  {
   "cell_type": "code",
   "execution_count": null,
   "metadata": {
    "collapsed": false
   },
   "outputs": [],
   "source": [
    "FOFID_list"
   ]
  },
  {
   "cell_type": "code",
   "execution_count": 13,
   "metadata": {
    "collapsed": false
   },
   "outputs": [],
   "source": [
    "Galaxies += 1e-10\n",
    "Cent += 1e-10\n",
    "Sats += 1e-10\n",
    "HOD = Galaxies/Halos\n",
    "Cent /= Halos\n",
    "Sats /= Halos\n",
    "\n",
    "np.savetxt(\"HOD_halo_method.txt\", np.array([bins, HOD]).T)"
   ]
  },
  {
   "cell_type": "code",
   "execution_count": null,
   "metadata": {
    "collapsed": false
   },
   "outputs": [],
   "source": [
    "bins2, HOD2, cent, sats = np.loadtxt(\"HOD.txt\", unpack = True)\n"
   ]
  },
  {
   "cell_type": "code",
   "execution_count": null,
   "metadata": {
    "collapsed": false
   },
   "outputs": [],
   "source": [
    "plt.plot(bins, np.log10(HOD), 'k.', label = 'All')\n",
    "plt.plot(bins, np.log10(Cent), 'r--', label = 'Centrals')\n",
    "plt.plot(bins, np.log10(Sats), 'b--', label = 'Sats')\n",
    "#plt.annotate(r\"$M > 10^9 M_{\\odot}$\", xy=(80, 270), xycoords='figure pixels')\n",
    "plt.xlabel(r\"$log(M_h / h^{-1}M_{\\odot})$\")\n",
    "plt.ylabel(r\"$log(N)$\")\n",
    "plt.ylim(-2,2)\n",
    "plt.xlim(10,15)\n",
    "plt.minorticks_on()\n",
    "plt.legend(loc='upper left', frameon = False, prop={'size':10})\n",
    "plt.show()"
   ]
  },
  {
   "cell_type": "code",
   "execution_count": null,
   "metadata": {
    "collapsed": true
   },
   "outputs": [],
   "source": [
    "# El problema es tratar de guardar las listas\n",
    "# Simplemente lo podemos guardar en un archivo de texto..."
   ]
  },
  {
   "cell_type": "code",
   "execution_count": null,
   "metadata": {
    "collapsed": true
   },
   "outputs": [],
   "source": [
    "\"\"\"\n",
    "start_time = time.time()\n",
    "ROWS = len(IDs)\n",
    "HOD = np.zeros(NBIN)\n",
    "Centrals = np.zeros(NBIN)\n",
    "Sats = np.zeros(NBIN)\n",
    "Halos = np.zeros(NBIN)\n",
    "\n",
    "mass_mask = (stellarmass > .1).astype(int)\n",
    "labels = ((log_centralmvir-min_masslog)/(max_masslog-min_masslog)*NBIN).astype(int)\n",
    "Sats_mask = Type.astype(bool) \n",
    "\n",
    "for i in range(ROWS):\n",
    "    label = labels[i]\n",
    "    sat = Sats_mask[i]\n",
    "    Halos[label] += \n",
    "    HOD[label] += mass_mask[i]\n",
    "    Sats[label] += int( sat == True)\n",
    "    Centrals[label] += int( (sat == False)  )\n",
    "    \n",
    "print(\"--- %3fs: loaded ---\" % (time.time() - start_time))    \n",
    "\n",
    "mask = (labels < 0) | (labels >= NBIN)\n",
    "IDs, fofid, Type = IDs[~mask], fofid[~mask], Type[~mask]\n",
    "stellarmass, log_centralmvir = stellarmass[~mask], log_centralmvir[~mask]\n",
    "labels = labels[~mask]\n",
    "\n",
    "start_time = time.time()\n",
    "ROWS = len(IDs)\n",
    "HOD = np.zeros(NBIN)\n",
    "Centrals = np.zeros(NBIN)\n",
    "Sats = np.zeros(NBIN)\n",
    "\n",
    "for i in range(ROWS):\n",
    "    \n",
    "    halo_mass = log_centralmvir[i]\n",
    "    Sats_mask = Type[i].astype(bool) \n",
    "    mass_mask = stellarmass[i] > .1\n",
    "    label = ((halo_mass-min_masslog)/(max_masslog-min_masslog)*NBIN).astype(int)\n",
    "    \n",
    "    HOD[label] += mass_mask.astype(int)\n",
    "    Sats[label] += ((mass_mask) & (Sats_mask)).astype(int)\n",
    "    Centrals[label] += ((mass_mask) & (not Sats_mask)).astype(int)    \n",
    "    \n",
    "print(\"--- %3fs: loaded ---\" % (time.time() - start_time)) \n",
    "\n",
    "\n",
    "\n",
    "\n",
    "#converters = {0: np.uint64, 1: np.int64, 2: np.float64, 3: np.float64, 4: np.uint8}\n",
    "#IDs, fofid, stellarmass, centralmvir, Type = np.loadtxt('DL07_milimill_HOD.csv',converters=converters, unpack = True)\n",
    "\n",
    "\"\"\""
   ]
  }
 ],
 "metadata": {
  "kernelspec": {
   "display_name": "Python 2",
   "language": "python",
   "name": "python2"
  },
  "language_info": {
   "codemirror_mode": {
    "name": "ipython",
    "version": 2
   },
   "file_extension": ".py",
   "mimetype": "text/x-python",
   "name": "python",
   "nbconvert_exporter": "python",
   "pygments_lexer": "ipython2",
   "version": "2.7.12"
  }
 },
 "nbformat": 4,
 "nbformat_minor": 1
}
