{
 "cells": [
  {
   "cell_type": "code",
   "execution_count": 1,
   "metadata": {
    "collapsed": false
   },
   "outputs": [
    {
     "name": "stdout",
     "output_type": "stream",
     "text": [
      "Using matplotlib backend: TkAgg\n"
     ]
    }
   ],
   "source": [
    "import numpy as np\n",
    "import time\n",
    "import matplotlib.pyplot as plt\n",
    "% matplotlib "
   ]
  },
  {
   "cell_type": "code",
   "execution_count": 2,
   "metadata": {
    "collapsed": false
   },
   "outputs": [],
   "source": [
    "data = np.loadtxt('DL07_milimill_09_xi.csv')\n",
    "IDs, X, Y, Z = data[:,0], data[:,1], data[:,2], data[:,3]\n",
    "#h = .73\n",
    "#X = (X/h)*10**6\n",
    "#Y = (Y/h)*10**6\n",
    "#Z = (Z/h)*10**6"
   ]
  },
  {
   "cell_type": "code",
   "execution_count": 3,
   "metadata": {
    "collapsed": false
   },
   "outputs": [
    {
     "data": {
      "text/plain": [
       "14193"
      ]
     },
     "execution_count": 3,
     "metadata": {},
     "output_type": "execute_result"
    }
   ],
   "source": [
    "len(IDs)"
   ]
  },
  {
   "cell_type": "code",
   "execution_count": 4,
   "metadata": {
    "collapsed": false
   },
   "outputs": [],
   "source": [
    "def logdist (r1,r2):\n",
    "    x1,y1,z1 = r1\n",
    "    x2,y2,z2 = r2\n",
    "    Lbox = 62.5\n",
    "    Lx, Ly, Lz = abs(x2-x1), abs(y2-y1), abs(z2-z1)\n",
    "    if Lx >= Lbox/2: Lx = Lbox - Lx\n",
    "    if Ly >= Lbox/2: Ly = Lbox - Ly\n",
    "    if Lz >= Lbox/2: Lz = Lbox - Lz     \n",
    "    d = (1./2)*np.log10(Lx**2 + Ly**2 + Lz**2 + 1e-10) \n",
    "    return d\n",
    "\n",
    "def ToClass(d, NBIN, XMIN,XMAX):\n",
    "    label = int((d-XMIN)/(XMAX-XMIN)*NBIN)\n",
    "    return label\n",
    "    \n",
    "def RR (r,n,dr):\n",
    "    V_c = (4./3)*np.pi*((10**(r+dr))**3 - (10**r)**3)\n",
    "    V_t = 62.5**3\n",
    "    return (V_c/V_t)*n**2\n",
    "    \n",
    "def ToDist (label_array, NBIN, XMIN, XMAX):\n",
    "    d = (label_array*(XMAX-XMIN)/NBIN) + XMIN\n",
    "    return d"
   ]
  },
  {
   "cell_type": "code",
   "execution_count": 5,
   "metadata": {
    "collapsed": false,
    "scrolled": false
   },
   "outputs": [
    {
     "name": "stdout",
     "output_type": "stream",
     "text": [
      "--- 1037.830404s: loaded ---\n"
     ]
    }
   ],
   "source": [
    "start_time = time.time()\n",
    "\n",
    "NBIN = 30\n",
    "Dmin = -2  # Min separation (log(d)) [d] = Mpc\n",
    "Dmax = 1.  # Max separation (log(d))\n",
    "Binsize = (Dmax - Dmin)/NBIN\n",
    "\n",
    "lenght = len(IDs)\n",
    "DD_array = np.zeros(NBIN)\n",
    "for i in range(lenght):\n",
    "    r1 = np.array([X[i], Y[i], Z[i]])\n",
    "    for j in range(i+1,lenght):\n",
    "        r2 = np.array([X[j], Y[j], Z[j]])\n",
    "        label = ToClass(logdist(r1,r2), NBIN, Dmin, Dmax)\n",
    "        if (label >= NBIN) | (label < 0): continue\n",
    "        DD_array[label] += 1\n",
    "        \n",
    "bins = np.linspace(Dmin, Dmax, NBIN, endpoint = False)   \n",
    "dist_array = bins + Binsize *.5\n",
    "RR_array = np.array([RR(r,lenght, Binsize) for r in bins])\n",
    "\n",
    "print(\"--- %3fs: loaded ---\" % (time.time() - start_time))"
   ]
  },
  {
   "cell_type": "code",
   "execution_count": 17,
   "metadata": {
    "collapsed": false
   },
   "outputs": [
    {
     "data": {
      "text/plain": [
       "17.296666666666667"
      ]
     },
     "execution_count": 17,
     "metadata": {},
     "output_type": "execute_result"
    }
   ],
   "source": [
    "1037.8/60"
   ]
  },
  {
   "cell_type": "code",
   "execution_count": 6,
   "metadata": {
    "collapsed": false
   },
   "outputs": [
    {
     "data": {
      "text/plain": [
       "array([  6.04674466e+04,   1.66090266e+04,   1.24130760e+04,\n",
       "         9.07547379e+03,   5.75863716e+03,   4.54042792e+03,\n",
       "         2.93858590e+03,   2.07268036e+03,   1.60308991e+03,\n",
       "         1.09413452e+03,   8.31022568e+02,   5.71900216e+02,\n",
       "         3.96688575e+02,   2.82786201e+02,   1.92296358e+02,\n",
       "         1.30278524e+02,   8.61923567e+01,   5.48970008e+01,\n",
       "         3.46557013e+01,   2.08910893e+01,   1.23361996e+01,\n",
       "         7.40583909e+00,   4.67367086e+00,   3.10322493e+00,\n",
       "         2.03628261e+00,   1.46248357e+00,   1.23989995e+00,\n",
       "         8.31475415e-01,   5.68172648e-01,   3.40236990e-01])"
      ]
     },
     "execution_count": 6,
     "metadata": {},
     "output_type": "execute_result"
    }
   ],
   "source": [
    "(2*DD_array/RR_array)-1."
   ]
  },
  {
   "cell_type": "code",
   "execution_count": 7,
   "metadata": {
    "collapsed": false
   },
   "outputs": [],
   "source": [
    "logxi = np.log10((2*DD_array/RR_array)-1)"
   ]
  },
  {
   "cell_type": "code",
   "execution_count": 8,
   "metadata": {
    "collapsed": false
   },
   "outputs": [
    {
     "data": {
      "text/plain": [
       "array([ 4.78152163,  4.22034418,  4.09387941,  3.95786931,  3.76031972,\n",
       "        3.65709679,  3.46813839,  3.31653233,  3.20495788,  3.03907072,\n",
       "        2.91961282,  2.75732026,  2.59844969,  2.45145821,  2.28397106,\n",
       "        2.11487283,  1.93546876,  1.73954862,  1.53977469,  1.31996109,\n",
       "        1.09118139,  0.86957427,  0.66965812,  0.49181326,  0.30883805,\n",
       "        0.165091  ,  0.09338664, -0.08015059, -0.24551968, -0.46821847])"
      ]
     },
     "execution_count": 8,
     "metadata": {},
     "output_type": "execute_result"
    }
   ],
   "source": [
    "logxi"
   ]
  },
  {
   "cell_type": "code",
   "execution_count": 9,
   "metadata": {
    "collapsed": false
   },
   "outputs": [
    {
     "data": {
      "text/plain": [
       "(array([  1.04000000e+02,   5.70000000e+01,   8.50000000e+01,\n",
       "          1.24000000e+02,   1.57000000e+02,   2.47000000e+02,\n",
       "          3.19000000e+02,   4.49000000e+02,   6.93000000e+02,\n",
       "          9.44000000e+02,   1.43100000e+03,   1.96600000e+03,\n",
       "          2.72300000e+03,   3.87700000e+03,   5.26900000e+03,\n",
       "          7.14000000e+03,   9.46200000e+03,   1.21030000e+04,\n",
       "          1.54040000e+04,   1.88700000e+04,   2.29370000e+04,\n",
       "          2.88460000e+04,   3.88480000e+04,   5.60570000e+04,\n",
       "          8.27650000e+04,   1.33930000e+05,   2.43071000e+05,\n",
       "          3.96557000e+05,   6.77483000e+05,   1.15527700e+06]),\n",
       " array([  3.43981054e-03,   6.86332434e-03,   1.36941324e-02,\n",
       "          2.73233863e-02,   5.45173231e-02,   1.08776360e-01,\n",
       "          2.17037372e-01,   4.33046490e-01,   8.64041342e-01,\n",
       "          1.72398913e+00,   3.43981054e+00,   6.86332434e+00,\n",
       "          1.36941324e+01,   2.73233863e+01,   5.45173231e+01,\n",
       "          1.08776360e+02,   2.17037372e+02,   4.33046490e+02,\n",
       "          8.64041342e+02,   1.72398913e+03,   3.43981054e+03,\n",
       "          6.86332434e+03,   1.36941324e+04,   2.73233863e+04,\n",
       "          5.45173231e+04,   1.08776360e+05,   2.17037372e+05,\n",
       "          4.33046490e+05,   8.64041342e+05,   1.72398913e+06]))"
      ]
     },
     "execution_count": 9,
     "metadata": {},
     "output_type": "execute_result"
    }
   ],
   "source": [
    "DD_array, RR_array"
   ]
  },
  {
   "cell_type": "code",
   "execution_count": 25,
   "metadata": {
    "collapsed": false,
    "scrolled": false
   },
   "outputs": [],
   "source": [
    "plt.plot(dist_array,logxi,'k.', label = r\"$M > 10^{9} M_{\\odot}$\")\n",
    "#plt.ylim(-2,6)\n",
    "plt.xlabel(\"$log(d/h^{-1}Mpc)$\")\n",
    "plt.ylabel(r\"$log(\\xi)$\")\n",
    "plt.legend(frameon=False)\n",
    "plt.show()"
   ]
  },
  {
   "cell_type": "code",
   "execution_count": 11,
   "metadata": {
    "collapsed": true
   },
   "outputs": [],
   "source": [
    "np.savetxt(\"xi_data_09.txt\", np.array([dist_array, logxi]).T)"
   ]
  }
 ],
 "metadata": {
  "kernelspec": {
   "display_name": "Python 2",
   "language": "python",
   "name": "python2"
  },
  "language_info": {
   "codemirror_mode": {
    "name": "ipython",
    "version": 2
   },
   "file_extension": ".py",
   "mimetype": "text/x-python",
   "name": "python",
   "nbconvert_exporter": "python",
   "pygments_lexer": "ipython2",
   "version": "2.7.12"
  }
 },
 "nbformat": 4,
 "nbformat_minor": 1
}
