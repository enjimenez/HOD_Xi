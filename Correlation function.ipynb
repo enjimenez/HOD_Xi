{
 "cells": [
  {
   "cell_type": "code",
   "execution_count": 1,
   "metadata": {
    "collapsed": false
   },
   "outputs": [],
   "source": [
    "import numpy as np\n",
    "import matplotlib.pyplot as plt\n",
    "from matplotlib import rc\n",
    "import os\n",
    "rc('text', usetex=True)\n",
    "rc('font', family='serif')\n",
    "import corr_function\n",
    "from getpath import getpath "
   ]
  },
  {
   "cell_type": "code",
   "execution_count": 2,
   "metadata": {
    "collapsed": false
   },
   "outputs": [],
   "source": [
    "Dmin = -2  \n",
    "Dmax = 2. \n",
    "NBIN = 40\n",
    "Bw = (Dmax - Dmin)/NBIN\n",
    "bins = np.array([Dmin + Bw*i for i in range(NBIN)]) + Bw*0.5"
   ]
  },
  {
   "cell_type": "code",
   "execution_count": null,
   "metadata": {
    "collapsed": false,
    "scrolled": true
   },
   "outputs": [],
   "source": [
    "%%time\n",
    "# ======================================== MOCK CATALOGUES ==================================================\n",
    "models = ['G13', 'GP14', 'L16']\n",
    "type_cut = ['Stellar Mass/', 'SFR/']\n",
    "dc = [4]\n",
    "\n",
    "for model in models:\n",
    "    model = model + '_millennium'\n",
    "    path = \"/home/esteban/Escritorio/Practica/Data/\" + model + '/Mock Catalogues/'\n",
    "    for cut in type_cut:\n",
    "        if cut == type_cut[0]: tc = 'Mstell'\n",
    "        else: tc = 'SFR'    \n",
    "        for c in dc:\n",
    "            print \"entre a 1\"\n",
    "            data = np.load(path + cut + 'cat_d%i_2HOD.npy' %c)\n",
    "            x = data[:,0].astype('float64')\n",
    "            y = data[:,1].astype('float64')\n",
    "            z = data[:,2].astype('float64')\n",
    "            n_cen =  data[:,5].astype('int32')\n",
    "            n_sat =  data[:,6].astype('int32')\n",
    "            \n",
    "            mask = (n_cen == 0) & (n_sat == 0)\n",
    "            x = x[~mask]\n",
    "            y = y[~mask]\n",
    "            z = z[~mask]\n",
    "            n_cen = n_cen[~mask]\n",
    "            n_sat = n_sat[~mask]\n",
    "    \n",
    "            \n",
    "            #Len_Cat = np.sum(n_cen) + np.sum(n_sat)\n",
    "            \n",
    "            for i in range(len(x)):\n",
    "                            \n",
    "                Nsats = n_sat[i]\n",
    "                if Nsats == 0: continue\n",
    "                \n",
    "                Ncent = n_cen[i]\n",
    "                if Ncent == 0: Ngal = Nsats - 1\n",
    "                else: Ngal = Nsats\n",
    "                        \n",
    "                x = np.append(x, x[i]*np.ones(Ngal))\n",
    "                y = np.append(y, y[i]*np.ones(Ngal))\n",
    "                z = np.append(z, z[i]*np.ones(Ngal))                   \n",
    "                    \n",
    "            print \"todo ok en\", model, \"para\", cut, \"y con density\",c         \n",
    "            DD, RR = corr_function.xi_ll(x, y, z, tc, c, path)      \n",
    "            xi_mock_path = \"/home/esteban/Escritorio/Practica/Data/\" + model + '/xi_mocks/' + cut\n",
    "            xi = (DD/RR) -1\n",
    "            np.savetxt(xi_mock_path + 'xi_cat_0%i_2HOD.txt' %c, np.array([bins, xi, DD, RR]).T)\n"
   ]
  },
  {
   "cell_type": "code",
   "execution_count": null,
   "metadata": {
    "collapsed": false
   },
   "outputs": [],
   "source": [
    "%%time\n",
    "DD, RR = corr_function.xi_ll(x, y, z, 'Mstell', 4, path)"
   ]
  },
  {
   "cell_type": "code",
   "execution_count": null,
   "metadata": {
    "collapsed": true
   },
   "outputs": [],
   "source": [
    "xi_mock_path = \"/home/esteban/Escritorio/Practica/Data/\" + model + '/xi_mocks/' + 'Stellar Mass/'\n",
    "xi = (DD/RR) -1\n",
    "np.savetxt(xi_mock_path + 'xi_cat_02.txt', np.array([bins, xi, DD, RR]).T)"
   ]
  },
  {
   "cell_type": "code",
   "execution_count": null,
   "metadata": {
    "collapsed": false
   },
   "outputs": [],
   "source": [
    "xi_mock_path = \"/home/esteban/Escritorio/Practica/Data/GP14_millennium/xi_mocks/Stellar Mass\"\n",
    "xi_sam = \"/home/esteban/Escritorio/Practica/Data/GP14_millennium/xi_sam/Stellar Mass\"\n",
    "xi_plot = \"/home/esteban/Escritorio/Practica/Plots/GP14_millennium\"\n",
    "\n",
    "data_sam = np.loadtxt(xi_sam + '/xi_d3_fixed.txt')\n",
    "data_mock = np.loadtxt(xi_mock_path + '/xi_cat_03.txt')\n",
    "\n",
    "bins_sam, logxi_sam = data_sam[:,0], np.log10(data_sam[:,1])\n",
    "bins_mock, logxi_mock = data_mock[:,0], np.log10(data_mock[:,1])\n",
    "\n",
    "f = plt.figure()\n",
    "plt.plot(bins_sam, logxi_sam, 'k-', label = r\"$\\xi$ from SAM\")\n",
    "plt.plot(bins_mock, logxi_mock, 'k--', label = r\"$\\xi$ from Mock\")\n",
    "plt.xlabel(\"$log(d/h^{-1}Mpc)$\")\n",
    "plt.ylabel(r\"$log(\\xi)$\")\n",
    "plt.ylim(-2,3)\n",
    "plt.xlim(-2,2)\n",
    "plt.legend(loc='upper left', frameon=False)\n",
    "f.savefig(xi_plot + '/xi_cat_d3_Mstell.pdf')"
   ]
  },
  {
   "cell_type": "code",
   "execution_count": 3,
   "metadata": {
    "collapsed": false,
    "scrolled": false
   },
   "outputs": [
    {
     "name": "stdout",
     "output_type": "stream",
     "text": [
      "Archivo generado: Density cut: 4 Stellar Mass \n",
      "\n",
      "Archivo generado: Density cut: 4 SFR \n",
      "\n",
      "Termine G13_millennium\n",
      "CPU times: user 1h 48min 10s, sys: 6.04 s, total: 1h 48min 16s\n",
      "Wall time: 1h 48min 33s\n"
     ]
    }
   ],
   "source": [
    "%%time\n",
    "# ======================= CORRELATION FUNCTION FOR SHUFFLED CATALOGUE =====================================\n",
    "models = ['G13']\n",
    "\n",
    "for model in models:\n",
    "    \n",
    "    model = model + '_millennium'\n",
    "    path = \"/home/esteban/Escritorio/Practica/Data/\" + model\n",
    "    \n",
    "    data = np.load(path + '/r.npy')\n",
    "    x = (data[:,0]).copy(order='C')\n",
    "    y = (data[:,1]).copy(order='C')\n",
    "    z = (data[:,2]).copy(order='C')\n",
    "    del data\n",
    "    \n",
    "    DD, RR = corr_function.xi_ll(x, y, z, ['Mstell','SFR'], 4, path, Shuffle=True)\n",
    "    \n",
    "    for i, type_cut in enumerate(['Stellar Mass/', 'SFR/']):\n",
    "        \n",
    "        path_xi_sam_shuffle = path + '/xi_sam/' + '/Shuffle/' + type_cut\n",
    "        \n",
    "        for j, den_cut in enumerate([4]):\n",
    "            \n",
    "            xi = DD[i][j]/RR[i][j] - 1\n",
    "            DD_save = DD[i][j]\n",
    "            RR_save = RR[i][j]            \n",
    "            np.savetxt(path_xi_sam_shuffle + 'xi_d%i.txt' %den_cut, np.array([bins, xi, DD_save, RR_save]).T)\n",
    "            print \"Archivo generado: Density cut:\",den_cut, type_cut[:-1],'\\n'\n",
    "    print \"Termine\", model"
   ]
  },
  {
   "cell_type": "code",
   "execution_count": null,
   "metadata": {
    "collapsed": false
   },
   "outputs": [],
   "source": [
    "model = 'G13'\n",
    "model = model + '_millennium'\n",
    "path = \"/home/esteban/Escritorio/Practica/Data/\" + model \n",
    "\n",
    "path_xi_sam = path + '/xi_sam/' + 'SFR/'\n",
    "old_data = np.loadtxt(path_xi_sam + 'xi_2.5.txt')\n",
    "bins1, logxi1 = old_data[:,0], np.log10(old_data[:,1])\n",
    "\n",
    "new_data = np.loadtxt(path_xi_sam + 'xi_d3_fixed.txt')\n",
    "bins2, logxi2 = new_data[:,0], np.log10(new_data[:,1])\n",
    "\n",
    "plt.plot(bins1,logxi1,'r-')\n",
    "plt.plot(bins2,logxi2,'b-')\n",
    "plt.ylabel(r\"$log(\\xi)$\")\n",
    "plt.xlabel(\"$log(d/h^{-1}Mpc)$\")\n",
    "plt.title(r\"$n = 10^{-2.5} /h^{-3} Mpc^3$\")\n",
    "plt.ylim(-2.5)\n",
    "plt.xlim(-2,2)\n",
    "\n",
    "plt.show()"
   ]
  },
  {
   "cell_type": "code",
   "execution_count": null,
   "metadata": {
    "collapsed": false
   },
   "outputs": [],
   "source": [
    "#model = str(raw_input(\"Model: \")) + \"_millennium\"\n",
    "model = 'G13_millennium'\n",
    "path = \"/home/esteban/Escritorio/Practica/Data/\" + model\n",
    "x = np.load(path + '/x.npy')\n",
    "y = np.load(path + '/y.npy')\n",
    "z = np.load(path + '/z.npy')"
   ]
  },
  {
   "cell_type": "code",
   "execution_count": null,
   "metadata": {
    "collapsed": true
   },
   "outputs": [],
   "source": [
    "# Quiero comprobar todas mis funciones de correlacion!"
   ]
  },
  {
   "cell_type": "code",
   "execution_count": null,
   "metadata": {
    "collapsed": false,
    "scrolled": true
   },
   "outputs": [],
   "source": [
    "DD, RR = corr_function.xi_ll(x,y,z,'Mstell', [1,2], path)\n"
   ]
  },
  {
   "cell_type": "code",
   "execution_count": null,
   "metadata": {
    "collapsed": false
   },
   "outputs": [],
   "source": []
  },
  {
   "cell_type": "code",
   "execution_count": null,
   "metadata": {
    "collapsed": false
   },
   "outputs": [],
   "source": [
    "xi = DD/RR - 1\n",
    "logxi = np.log10(xi)"
   ]
  },
  {
   "cell_type": "code",
   "execution_count": null,
   "metadata": {
    "collapsed": false,
    "scrolled": true
   },
   "outputs": [],
   "source": [
    "model = str(raw_input(\"Model: \")) + \"_millennium\"\n",
    "cut_type = int(raw_input(\"Type Cut:\\n Stellar Mass: 1\\n SFR: 2\\n Choice: \"))\n",
    "path = \"/home/esteban/Escritorio/Practica/Data/\" + model\n",
    "os.chdir( path )"
   ]
  },
  {
   "cell_type": "code",
   "execution_count": null,
   "metadata": {
    "collapsed": false
   },
   "outputs": [],
   "source": [
    "x = np.load('x.npy')\n",
    "y = np.load('y.npy')\n",
    "z = np.load('z.npy')\n",
    "sfr = np.load('sfr.npy')\n",
    "stellarmass = np.load('stellarmass.npy')\n",
    "print len(x)\n",
    "\n",
    "# === Density selection ===\n",
    "#   Fila    log(rho)\n",
    "#    20      -2.0\n",
    "#    15      -2.5\n",
    "#    10      -3.0\n",
    "#     5      -3.5\n",
    "# =================\n",
    "log_rho, mass_cuts, sfr_cuts = np.loadtxt('density_data.txt', unpack = True)\n",
    "rho, mass_cut, sfr_cut = log_rho[10], mass_cuts[10], sfr_cuts[10]\n",
    "\n",
    "if cut_type == 1: feature = stellarmass; cut = mass_cut\n",
    "else: feature = sfr; cut = sfr_cut\n",
    "\n",
    "mask = feature > cut\n",
    "x = x[mask]\n",
    "y = y[mask]\n",
    "z = z[mask]"
   ]
  },
  {
   "cell_type": "code",
   "execution_count": null,
   "metadata": {
    "collapsed": true
   },
   "outputs": [],
   "source": [
    "# ===================== RATIO PLOT =====================\n",
    "import numpy as np\n",
    "import matplotlib.pyplot as plt\n",
    "from matplotlib import rc\n",
    "import os\n",
    "% matplotlib inline\n",
    "rc('text', usetex=True)\n",
    "rc('font', family='serif')\n",
    "\n",
    "f = plt.figure()\n",
    "#models = ['G13']\n",
    "models   = ['G13', 'GP14']\n",
    "type_cut = ['Stellar Mass/']                    # Modificar\n",
    "#marker   = ['.', '+', '^']\n",
    "color    = ['r.', 'b+', 'g^']\n",
    "\n",
    "pos_rho = [15, 10, 5]\n",
    "density_cut = [3,2,1]\n",
    "\n",
    "arr_G13 = np.arange(1,4)[::-1]\n",
    "arr_G14 = np.arange(1,4)[::-1]\n",
    "arr_L16 = np.arange(1,4)[::-1]\n",
    "\n",
    "arr_models = [arr_G13, arr_G14, arr_L16]\n",
    "\n",
    "i = 0\n",
    "for ab, arr in zip(models, arr_models):\n",
    "    \n",
    "    model = ab + '_millennium'\n",
    "    path = \"/home/esteban/Escritorio/Practica/Data/\" + model\n",
    "\n",
    "    x = np.load(path + '/x.npy')\n",
    "    sfr = np.load(path + '/sfr.npy')\n",
    "    stellarmass = np.load(path + '/stellarmass.npy')\n",
    "    if ab == 'G13': halomass = np.log10(np.load(path + '/centralmvir.npy') + 1e-10) + 10\n",
    "    else: halomass = np.log10(np.load(path + '/mdhalo.npy') + 1e-10) + 10    \n",
    "    \n",
    "    lmin = 10\n",
    "    lmax = 14.8333\n",
    "    \n",
    "\n",
    "    log_rho, mass_cuts, sfr_cuts = np.loadtxt(path + '/density_data.txt', unpack = True)\n",
    "    \n",
    "    for prop in type_cut:\n",
    "        \n",
    "        cat_path = path + '/Catalogues/' + prop\n",
    "        ratio_list = []\n",
    "\n",
    "        for pos, d in zip(pos_rho, density_cut):\n",
    "             \n",
    "            rho, mass_cut, sfr_cut = log_rho[pos], mass_cuts[pos], sfr_cuts[pos]\n",
    "\n",
    "            if prop == 'Stellar Mass/': feature = stellarmass; cut = mass_cut\n",
    "            else: feature = sfr; cut = sfr_cut\n",
    "\n",
    "            mask = feature > cut\n",
    "            x_sam = x[mask]\n",
    "\n",
    "\n",
    "            data = np.load( cat_path + 'cat_d%i_fixed.npy' %(d) )\n",
    "            \n",
    "            ratio_list.append( len(data)/ float(len(x_sam)) )\n",
    "            \n",
    "        #ratios = np.array(ratio_list)\n",
    "    arr = (np.concatenate([arr, ratio_list], axis = 0).reshape(2,3)).T\n",
    "    plt.plot(arr[:,0], arr[:,1], color[i], label = '%s' %ab)\n",
    "    i += 1\n",
    "\n",
    "\n",
    "plt.xlabel('Density Cut')\n",
    "plt.ylabel('Catalogues Ratio')\n",
    "plt.ylim(1.188, 1.225)\n",
    "plt.legend(frameon = True, loc = 'best', numpoints=1)\n",
    "plt.title('Stellar Mass samples')                    # Modificar\n",
    "plt.xlim(0,5)\n",
    "path =  \"/home/esteban/Escritorio/Practica/Plots/\"\n",
    "os.chdir( path )\n",
    "f.savefig(\"Ratio_Mstell.pdf\")                           # Modificar\n",
    "plt.show()   "
   ]
  },
  {
   "cell_type": "code",
   "execution_count": null,
   "metadata": {
    "collapsed": false,
    "scrolled": true
   },
   "outputs": [],
   "source": [
    "%%time\n",
    "# ================== FUNCION DE CORRELACIÓN PARA TODAS LAS GALAXIAS ==================================\n",
    "import numpy as np\n",
    "import os\n",
    "models = ['G13', 'GP14', 'L16']\n",
    "NBIN = 40\n",
    "Dmin = -2  # Min separation (log(d)) [d] = Mpc\n",
    "Dmax = 2.  # Max separation (log(d))\n",
    "bin_width = (Dmax - Dmin)/NBIN\n",
    "DD_array = np.zeros(NBIN).astype('int32')\n",
    "bins = np.array([Dmin + bin_width*i for i in range(NBIN)]) + bin_width *.5\n",
    "\n",
    "def RR (r,n,dr):\n",
    "    V_c = (4./3)*np.pi*((10**(r+dr))**3 - (10**r)**3)\n",
    "    V_t = 500.**3\n",
    "    return (V_c/V_t)*n**2\n",
    "\n",
    "for model in models:\n",
    "    \n",
    "    model = model + \"_millennium\"\n",
    "    path = \"/home/esteban/Escritorio/Practica/Data/\" + model \n",
    "    os.chdir( path )\n",
    "    x = np.load('x.npy')\n",
    "    y = np.load('y.npy')\n",
    "    z = np.load('z.npy')\n",
    "    sfr = np.load('sfr.npy')\n",
    "    stellarmass = np.load('stellarmass.npy')\n",
    "    \n",
    "    log_rho, mass_cuts, sfr_cuts = np.loadtxt('density_data.txt', unpack = True)\n",
    "    list_mass_cut = [mass_cuts[5], mass_cuts[10], mass_cuts[15]]\n",
    "    list_sfr_cut = [sfr_cuts[5], sfr_cuts[10], sfr_cuts[15]]\n",
    "    criteria = [list_mass_cut, list_sfr_cut]\n",
    "    rhos = [-3.5, -3.0, -2.5]\n",
    "    \n",
    "    for cuts in criteria:\n",
    "        \n",
    "        if cuts == criteria[0]:  tc = 'Stellar Mass/'\n",
    "        else: tc = 'SFR/'    \n",
    "        \n",
    "        for rho, cut in zip(rhos, cuts):\n",
    "            \n",
    "            if cuts == criteria[0]: mask = stellarmass > cut \n",
    "            else: mask = sfr > cut\n",
    "                \n",
    "            x_temp = x[mask]\n",
    "            y_temp = y[mask]\n",
    "            z_temp = z[mask]\n",
    "     \n",
    "            path = \"/home/esteban/Escritorio/Practica/Codes/C_Python\"\n",
    "            os.chdir( path )\n",
    "            import SPack\n",
    "            \n",
    "            len_data = len(x_temp)\n",
    "            DD_array = np.zeros(NBIN).astype('int32')    \n",
    "            \n",
    "            SPack.xi(DD_array, x_temp, y_temp, z_temp, len_data, Dmin, Dmax, NBIN)\n",
    "            RR_array = np.array([RR(r, len_data, bin_width) for r in bins])\n",
    "            \n",
    "            #logxi = np.log10((2*DD_array/RR_array)-1)\n",
    "            xi = 2*DD_array/RR_array - 1\n",
    "            \n",
    "            path = \"/home/esteban/Escritorio/Practica/Data/\" + model \n",
    "            xi_sam_path = path + '/xi_sam/' + tc\n",
    "            os.chdir( xi_sam_path )\n",
    "            \n",
    "            #if cuts == criteria[0]: j = i+1\n",
    "            #else:  j = i+5    \n",
    "            np.savetxt(\"xi_%.1f.txt\" %rho, np.array([bins, xi, DD_array, RR_array]).T)"
   ]
  },
  {
   "cell_type": "code",
   "execution_count": null,
   "metadata": {
    "collapsed": false
   },
   "outputs": [],
   "source": [
    "%%time\n",
    "# =================== CORRELATION FUCTION OF MY MOCKS CATALOGUES ===========\n",
    "import numpy as np\n",
    "import os\n",
    "rhos = [3.5, 3.0, 2.5]\n",
    "cuts   = [1, 2, 3]\n",
    "models = ['G13', 'GP14']\n",
    "type_cut = ['Stellar Mass/']\n",
    "\n",
    "NBIN = 40\n",
    "Dmin = -2  # Min separation (log(d)) [d] = Mpc\n",
    "Dmax = 2.  # Max separation (log(d))\n",
    "bin_width = (Dmax - Dmin)/NBIN\n",
    "DD_array = np.zeros(NBIN).astype('int32')\n",
    "bins = np.array([Dmin + bin_width*i for i in range(NBIN)]) + bin_width *.5\n",
    "\n",
    "def RR (r,n,dr):\n",
    "    V_c = (4./3)*np.pi*((10**(r+dr))**3 - (10**r)**3)\n",
    "    V_t = 500.**3\n",
    "    return (V_c/V_t)*n**2\n",
    "\n",
    "for model in models:\n",
    "\n",
    "    #ab = model\n",
    "    model = model + \"_millennium\"\n",
    "    path = \"/home/esteban/Escritorio/Practica/Data/\" + model\n",
    "    \n",
    "    for cut in type_cut:\n",
    "        \n",
    "        cat_path = path + '/Catalogues/' + cut\n",
    "        \n",
    "        for i in range(3):\n",
    "            \n",
    "            data = np.load(cat_path + 'cat_d%i_fixed.npy' %(i+1))\n",
    "            x, y, z = data[:,0], data[:,1], data[:,2]\n",
    "            x = x.copy(order='C')\n",
    "            y = y.copy(order='C')\n",
    "            z = z.copy(order='C')\n",
    "            \n",
    "            path1 = \"/home/esteban/Escritorio/Practica/Codes/C_Python\"\n",
    "            os.chdir( path1 )\n",
    "    \n",
    "            len_data = len(x)\n",
    "            DD_array = np.zeros(NBIN).astype('int32')    \n",
    "            \n",
    "            import SPack\n",
    "            SPack.xi(DD_array, x, y, z, len_data, Dmin, Dmax, NBIN)\n",
    "            \n",
    "            RR_array = np.array([RR(r, len_data, bin_width) for r in bins])\n",
    "            xi = (2*DD_array/RR_array) - 1\n",
    "            \n",
    "            xi_path = path + '/xi_cat/' + cut\n",
    "            os.chdir( xi_path )\n",
    "            \n",
    "            np.savetxt('xi_cat_0%i.txt' %(i+1), np.array([bins, xi, DD_array, RR_array]).T)"
   ]
  },
  {
   "cell_type": "code",
   "execution_count": null,
   "metadata": {
    "collapsed": false
   },
   "outputs": [],
   "source": [
    "def RR (r,n,dr):\n",
    "    V_c = (4./3)*np.pi*((10**(r+dr))**3 - (10**r)**3)\n",
    "    V_t = 500.**3\n",
    "    return (V_c/V_t)*n**2"
   ]
  },
  {
   "cell_type": "code",
   "execution_count": null,
   "metadata": {
    "collapsed": false,
    "scrolled": false
   },
   "outputs": [],
   "source": [
    "%%time\n",
    "#path = \"/home/esteban/Escritorio/Practica/Codes/C_Python\"\n",
    "#os.chdir( path )\n",
    "import SPack as SP\n",
    "\n",
    "NBIN = 40\n",
    "Dmin = -2  # Min separation (log(d)) [d] = Mpc\n",
    "Dmax = 2.  # Max separation (log(d))\n",
    "bin_width = (Dmax - Dmin)/NBIN\n",
    "\n",
    "len_data = len(x)\n",
    "DD_array = np.zeros(NBIN).astype('int32')\n",
    "\n",
    "# ===================== C - MODULE =========================\n",
    "#SPack.xi3(DD_array, x, y, z, len_data, Dmin, Dmax, NBIN, 50, 6, 2, 2)\n",
    "SP.xi2(DD_array, x, y, z, len_data, Dmin, Dmax, NBIN, 50, 6)\n",
    "# ==========================================================\n",
    "\n",
    "#bins = np.linspace(Dmin, Dmax, NBIN, endpoint = False)   \n",
    "bins = np.array([Dmin + bin_width*i for i in range(NBIN)])\n",
    "bins_p = bins + bin_width * 0.5\n",
    "RR_array = np.array([RR(r, len_data, bin_width) for r in bins])"
   ]
  },
  {
   "cell_type": "code",
   "execution_count": null,
   "metadata": {
    "collapsed": true
   },
   "outputs": [],
   "source": []
  },
  {
   "cell_type": "code",
   "execution_count": null,
   "metadata": {
    "collapsed": true
   },
   "outputs": [],
   "source": [
    "xi = (2*DD_array/RR_array)-1"
   ]
  },
  {
   "cell_type": "code",
   "execution_count": null,
   "metadata": {
    "collapsed": false
   },
   "outputs": [],
   "source": [
    "logxi = np.log10((2*DD_array/RR_array)-1)"
   ]
  },
  {
   "cell_type": "code",
   "execution_count": null,
   "metadata": {
    "collapsed": false,
    "scrolled": false
   },
   "outputs": [],
   "source": [
    "f = plt.figure()\n",
    "#path = \"/home/esteban/Escritorio/Practica/Plots/\" + model\n",
    "#os.chdir( path )\n",
    "\n",
    "#plt.title(r\"$n = 10^{%.1f} /h^{-3} Mpc^3$\" %rho)\n",
    "plt.plot(bins,logxi,'k.')\n",
    "plt.ylim(-2,6)\n",
    "plt.xlim(-2,1.5)\n",
    "plt.xlabel(\"$log(d/h^{-1}Mpc)$\")\n",
    "plt.ylabel(r\"$log(\\xi)$\")\n",
    "#plt.legend(frameon=False)\n",
    "plt.minorticks_on()\n",
    "#f.savefig('xi_03.pdf')\n",
    "plt.show()"
   ]
  },
  {
   "cell_type": "code",
   "execution_count": null,
   "metadata": {
    "collapsed": true
   },
   "outputs": [],
   "source": [
    "np.save('xi_data_d3', np.array(bins_p, logxi, DD, RR))"
   ]
  },
  {
   "cell_type": "code",
   "execution_count": null,
   "metadata": {
    "collapsed": true
   },
   "outputs": [],
   "source": [
    "path = \"/home/esteban/Escritorio/Practica/Data/G13_millennium/sergio\" # Guo2013 \n",
    "#path = \"/home/esteban/Escritorio/Practica/Data/G14_millennium\" # Gonzalez2014 \n",
    "#path = \"/home/esteban/Escritorio/Practica/Data/L16_millennium\" # Lacey2016 \n",
    "os.chdir( path )\n",
    "np.savetxt(\"xi_data_03.txt\", np.array([bins, logxi]).T)"
   ]
  },
  {
   "cell_type": "code",
   "execution_count": null,
   "metadata": {
    "collapsed": false
   },
   "outputs": [],
   "source": [
    "10**(1.8)"
   ]
  },
  {
   "cell_type": "code",
   "execution_count": null,
   "metadata": {
    "collapsed": false
   },
   "outputs": [],
   "source": [
    "bins"
   ]
  },
  {
   "cell_type": "code",
   "execution_count": null,
   "metadata": {
    "collapsed": false
   },
   "outputs": [],
   "source": [
    "DD_array/2"
   ]
  },
  {
   "cell_type": "code",
   "execution_count": null,
   "metadata": {
    "collapsed": false
   },
   "outputs": [],
   "source": [
    "DD_array/2"
   ]
  },
  {
   "cell_type": "code",
   "execution_count": null,
   "metadata": {
    "collapsed": false
   },
   "outputs": [],
   "source": [
    "DD_array/2"
   ]
  },
  {
   "cell_type": "code",
   "execution_count": null,
   "metadata": {
    "collapsed": false
   },
   "outputs": [],
   "source": [
    "DD_array/2"
   ]
  },
  {
   "cell_type": "code",
   "execution_count": null,
   "metadata": {
    "collapsed": false
   },
   "outputs": [],
   "source": [
    "DD/2"
   ]
  },
  {
   "cell_type": "code",
   "execution_count": null,
   "metadata": {
    "collapsed": true
   },
   "outputs": [],
   "source": []
  }
 ],
 "metadata": {
  "kernelspec": {
   "display_name": "Python 2",
   "language": "python",
   "name": "python2"
  },
  "language_info": {
   "codemirror_mode": {
    "name": "ipython",
    "version": 2
   },
   "file_extension": ".py",
   "mimetype": "text/x-python",
   "name": "python",
   "nbconvert_exporter": "python",
   "pygments_lexer": "ipython2",
   "version": "2.7.12"
  }
 },
 "nbformat": 4,
 "nbformat_minor": 1
}
