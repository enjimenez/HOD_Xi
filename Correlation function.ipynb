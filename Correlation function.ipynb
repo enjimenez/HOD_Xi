{
 "cells": [
  {
   "cell_type": "code",
   "execution_count": 1,
   "metadata": {
    "collapsed": false
   },
   "outputs": [],
   "source": [
    "import numpy as np\n",
    "import matplotlib.pyplot as plt\n",
    "from matplotlib import rcParams\n",
    "import os\n",
    "#rcParams['font.family'] = 'serif'"
   ]
  },
  {
   "cell_type": "code",
   "execution_count": 2,
   "metadata": {
    "collapsed": true
   },
   "outputs": [],
   "source": [
    "#path = \"/home/esteban/Escritorio/Practica/Data/G13_millennium\"  # Guo2013    (MPA)\n",
    "#path = \"/home/esteban/Escritorio/Practica/Data/G14_millennium\" # Gonzalez2014  (Durham)\n",
    "path = \"/home/esteban/Escritorio/Practica/Data/L16_millennium\" # Lacey2016     (Durham)\n",
    "os.chdir( path )"
   ]
  },
  {
   "cell_type": "code",
   "execution_count": 3,
   "metadata": {
    "collapsed": false
   },
   "outputs": [],
   "source": [
    "x = np.load('x.npy')\n",
    "y = np.load('y.npy')\n",
    "z = np.load('z.npy')\n",
    "sfr = np.load('sfr.npy')\n",
    "stellarmass = np.load('stellarmass.npy')\n",
    "# === Density selection ===\n",
    "#   Fila    log(rho)\n",
    "#    15      -2.5\n",
    "#    10      -3.0\n",
    "#     5      -3.5\n",
    "# =========================\n",
    "log_rho, mass_cuts, sfr_cuts = np.loadtxt('density_data.txt', unpack = True)\n",
    "rho, mass_cut, sfr_cut = log_rho[5], mass_cuts[5], sfr_cuts[5]\n",
    "\n",
    "mask = stellarmass > mass_cut\n",
    "x = x[mask]\n",
    "y = y[mask]\n",
    "z = z[mask]"
   ]
  },
  {
   "cell_type": "code",
   "execution_count": 4,
   "metadata": {
    "collapsed": false
   },
   "outputs": [
    {
     "data": {
      "text/plain": [
       "10639"
      ]
     },
     "execution_count": 4,
     "metadata": {},
     "output_type": "execute_result"
    }
   ],
   "source": [
    "len(x)"
   ]
  },
  {
   "cell_type": "code",
   "execution_count": 5,
   "metadata": {
    "collapsed": false
   },
   "outputs": [],
   "source": [
    "def RR (r,n,dr):\n",
    "    V_c = (4./3)*np.pi*((10**(r+dr))**3 - (10**r)**3)\n",
    "    V_t = 500.**3\n",
    "    return (V_c/V_t)*n**2"
   ]
  },
  {
   "cell_type": "code",
   "execution_count": 6,
   "metadata": {
    "collapsed": false,
    "scrolled": false
   },
   "outputs": [
    {
     "name": "stdout",
     "output_type": "stream",
     "text": [
      "CPU times: user 4 s, sys: 0 ns, total: 4 s\n",
      "Wall time: 4 s\n"
     ]
    }
   ],
   "source": [
    "%%time\n",
    "path = \"/home/esteban/Escritorio/Practica/Codes/C_Python\"\n",
    "os.chdir( path )\n",
    "import SPack\n",
    "\n",
    "NBIN = 30\n",
    "Dmin = -2  # Min separation (log(d)) [d] = Mpc\n",
    "Dmax = 1.  # Max separation (log(d))\n",
    "bin_width = (Dmax - Dmin)/NBIN\n",
    "\n",
    "len_data = len(x)\n",
    "DD_array = np.zeros(NBIN).astype('int32')\n",
    "\n",
    "# ===================== C - MODULE =========================\n",
    "SPack.xi(DD_array, x, y, z, len_data, Dmin, Dmax, NBIN)\n",
    "# ==========================================================\n",
    "\n",
    "#bins = np.linspace(Dmin, Dmax, NBIN, endpoint = False)   \n",
    "bins = np.array([Dmin + bin_width*i for i in range(NBIN)]) + bin_width *.5\n",
    "RR_array = np.array([RR(r, len_data, bin_width) for r in bins])"
   ]
  },
  {
   "cell_type": "code",
   "execution_count": 7,
   "metadata": {
    "collapsed": false
   },
   "outputs": [
    {
     "name": "stderr",
     "output_type": "stream",
     "text": [
      "/home/esteban/.local/lib/python2.7/site-packages/ipykernel/__main__.py:1: RuntimeWarning: invalid value encountered in log10\n",
      "  if __name__ == '__main__':\n"
     ]
    }
   ],
   "source": [
    "logxi = np.log10((2*DD_array/RR_array)-1)"
   ]
  },
  {
   "cell_type": "code",
   "execution_count": 8,
   "metadata": {
    "collapsed": false
   },
   "outputs": [
    {
     "data": {
      "text/plain": [
       "array([        nan,  5.75123271,  5.45123194,  4.67410302,  4.37409387,\n",
       "        4.0740756 ,  4.37615395,  4.42833853,  3.17382127,  3.87405419,\n",
       "        3.52822606,  3.45004943,  3.14989606,  2.87765698,  2.75355814,\n",
       "        2.66423694,  2.38511049,  2.10417735,  1.9892268 ,  1.78614154,\n",
       "        1.53474389,  1.30624845,  1.03248429,  0.84385089,  0.6406827 ,\n",
       "        0.5565403 ,  0.30016196,  0.19949219, -0.1240708 , -0.34575069])"
      ]
     },
     "execution_count": 8,
     "metadata": {},
     "output_type": "execute_result"
    }
   ],
   "source": [
    "logxi"
   ]
  },
  {
   "cell_type": "code",
   "execution_count": 9,
   "metadata": {
    "collapsed": false,
    "scrolled": false
   },
   "outputs": [],
   "source": [
    "f = plt.figure()\n",
    "#path = \"/home/esteban/Escritorio/Practica/Plots/G13_millennium\" # Guo2013 \n",
    "#path = \"/home/esteban/Escritorio/Practica/Plots/G14_millennium\" # Gonzalez2014 \n",
    "path = \"/home/esteban/Escritorio/Practica/Plots/L16_millennium\" # Lacey2016 \n",
    "os.chdir( path )\n",
    "\n",
    "plt.title(r\"$n = 10^{%.1f} /h^{-3} Mpc^3$\" %rho)\n",
    "plt.plot(bins,logxi,'k.')\n",
    "plt.ylim(-2,6)\n",
    "plt.xlabel(\"$log(d/h^{-1}Mpc)$\")\n",
    "plt.ylabel(r\"$log(\\xi)$\")\n",
    "#plt.legend(frameon=False)\n",
    "plt.minorticks_on()\n",
    "f.savefig('xi_03.pdf')"
   ]
  },
  {
   "cell_type": "code",
   "execution_count": 10,
   "metadata": {
    "collapsed": true
   },
   "outputs": [],
   "source": [
    "#path = \"/home/esteban/Escritorio/Practica/Data/G13_millennium\" # Guo2013 \n",
    "#path = \"/home/esteban/Escritorio/Practica/Data/G14_millennium\" # Gonzalez2014 \n",
    "path = \"/home/esteban/Escritorio/Practica/Data/L16_millennium\" # Lacey2016 \n",
    "os.chdir( path )\n",
    "np.savetxt(\"xi_data_03.txt\", np.array([bins, logxi]).T)"
   ]
  }
 ],
 "metadata": {
  "kernelspec": {
   "display_name": "Python 2",
   "language": "python",
   "name": "python2"
  },
  "language_info": {
   "codemirror_mode": {
    "name": "ipython",
    "version": 2
   },
   "file_extension": ".py",
   "mimetype": "text/x-python",
   "name": "python",
   "nbconvert_exporter": "python",
   "pygments_lexer": "ipython2",
   "version": "2.7.12"
  }
 },
 "nbformat": 4,
 "nbformat_minor": 1
}
