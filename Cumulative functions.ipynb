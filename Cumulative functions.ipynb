{
 "cells": [
  {
   "cell_type": "code",
   "execution_count": null,
   "metadata": {
    "collapsed": false
   },
   "outputs": [],
   "source": [
    "import numpy as np\n",
    "import os\n",
    "import matplotlib.pyplot as plt\n",
    "from matplotlib import rc\n",
    "rc('text', usetex=True)\n",
    "rc('font', family='serif')\n",
    "% matplotlib inline"
   ]
  },
  {
   "cell_type": "code",
   "execution_count": null,
   "metadata": {
    "collapsed": false,
    "scrolled": false
   },
   "outputs": [],
   "source": [
    "ab = str(raw_input(\"Model: \"))\n",
    "model = ab + \"_millennium\"\n",
    "path = \"/home/esteban/Escritorio/Practica/Data/\" + model\n",
    "os.chdir( path )"
   ]
  },
  {
   "cell_type": "code",
   "execution_count": null,
   "metadata": {
    "collapsed": false
   },
   "outputs": [],
   "source": [
    "ranked_type = int(raw_input(\"Ranked by Stellar Mass: 1\\nRanked by SFR: 2\\n Choice: \"))\n",
    "NBIN = 100\n",
    "if ranked_type == 1:\n",
    "    log_stellarmass = np.log10(np.load('stellarmass.npy') + 1e-10) + 10\n",
    "    logm_min = 6.5\n",
    "    logm_max = 11.5\n",
    "    labels = ((log_stellarmass - logm_min)/(logm_max-logm_min) * NBIN).astype('int')\n",
    "    bin_width = (logm_max - logm_min)/NBIN\n",
    "    bins = np.array([logm_min + bin_width*i for i in range(NBIN)]) + bin_width *.5\n",
    "    mask = (labels >= 0) & (labels < NBIN)\n",
    "    arr = np.zeros(NBIN)\n",
    "\n",
    "    # Num of galaxies per bin of log stellarmass\n",
    "    for i in labels[mask]:\n",
    "        arr[i] += 1 \n",
    "\n",
    "    # Cumulative Stellar Mass Function    \n",
    "    CF = np.zeros(NBIN)\n",
    "    CF[-1] = arr[-1]\n",
    "    for i in range(NBIN - 1):\n",
    "        CF[-2-i] = CF[-1-i] + arr[-2-i]\n",
    "    CF /= 500**3  \n",
    "    log_CF = np.log10(CF + 1e-10)\n",
    "    \n",
    "else:\n",
    "    log_sfr = np.log10(np.load('sfr.npy') + 1e-10)\n",
    "    logs_min = -3.5\n",
    "    logs_max = 2.0\n",
    "    labels = ((log_sfr - logs_min)/(logs_max-logs_min) * NBIN).astype('int')\n",
    "    bin_width = (logs_max - logs_min)/NBIN\n",
    "    bins = np.array([logs_min + bin_width*i for i in range(NBIN)]) + bin_width *.5\n",
    "    mask = (labels >= 0) & (labels < NBIN)\n",
    "    arr = np.zeros(NBIN)\n",
    "\n",
    "    # Num of galaxies per bin of log sfr\n",
    "    for i in labels[mask]:\n",
    "        arr[i] += 1 \n",
    "\n",
    "    # Cumulative SFR function   \n",
    "    CF = np.zeros(NBIN)\n",
    "    CF[-1] = arr[-1]\n",
    "    for i in range(NBIN - 1):\n",
    "        CF[-2-i] = CF[-1-i] + arr[-2-i]\n",
    "    CF /= 500**3  \n",
    "    log_CF = np.log10(CF + 1e-10)"
   ]
  },
  {
   "cell_type": "code",
   "execution_count": null,
   "metadata": {
    "collapsed": false
   },
   "outputs": [],
   "source": [
    "#data = np.load('sfr.npy')\n",
    "#len(np.where(data > 3.16*1e-4)[0])/(500.**3)"
   ]
  },
  {
   "cell_type": "code",
   "execution_count": null,
   "metadata": {
    "collapsed": false
   },
   "outputs": [],
   "source": [
    "f = plt.figure()\n",
    "plt.plot(bins, log_CF, 'b--', alpha = .8)\n",
    "#plt.axhline(y = rho1, linestyle = '--', linewidth = .5, color = 'black', label = r\"log density cuts\")\n",
    "#plt.axhline(y = rho2, linestyle = '--', linewidth = .5, color = 'black')\n",
    "#plt.axhline(y = rho3, linestyle = '--', linewidth = .5, color = 'black')\n",
    "#plt.axhline(y = rho4, linestyle = '--', linewidth = .5, color = 'black')\n",
    "#plt.axhline(y = rho5, linestyle = '--', linewidth = .5, color = 'black')\n",
    "plt.xlim(-3, 2)\n",
    "plt.ylim(-5.5,0)\n",
    "plt.xlabel(r\"SFR$/M_{\\odot}Yr^{-1}$\", fontsize = 12)\n",
    "plt.ylabel(r\"$\\log(Ngal (> SFR)/h^{-3} Mpc^3)$ \", fontsize = 12)\n",
    "#plt.annotate(r\"\\large{\\textbf{%s}}\" %ab, xy=(.05,.9), xycoords='axes fraction')\n",
    "#plt.legend(loc='upper right', frameon = False, prop={'size':12})\n",
    "#f.savefig('SMF_02.pdf')\n",
    "if ranked_type == 1: fn = 'CSMF'\n",
    "else: fn = 'CSFR'    \n",
    "np.savetxt(\"%s_%s.txt\" %(fn,ab), np.array([bins, log_CF]).T)"
   ]
  },
  {
   "cell_type": "code",
   "execution_count": null,
   "metadata": {
    "collapsed": false
   },
   "outputs": [],
   "source": [
    "#dd = np.loadtxt('density_data.txt')\n",
    "#rho1, rho2, rho3, rho4, rho5 = dd[5][0], dd[10][0], dd[15][0], dd[20][0], dd[25][0]"
   ]
  },
  {
   "cell_type": "code",
   "execution_count": null,
   "metadata": {
    "collapsed": true
   },
   "outputs": [],
   "source": [
    "\"\"\"\n",
    "%%time\n",
    "log_CSMF = np.zeros(NBIN)\n",
    "for i in range(NBIN):\n",
    "    mass_cut = left[i]\n",
    "    Ngal_c = len(np.where(log_stellarmass > mass_cut)[0])\n",
    "    log_CSMF[i] = np.log10( Ngal_c +1e-10 ) - 3*np.log10(500)\n",
    "    \n",
    "%%time\n",
    "log_CSFR = np.zeros(NBIN)\n",
    "for i in range(NBIN):\n",
    "    sfr_cut = left[i]\n",
    "    Ngal_c = len(np.where(log_sfr > sfr_cut)[0])\n",
    "    log_CSFR[i] = np.log10(Ngal_c + 1e-10)    \n",
    "\"\"\"    "
   ]
  }
 ],
 "metadata": {
  "kernelspec": {
   "display_name": "Python 2",
   "language": "python",
   "name": "python2"
  },
  "language_info": {
   "codemirror_mode": {
    "name": "ipython",
    "version": 2
   },
   "file_extension": ".py",
   "mimetype": "text/x-python",
   "name": "python",
   "nbconvert_exporter": "python",
   "pygments_lexer": "ipython2",
   "version": "2.7.12"
  }
 },
 "nbformat": 4,
 "nbformat_minor": 1
}
