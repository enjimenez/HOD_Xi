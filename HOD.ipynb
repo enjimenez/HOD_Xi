{
 "cells": [
  {
   "cell_type": "code",
   "execution_count": null,
   "metadata": {
    "collapsed": false
   },
   "outputs": [],
   "source": [
    "import numpy as np\n",
    "import matplotlib.pyplot as plt\n",
    "from matplotlib import rcParams\n",
    "\n",
    "import time\n",
    "rcParams['font.family'] = 'serif'\n",
    "% matplotlib"
   ]
  },
  {
   "cell_type": "code",
   "execution_count": null,
   "metadata": {
    "collapsed": false
   },
   "outputs": [],
   "source": [
    "data = np.loadtxt('DL07_milimill_HOD.csv')\n",
    "IDs = data[:,0]\n",
    "fofid = data[:,1]\n",
    "stellarmass = data[:,2]    # 10^10 /h Msun\n",
    "centralmvir = data[:,3]    # 10^10 /h Msun\n",
    "Type = data[:,4]"
   ]
  },
  {
   "cell_type": "code",
   "execution_count": null,
   "metadata": {
    "collapsed": false
   },
   "outputs": [],
   "source": [
    "def ToClass(X, NBIN, XMIN,XMAX):\n",
    "    labels = (np.array(X-XMIN)/(XMAX-XMIN)*NBIN).astype(int)\n",
    "    return labels"
   ]
  },
  {
   "cell_type": "code",
   "execution_count": null,
   "metadata": {
    "collapsed": false
   },
   "outputs": [],
   "source": [
    "max_masslog = np.max(np.log10(centralmvir) + 10) + 1e-10\n",
    "min_masslog = np.min(np.log10(centralmvir) + 10)\n",
    "\n",
    "NBIN = 30\n",
    "BinSize = (max_masslog - min_masslog)/NBIN\n",
    "\n",
    "log_centralmvir = np.log10(centralmvir) + 10\n",
    "labels = ToClass(log_centralmvir, NBIN, min_masslog, max_masslog)\n",
    "bins = np.linspace(min_masslog, max_masslog, NBIN) + BinSize *.5"
   ]
  },
  {
   "cell_type": "code",
   "execution_count": null,
   "metadata": {
    "collapsed": false
   },
   "outputs": [],
   "source": [
    "min_masslog, max_masslog"
   ]
  },
  {
   "cell_type": "code",
   "execution_count": null,
   "metadata": {
    "collapsed": false
   },
   "outputs": [],
   "source": [
    "start_time = time.time()\n",
    "HOD = np.zeros(NBIN)\n",
    "Centrals = np.zeros(NBIN)\n",
    "Sats = np.zeros(NBIN)\n",
    "\n",
    "for i in range(NBIN):\n",
    "    \n",
    "    idx = np.where(labels == i)[0]\n",
    "    Halos = np.where(Type[idx] == 0)[0] # = Centrals\n",
    "    \n",
    "    mask_HOD = stellarmass[idx] > .1\n",
    "    mask_Cent = (stellarmass[idx] > .1) & (Type[idx] == 0)\n",
    "    mask_Sats = (stellarmass[idx] > .1) & (Type[idx] != 0)\n",
    "    \n",
    "    HOD[i] = (len((stellarmass[idx])[mask_HOD]) +1e-10) / float(len(Halos))\n",
    "    Centrals[i] = (len((stellarmass[idx])[mask_Cent]) +1e-10) / float(len(Halos))\n",
    "    Sats[i] = (len((stellarmass[idx])[mask_Sats]) +1e-10) / float(len(Halos))\n",
    "    \n",
    "    print len(Halos), HOD[i]*len(Halos)\n",
    "    \n",
    "print(\"--- %3fs: loaded ---\" % (time.time() - start_time))  "
   ]
  },
  {
   "cell_type": "code",
   "execution_count": null,
   "metadata": {
    "collapsed": true
   },
   "outputs": [],
   "source": [
    "np.savetxt(\"HOD.txt\", np.array([bins, HOD, Centrals, Sats]).T)"
   ]
  },
  {
   "cell_type": "code",
   "execution_count": null,
   "metadata": {
    "collapsed": false
   },
   "outputs": [],
   "source": [
    "#plt.figure(figsize = [6,6])\n",
    "plt.plot(bins, np.log10(HOD), 'k.', label = 'All')\n",
    "plt.plot(bins, np.log10(Centrals), 'r--', label = 'Centrals')\n",
    "plt.plot(bins, np.log10(Sats), 'b--', label = 'Sats')\n",
    "#plt.annotate(r\"$M > 10^9 M_{\\odot}$\", xy=(80, 270), xycoords='figure pixels')\n",
    "plt.xlabel(r\"$log(M_h / h^{-1}M_{\\odot})$\")\n",
    "plt.ylabel(r\"$log(N)$\")\n",
    "plt.ylim(-2,2)\n",
    "plt.xlim(10,15)\n",
    "plt.minorticks_on()\n",
    "plt.legend(loc='upper left', frameon = False, prop={'size':10})\n",
    "plt.show()"
   ]
  }
 ],
 "metadata": {
  "kernelspec": {
   "display_name": "Python 2",
   "language": "python",
   "name": "python2"
  },
  "language_info": {
   "codemirror_mode": {
    "name": "ipython",
    "version": 2
   },
   "file_extension": ".py",
   "mimetype": "text/x-python",
   "name": "python",
   "nbconvert_exporter": "python",
   "pygments_lexer": "ipython2",
   "version": "2.7.12"
  }
 },
 "nbformat": 4,
 "nbformat_minor": 1
}
