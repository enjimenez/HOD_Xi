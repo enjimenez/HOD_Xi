{
 "cells": [
  {
   "cell_type": "code",
   "execution_count": null,
   "metadata": {
    "collapsed": true
   },
   "outputs": [],
   "source": [
    "import numpy as np\n",
    "import matplotlib.pyplot as plt\n",
    "from matplotlib import rc\n",
    "import os\n",
    "% matplotlib inline\n",
    "rc('text', usetex=True)\n",
    "rc('font', family='serif')"
   ]
  },
  {
   "cell_type": "code",
   "execution_count": 3,
   "metadata": {
    "collapsed": false
   },
   "outputs": [
    {
     "name": "stdout",
     "output_type": "stream",
     "text": [
      "Model: L16\n"
     ]
    }
   ],
   "source": [
    "ab = str(raw_input(\"Model: \"))\n",
    "model = ab + \"_millennium\"\n",
    "path = \"/home/esteban/Escritorio/Practica/Data/\" + model\n",
    "os.chdir( path )"
   ]
  },
  {
   "cell_type": "code",
   "execution_count": 4,
   "metadata": {
    "collapsed": true
   },
   "outputs": [],
   "source": [
    "type_gal = np.load('type.npy')\n",
    "loghalomass = np.log10(np.load('mdhalo.npy') + 1e-10) + 10 # mdhalo in Durham (L16, GP14)"
   ]
  },
  {
   "cell_type": "code",
   "execution_count": 5,
   "metadata": {
    "collapsed": true
   },
   "outputs": [],
   "source": [
    "NBIN = 30\n",
    "logm_min = 9.5\n",
    "logm_max = 15.5\n",
    "labels = ((loghalomass - logm_min)/(logm_max - logm_min) * NBIN).astype('int')\n",
    "bin_width = (logm_max - logm_min)/NBIN\n",
    "bins = np.array([logm_min + bin_width*i for i in range(NBIN)]) + bin_width * 0.5"
   ]
  },
  {
   "cell_type": "code",
   "execution_count": 6,
   "metadata": {
    "collapsed": false
   },
   "outputs": [
    {
     "name": "stdout",
     "output_type": "stream",
     "text": [
      "CPU times: user 30 s, sys: 1.61 s, total: 31.6 s\n",
      "Wall time: 31.5 s\n"
     ]
    }
   ],
   "source": [
    "%%time\n",
    "N = np.zeros(NBIN)\n",
    "mask = (labels >= 0) & (labels < NBIN)\n",
    "for index, tp in zip(labels[mask], type_gal[mask]):\n",
    "    if tp == 0: N[index] += 1\n",
    "n = N/(500**3)\n",
    "        "
   ]
  },
  {
   "cell_type": "code",
   "execution_count": 7,
   "metadata": {
    "collapsed": false
   },
   "outputs": [],
   "source": [
    "np.savetxt(\"hmf_%s\"%ab, np.array([bins, n]).T)"
   ]
  },
  {
   "cell_type": "code",
   "execution_count": 9,
   "metadata": {
    "collapsed": false
   },
   "outputs": [
    {
     "data": {
      "text/plain": [
       "array([  0.00000000e+00,   0.00000000e+00,   0.00000000e+00,\n",
       "         6.18291200e-03,   4.22001200e-02,   3.37627280e-02,\n",
       "         2.17416080e-02,   1.47527840e-02,   9.80445600e-03,\n",
       "         6.45760000e-03,   4.27240800e-03,   2.79143200e-03,\n",
       "         1.82431200e-03,   1.19137600e-03,   7.79600000e-04,\n",
       "         5.10848000e-04,   3.31672000e-04,   2.13568000e-04,\n",
       "         1.36704000e-04,   8.62560000e-05,   5.11600000e-05,\n",
       "         3.03440000e-05,   1.71920000e-05,   9.48800000e-06,\n",
       "         4.93600000e-06,   2.27200000e-06,   7.36000000e-07,\n",
       "         3.28000000e-07,   4.00000000e-08,   0.00000000e+00])"
      ]
     },
     "execution_count": 9,
     "metadata": {},
     "output_type": "execute_result"
    }
   ],
   "source": [
    "n"
   ]
  },
  {
   "cell_type": "code",
   "execution_count": 8,
   "metadata": {
    "collapsed": false
   },
   "outputs": [
    {
     "data": {
      "text/plain": [
       "<matplotlib.text.Text at 0x7f34931b02d0>"
      ]
     },
     "execution_count": 8,
     "metadata": {},
     "output_type": "execute_result"
    },
    {
     "data": {
      "image/png": "[encoded data removed]",
      "text/plain": [
       "<matplotlib.figure.Figure at 0x7f35eddf4c50>"
      ]
     },
     "metadata": {},
     "output_type": "display_data"
    }
   ],
   "source": [
    "plt.plot(bins, n, 'b--')\n",
    "plt.yscale('log')\n",
    "plt.xlim(10,15)\n",
    "plt.ylim(1e-7, 1e-1)\n",
    "plt.ylabel(r\"$n/h^3 Mpc^{-3}$\")\n",
    "plt.xlabel(r\"$log(M_h / h^{-1}M_{\\odot})$\", fontsize = 12)"
   ]
  },
  {
   "cell_type": "code",
   "execution_count": null,
   "metadata": {
    "collapsed": true
   },
   "outputs": [],
   "source": []
  }
 ],
 "metadata": {
  "kernelspec": {
   "display_name": "Python 2",
   "language": "python",
   "name": "python2"
  },
  "language_info": {
   "codemirror_mode": {
    "name": "ipython",
    "version": 2
   },
   "file_extension": ".py",
   "mimetype": "text/x-python",
   "name": "python",
   "nbconvert_exporter": "python",
   "pygments_lexer": "ipython2",
   "version": "2.7.12"
  }
 },
 "nbformat": 4,
 "nbformat_minor": 1
}
