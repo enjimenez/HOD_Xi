{
 "cells": [
  {
   "cell_type": "code",
   "execution_count": null,
   "metadata": {
    "collapsed": false
   },
   "outputs": [],
   "source": [
    "# =========================================================\n",
    "# Nota: Los datos ya deben estar ordenados de acuerdo al fofid\n",
    "# Editar el tipo de corte\n",
    "# Cambiar nombre de archivos de salida\n",
    "# =========================================================\n",
    "import numpy as np\n",
    "import time\n",
    "import matplotlib.pyplot as plt\n",
    "import os\n",
    "import cuts"
   ]
  },
  {
   "cell_type": "code",
   "execution_count": null,
   "metadata": {
    "collapsed": false
   },
   "outputs": [],
   "source": [
    "path = \"/home/esteban/Escritorio/Practica/Data/G13_millennium\" # Guo2013 \n",
    "#path = \"/home/esteban/Escritorio/Practica/Data/G14_millennium\" # Gonzalez2014 \n",
    "#path = \"/home/esteban/Escritorio/Practica/Data/L16_millennium\" # Lacey2016 \n",
    "os.chdir( path )\n",
    "\n",
    "# Loading database\n",
    "x = np.load('x.npy')\n",
    "fofid = np.load('fofid.npy')\n",
    "stellarmass = np.load('stellarmass.npy')\n",
    "centralmvir  = np.log10(np.load('centralmvir.npy') + 1e-10) + 10\n",
    "type_gal = np.load('type.npy')\n",
    "sfr = np.load('sfr.npy')\n",
    "\n",
    "# Density samples (Only 1 run!) Done!\n",
    "#cuts.density_data(sfr, stellarmass)"
   ]
  },
  {
   "cell_type": "code",
   "execution_count": null,
   "metadata": {
    "collapsed": false
   },
   "outputs": [],
   "source": [
    "log_centralmvir = centralmvir\n",
    "logm_min, logm_max = 10, 15.\n",
    "NBIN = 30\n",
    "\n",
    "labels = ((log_centralmvir - logm_min)/(logm_max - logm_min) * NBIN).astype(int)\n",
    "\n",
    "mask = (labels >= NBIN) | (labels < 0)\n",
    "fofid = fofid[~mask]\n",
    "stellarmass = stellarmass[~mask]\n",
    "log_centralmvir = log_centralmvir[~mask]\n",
    "type_gal = type_gal[~mask]\n",
    "sfr = sfr[~mask]\n",
    "labels = labels[~mask]\n",
    "x = x[~mask]\n",
    "\n",
    "bin_width = (logm_max - logm_min)/NBIN\n",
    "bins = np.array([logm_min + bin_width*i for i in range(NBIN)]) + bin_width *.5"
   ]
  },
  {
   "cell_type": "code",
   "execution_count": null,
   "metadata": {
    "collapsed": false,
    "scrolled": true
   },
   "outputs": [],
   "source": [
    "start_time = time.time()\n",
    "# Density selection\n",
    "# =================\n",
    "#   Fila    log(rho)\n",
    "#    25      -1.5\n",
    "#    20      -2.0\n",
    "#    15      -2.5\n",
    "#    10      -3.0\n",
    "#     5      -3.5\n",
    "# =================\n",
    "log_rho, mass_cuts, sfr_cuts = np.loadtxt('density_data.txt', unpack = True)\n",
    "rho, mass_cut, sfr_cut = log_rho[25], mass_cuts[25], sfr_cuts[25]\n",
    "\n",
    "# Centrals data\n",
    "idx = np.where(type_gal == 0)[0]\n",
    "fofid_ar = fofid[idx]\n",
    "logcentralmvir_ar = log_centralmvir[idx]\n",
    "labels_ar = labels[idx]\n",
    "x_ar = x[idx]\n",
    "\n",
    "# Number of central = number of halos\n",
    "len_data = len(fofid_ar)\n",
    "\n",
    "# To save halos data\n",
    "All_ar = np.zeros(len_data)\n",
    "Cent_ar = np.zeros(len_data)\n",
    "Sats_ar = np.zeros(len_data)\n",
    "\n",
    "i,j = 0,0\n",
    "Nsats, Ncent, Nall = 0,0,0\n",
    "len_fulldata = len(fofid)\n",
    "\n",
    "# To make HODs\n",
    "Len_Sats = np.zeros(NBIN)\n",
    "Len_Cent = np.zeros(NBIN)\n",
    "Len_All = np.zeros(NBIN)\n",
    "Halos = np.zeros(NBIN)\n",
    "\n",
    "display_step = len_data/10\n",
    "while i < len_data:\n",
    "    index = labels_ar[i]\n",
    "    cond = (fofid[j] == fofid_ar[i])\n",
    "    while cond:\n",
    "        if sfr[j] > sfr_cut: \n",
    "            Len_All[index] += 1\n",
    "            Nall += 1\n",
    "            if type_gal[j] != 0: \n",
    "                Len_Sats[index] += 1\n",
    "                Nsats += 1\n",
    "            else:\n",
    "                Len_Cent[index] += 1 \n",
    "                Ncent += 1\n",
    "        j += 1\n",
    "        if j == len_fulldata: break\n",
    "        cond = (fofid[j] == fofid_ar[i])\n",
    "     \n",
    "    Halos[index] += 1\n",
    "    # Atencion!! tambien se guardan halos sin galaxias (no cumplen el criterio)\n",
    "    Cent_ar[i] = Ncent\n",
    "    Sats_ar[i] = Nsats\n",
    "    All_ar[i] = Nall\n",
    "    Ncent, Nsats, Nall = 0,0,0\n",
    "    i += 1\n",
    "    if i % display_step == 0:\n",
    "        print \"Step: %i Time: %3fs\" % (i, (time.time() - start_time))"
   ]
  },
  {
   "cell_type": "code",
   "execution_count": null,
   "metadata": {
    "collapsed": false
   },
   "outputs": [],
   "source": [
    "# Save data\n",
    "data = np.array([fofid_ar, logcentralmvir_ar, All_ar, Cent_ar, Sats_ar, x_ar]).T\n",
    "np.save(\"halos_sfrcut_%.1f\" %abs(rho), data)"
   ]
  },
  {
   "cell_type": "code",
   "execution_count": null,
   "metadata": {
    "collapsed": false
   },
   "outputs": [],
   "source": [
    "yy = 500**3\n",
    "print 10**(-2.5)*yy + 10**(-3.0)*yy + 10**(-3.5)*yy"
   ]
  },
  {
   "cell_type": "code",
   "execution_count": null,
   "metadata": {
    "collapsed": false
   },
   "outputs": [],
   "source": [
    "10**(-2.0)*xx + 10**(-2.5)*xx + 10**(-3.0)*xx +10**(-3.5)*xx"
   ]
  },
  {
   "cell_type": "code",
   "execution_count": null,
   "metadata": {
    "collapsed": false
   },
   "outputs": [],
   "source": [
    "HOD = np.log10(Len_All / Halos + 1e-10)\n",
    "Sats = np.log10(Len_Sats / Halos + 1e-10)\n",
    "Cent = np.log10(Len_Cent / Halos + 1e-10)\n",
    "\n",
    "data = np.array([bins, HOD, Cent, Sats]).T\n",
    "np.save(\"hod_sfrcut_%.1f\" %abs(rho), data)"
   ]
  },
  {
   "cell_type": "code",
   "execution_count": null,
   "metadata": {
    "collapsed": false
   },
   "outputs": [],
   "source": [
    "line = np.zeros(NBIN)\n",
    "f = plt.figure()\n",
    "path = \"/home/esteban/Escritorio/Practica/Plots/G13_millennium\" # Guo2013 \n",
    "#path = \"/home/esteban/Escritorio/Practica/Data/G14_millennium\" # Gonzalez2014 \n",
    "#path = \"/home/esteban/Escritorio/Practica/Data/L16_millennium\" # Lacey2016 \n",
    "os.chdir( path )\n",
    "\n",
    "plt.plot(bins, HOD, 'k.', label = 'All')\n",
    "plt.plot(bins, Cent, 'r--', label = 'Cent')\n",
    "plt.plot(bins, Sats , 'b--', label = 'Sats')\n",
    "plt.plot(bins, line, 'k--', lw = .5 )\n",
    "plt.title(r\"$n = 10^{%.1f} /h^{-3} Mpc^3$\" %rho)\n",
    "plt.xlabel(r\"$log(M_h / h^{-1}M_{\\odot})$\")\n",
    "plt.ylabel(r\"$log(N)$\")\n",
    "plt.ylim(-2,2)\n",
    "plt.xlim(10,15)\n",
    "plt.minorticks_on()\n",
    "plt.legend(loc='upper left', frameon = False, prop={'size':10})\n",
    "f.savefig('hod_10.pdf')"
   ]
  },
  {
   "cell_type": "code",
   "execution_count": null,
   "metadata": {
    "collapsed": true
   },
   "outputs": [],
   "source": []
  }
 ],
 "metadata": {
  "kernelspec": {
   "display_name": "Python 2",
   "language": "python",
   "name": "python2"
  },
  "language_info": {
   "codemirror_mode": {
    "name": "ipython",
    "version": 2
   },
   "file_extension": ".py",
   "mimetype": "text/x-python",
   "name": "python",
   "nbconvert_exporter": "python",
   "pygments_lexer": "ipython2",
   "version": "2.7.12"
  }
 },
 "nbformat": 4,
 "nbformat_minor": 1
}
