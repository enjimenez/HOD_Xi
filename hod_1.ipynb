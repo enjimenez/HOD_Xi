{
 "cells": [
  {
   "cell_type": "code",
   "execution_count": 1,
   "metadata": {
    "collapsed": false
   },
   "outputs": [],
   "source": [
    "# ====================================================================================\n",
    "#  seleccionar el corte deseado (ver archivo de densidades) y cambiar el numero de plot\n",
    "# ====================================================================================\n",
    "import numpy as np\n",
    "import matplotlib.pyplot as plt\n",
    "from matplotlib import rc\n",
    "import os\n",
    "from cuts import density_data\n",
    "import plot\n",
    "import HOD\n",
    "\n",
    "rc('text', usetex=True)\n",
    "rc('font', family='serif')"
   ]
  },
  {
   "cell_type": "code",
   "execution_count": 2,
   "metadata": {
    "collapsed": false
   },
   "outputs": [],
   "source": [
    "for model in ['G13']:\n",
    "    for cut in ['Mstell', 'SFR']:\n",
    "        for d in [1,2,3,4]:\n",
    "    \n",
    "            plot.HOD(model, d, cut, Mock=True, cSAM = True, cShuffle=True)"
   ]
  },
  {
   "cell_type": "code",
   "execution_count": null,
   "metadata": {
    "collapsed": false
   },
   "outputs": [],
   "source": [
    "model = 'G13_millennium'\n",
    "path = \"/home/esteban/Escritorio/Practica/Data/\" + model\n",
    "log_centralmvir = np.log10(np.load(path + '/centralmvir.npy') + 1e-10) + 10\n",
    "type_gal = np.load(path + '/type.npy')"
   ]
  },
  {
   "cell_type": "code",
   "execution_count": null,
   "metadata": {
    "collapsed": false
   },
   "outputs": [],
   "source": [
    "%%time\n",
    "type_cuts = ['Mstell', 'SFR']\n",
    "number_densities = [1,2,3,4]\n",
    "NBIN = 30\n",
    "HOD.HOD(NBIN, type_cuts, number_densities, model, log_halomass=log_centralmvir, type_gal=type_gal, SAM=False, Shuffle=True)"
   ]
  },
  {
   "cell_type": "code",
   "execution_count": null,
   "metadata": {
    "collapsed": false,
    "scrolled": true
   },
   "outputs": [],
   "source": [
    "ab = str(raw_input(\"Model: \"))\n",
    "model = ab + \"_millennium\"\n",
    "type_cut = int(raw_input(\"Select criteria:\\n Stellarmass cuts: 1\\n SFR cuts: 2\\n Choice:\"))"
   ]
  },
  {
   "cell_type": "code",
   "execution_count": null,
   "metadata": {
    "collapsed": false
   },
   "outputs": [],
   "source": [
    "path = \"/home/esteban/Escritorio/Practica/Data/\" + model\n",
    "os.chdir( path )"
   ]
  },
  {
   "cell_type": "code",
   "execution_count": null,
   "metadata": {
    "collapsed": false
   },
   "outputs": [],
   "source": [
    "#import cuts\n",
    "sfr = np.load('sfr.npy')\n",
    "stellarmass = np.load('stellarmass.npy')\n",
    "if ab == 'G13': log_centralmvir = np.log10(np.load('centralmvir.npy') + 1e-10) + 10 # MPA\n",
    "else: log_centralmvir = np.log10(np.load('mdhalo.npy') + 1e-10) + 10  # Durham\n",
    "Type = np.load('type.npy')\n",
    "\n",
    "#Density samples (Only 1 run!) Done!\n",
    "#cuts.density_data(sfr, stellarmass)"
   ]
  },
  {
   "cell_type": "code",
   "execution_count": null,
   "metadata": {
    "collapsed": false
   },
   "outputs": [],
   "source": [
    "logm_min = 10\n",
    "logm_max = 15.\n",
    "NBIN = 30\n",
    "\n",
    "mass_labels = ((log_centralmvir - logm_min)/(logm_max - logm_min) * NBIN).astype(int)\n",
    "bin_width = (logm_max - logm_min)/NBIN\n",
    "bins = np.array([logm_min + bin_width*i for i in range(NBIN)]) + bin_width *0.5"
   ]
  },
  {
   "cell_type": "code",
   "execution_count": null,
   "metadata": {
    "collapsed": false
   },
   "outputs": [],
   "source": [
    "%%time\n",
    "#n = [20]\n",
    "n = [5, 10, 15, 20, 25]\n",
    "#n = [1,2,3]\n",
    "log_rho, mass_cuts, sfr_cuts = np.loadtxt('density_data.txt', unpack = True)\n",
    "\n",
    "for k in n:\n",
    "    #path = \"/home/esteban/Escritorio/Practica/Data/\" + model\n",
    "    #os.chdir( path )\n",
    "    \n",
    "    # Density selection\n",
    "    # =================\n",
    "    #   Fila    log(rho)\n",
    "    #    25      -1.5\n",
    "    #    20      -2.0\n",
    "    #    15      -2.5\n",
    "    #    10      -3.0\n",
    "    #     5      -3.5\n",
    "    # =================\n",
    "\n",
    "    #log_rho, mass_cuts, sfr_cuts = np.loadtxt('density_data.txt', unpack = True)\n",
    "    rho, mass_cut, sfr_cut = log_rho[k], mass_cuts[k], sfr_cuts[k]\n",
    "\n",
    "    if type_cut == 1: feature = stellarmass; cut = mass_cut ; tc = 'Stellar Mass/'\n",
    "    else: feature = sfr; cut = sfr_cut; tc = 'SFR/'\n",
    "\n",
    "    # To make HODs\n",
    "    HOD = np.zeros(NBIN)\n",
    "    Cent = np.zeros(NBIN)\n",
    "    Sats = np.zeros(NBIN)\n",
    "\n",
    "    for i in range(NBIN):\n",
    "\n",
    "        idx = np.where(mass_labels == i)[0]\n",
    "        Halos = np.where(Type[idx] == 0)[0] \n",
    "\n",
    "        mask_HOD = feature[idx] > cut # Msun/year\n",
    "        HOD_ID = np.where(mask_HOD)[0]\n",
    "\n",
    "        mask_Cent = np.where(Type[idx][HOD_ID] == 0)[0]\n",
    "        mask_Sats = np.where(Type[idx][HOD_ID] != 0)[0]\n",
    "\n",
    "        Len_Full = len(HOD_ID)\n",
    "        Len_Cent = len(mask_Cent)\n",
    "        Len_Sats = len(mask_Sats)\n",
    "        Len_Haloes = float(len(Halos)) + 1e-10\n",
    "\n",
    "        HOD[i]      = Len_Full / Len_Haloes \n",
    "        Cent[i]     = Len_Cent / Len_Haloes\n",
    "        Sats[i]     = Len_Sats / Len_Haloes\n",
    "        \n",
    "    HOD = np.log10(HOD + 1e-10)\n",
    "    Cent = np.log10(Cent + 1e-10)\n",
    "    Sats = np.log10(Sats + 1e-10)\n",
    "\n",
    "    #mm = path + '/hod_data/' + tc \n",
    "    #np.savetxt(mm + 'hod_%.1f_15b' % abs(rho), np.array([bins, HOD, Cent, Sats]).T)\n",
    "    f = plt.figure()\n",
    "    plt.plot(bins, HOD, 'k.', label = 'All')\n",
    "    plt.plot(bins, Cent, 'r--', label = 'Cent')\n",
    "    plt.plot(bins, Sats, 'b--', label = 'Sats')\n",
    "    plt.axhline(y = 0, color='black', linestyle='--', lw=.4)\n",
    "    plt.title(r\"$n =10^{-%.1f}/h^{-3} Mpc^3$\" %rho)\n",
    "    plt.xlabel(r\"$log(M_h / h^{-1}M_{\\odot})$\", fontsize = 10)\n",
    "    plt.ylabel(r\"$log(N)$\", fontsize = 10)\n",
    "    plt.ylim(-6,3)\n",
    "    plt.xlim(10,15)\n",
    "    plt.minorticks_on()\n",
    "    plt.legend(loc='upper left',title = r\"\\textbf{%s}\"% ab, frameon = False, prop={'size':10})\n",
    "    f.savefig(path + '/hod_%.1f_zoomoff.pdf' %abs(rho))           \n",
    "               \n"
   ]
  },
  {
   "cell_type": "code",
   "execution_count": null,
   "metadata": {
    "collapsed": false
   },
   "outputs": [],
   "source": []
  },
  {
   "cell_type": "code",
   "execution_count": null,
   "metadata": {
    "collapsed": false,
    "scrolled": true
   },
   "outputs": [],
   "source": [
    "# ======== TO PLOT ===========\n",
    "f = plt.figure()\n",
    "#path = \"/home/esteban/Escritorio/Practica/Plots/\" + model + '/HOD/' + tc\n",
    "path = \"/home/esteban/Escritorio/Practica/Data/\" + model + '/hod_data/' + tc\n",
    "os.chdir( path )\n",
    "rho = 2.0\n",
    "\n",
    "bins1, HOD1, Cent1, Sats1 = np.loadtxt(mm + 'hod_%.1f' %rho, unpack=True)\n",
    "bins2, HOD2, Cent2, Sats2 = np.loadtxt(mm + 'hod_%.1f_15b' %rho, unpack=True)\n",
    "bins3, HOD3, Cent3, Sats3 = np.loadtxt(mm + 'hod_%.1f_60b' %rho, unpack=True)\n",
    "\n",
    "plt.plot(bins1, HOD1, 'k-', lw = .7, label = 'All (30 Bins)')\n",
    "plt.plot(bins2, HOD2, 'r-', lw = .7, label = 'All (15 Bins)')\n",
    "plt.plot(bins3, HOD3, 'b-', lw = .7, label = 'All (60 Bins)')\n",
    "plt.axhline(y = 0, color='black', linestyle='--', lw=.4)\n",
    "#plt.plot(bins, Cent, 'r--', label = 'Cent')\n",
    "#plt.plot(bins, Sats, 'b--', label = 'Sats')\n",
    "#plt.plot(bins, line, 'k--', lw = .5 )\n",
    "plt.title(r\"$n = 10^{-%.1f} /h^{-3} Mpc^3$\" %rho)\n",
    "plt.xlabel(r\"$log(M_h / h^{-1}M_{\\odot})$\", fontsize = 10)\n",
    "plt.ylabel(r\"$log(N)$\", fontsize = 10)\n",
    "plt.ylim(-6,3)\n",
    "plt.xlim(10,15)\n",
    "plt.minorticks_on()\n",
    "plt.legend(loc='upper left',title = r\"\\textbf{%s}\"% ab, frameon = False, prop={'size':10})\n",
    "f.savefig('hod_%.1f.pdf' %rho)"
   ]
  },
  {
   "cell_type": "code",
   "execution_count": null,
   "metadata": {
    "collapsed": true
   },
   "outputs": [],
   "source": []
  },
  {
   "cell_type": "code",
   "execution_count": null,
   "metadata": {
    "collapsed": true
   },
   "outputs": [],
   "source": []
  }
 ],
 "metadata": {
  "kernelspec": {
   "display_name": "Python 2",
   "language": "python",
   "name": "python2"
  },
  "language_info": {
   "codemirror_mode": {
    "name": "ipython",
    "version": 2
   },
   "file_extension": ".py",
   "mimetype": "text/x-python",
   "name": "python",
   "nbconvert_exporter": "python",
   "pygments_lexer": "ipython2",
   "version": "2.7.12"
  }
 },
 "nbformat": 4,
 "nbformat_minor": 1
}
