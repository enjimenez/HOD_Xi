{
 "cells": [
  {
   "cell_type": "code",
   "execution_count": null,
   "metadata": {
    "collapsed": false
   },
   "outputs": [],
   "source": [
    "# =======================================================\n",
    "# Primero editar si se quieren cortes en sfr o stellarmass!\n",
    "# y seleccionar el corte deseado (ver archivo de densidades)\n",
    "# ======================================================\n",
    "import numpy as np\n",
    "import matplotlib.pyplot as plt\n",
    "from matplotlib import rcParams\n",
    "import os\n",
    "from cuts import density_data\n",
    "\n",
    "rcParams['font.family'] = 'serif'"
   ]
  },
  {
   "cell_type": "code",
   "execution_count": null,
   "metadata": {
    "collapsed": true
   },
   "outputs": [],
   "source": [
    "path = \"/home/esteban/Escritorio/Practica/Data/G13_millennium\"  # Guo2013    (MPA)\n",
    "#path = \"/home/esteban/Escritorio/Practica/Data/G14_millennium\" # Gonzalez2014  (Durham)\n",
    "#path = \"/home/esteban/Escritorio/Practica/Data/L16_millennium\" # Lacey2016     (Durham)\n",
    "os.chdir( path )"
   ]
  },
  {
   "cell_type": "code",
   "execution_count": null,
   "metadata": {
    "collapsed": false
   },
   "outputs": [],
   "source": [
    "sfr = np.load('sfr.npy')\n",
    "stellarmass = np.load('stellarmass.npy')\n",
    "#fofid = np.load('fofid.npy')\n",
    "centralmvir = np.log10(np.load('centralmvir.npy') + 1e-10) + 10 # mdhalo in MPA database\n",
    "Type = np.load('type.npy')\n",
    "\n",
    "# Density samples (Only 1 run!) Done!\n",
    "#density_data(sfr, stellarmass)"
   ]
  },
  {
   "cell_type": "code",
   "execution_count": null,
   "metadata": {
    "collapsed": false
   },
   "outputs": [],
   "source": [
    "log_centralmvir = centralmvir\n",
    "logm_min = 10\n",
    "logm_max = 15.\n",
    "NBIN = 30\n",
    "\n",
    "mass_labels = ((log_centralmvir - logm_min)/(logm_max - logm_min) * NBIN).astype(int)\n",
    "bin_width = (logm_max - logm_min)/NBIN\n",
    "bins = np.array([10 + bin_width*i for i in range(NBIN)]) + bin_width *.5"
   ]
  },
  {
   "cell_type": "code",
   "execution_count": null,
   "metadata": {
    "collapsed": false
   },
   "outputs": [],
   "source": [
    "%%time\n",
    "# Density selection\n",
    "# =================\n",
    "#   Fila    log(rho)\n",
    "#    15      -2.5\n",
    "#    10      -3.0\n",
    "#     5      -3.5\n",
    "# =================\n",
    "log_rho, mass_cuts, sfr_cuts = np.loadtxt('density_data.txt', unpack = True)\n",
    "rho, mass_cut, sfr_cut = log_rho[5], mass_cuts[5], sfr_cuts[5]\n",
    "\n",
    "# To make HODs\n",
    "HOD = np.zeros(NBIN)\n",
    "Centrals = np.zeros(NBIN)\n",
    "Sats = np.zeros(NBIN)\n",
    "\n",
    "\n",
    "for i in range(NBIN):\n",
    "    \n",
    "    idx = np.where(mass_labels == i)[0]\n",
    "    Halos = np.where(Type[idx] == 0)[0] \n",
    "    \n",
    "    mask_HOD = sfr[idx] > sfr_cut # Msun/year\n",
    "    HOD_ID = np.where(mask_HOD)[0]\n",
    "    \n",
    "    mask_Cent = np.where(Type[idx][HOD_ID] == 0)[0]\n",
    "    mask_Sats = np.where(Type[idx][HOD_ID] != 0)[0]\n",
    "    \n",
    "    Len_Full = len(HOD_ID)\n",
    "    Len_Cent = len(mask_Cent)\n",
    "    Len_Sats = len(mask_Sats)\n",
    "    Len_Haloes = float(len(Halos)) + 1e-10\n",
    "    \n",
    "    HOD[i]      = Len_Full / Len_Haloes \n",
    "    Centrals[i] = Len_Cent / Len_Haloes\n",
    "    Sats[i]     = Len_Sats / Len_Haloes\n"
   ]
  },
  {
   "cell_type": "code",
   "execution_count": null,
   "metadata": {
    "collapsed": true
   },
   "outputs": [],
   "source": [
    "#np.save(\"HOD_sfr_01.txt\", np.array([bins, HOD, Centrals, Sats]).T)"
   ]
  },
  {
   "cell_type": "code",
   "execution_count": null,
   "metadata": {
    "collapsed": false
   },
   "outputs": [],
   "source": [
    "f = plt.figure()\n",
    "line = np.zeros(NBIN)\n",
    "\n",
    "path = \"/home/esteban/Escritorio/Practica/Plots/G13_millennium\" # Guo2013 \n",
    "#path = \"/home/esteban/Escritorio/Practica/Plots/G14_millennium\" # Gonzalez2014 \n",
    "#path = \"/home/esteban/Escritorio/Practica/Plots/L16_millennium\" # Lacey2016 \n",
    "os.chdir( path )\n",
    "\n",
    "plt.plot(bins, np.log10(HOD + 1e-10), 'k.', label = 'All')\n",
    "plt.plot(bins, np.log10(Centrals + 1e-10), 'r--', label = 'Centrals')\n",
    "plt.plot(bins, np.log10(Sats + 1e-10), 'b--', label = 'Sats')\n",
    "plt.plot(bins, line, 'k--', lw = .5 )\n",
    "plt.title(r\"$n = 10^{%.1f} /h^{-3} Mpc^3$\" %rho)\n",
    "plt.xlabel(r\"$log(M_h / h^{-1}M_{\\odot})$\")\n",
    "plt.ylabel(r\"$log(N)$\")\n",
    "plt.ylim(-3,3)\n",
    "plt.xlim(10,15)\n",
    "plt.minorticks_on()\n",
    "plt.legend(loc='upper left', frameon = False, prop={'size':10})\n",
    "f.savefig('hod_04.pdf')"
   ]
  },
  {
   "cell_type": "code",
   "execution_count": null,
   "metadata": {
    "collapsed": true
   },
   "outputs": [],
   "source": []
  }
 ],
 "metadata": {
  "kernelspec": {
   "display_name": "Python 2",
   "language": "python",
   "name": "python2"
  },
  "language_info": {
   "codemirror_mode": {
    "name": "ipython",
    "version": 2
   },
   "file_extension": ".py",
   "mimetype": "text/x-python",
   "name": "python",
   "nbconvert_exporter": "python",
   "pygments_lexer": "ipython2",
   "version": "2.7.12"
  }
 },
 "nbformat": 4,
 "nbformat_minor": 1
}
