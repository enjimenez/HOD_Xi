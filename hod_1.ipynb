{
 "cells": [
  {
   "cell_type": "code",
   "execution_count": 1,
   "metadata": {
    "collapsed": false
   },
   "outputs": [],
   "source": [
    "# ====================================================================================\n",
    "#  seleccionar el corte deseado (ver archivo de densidades) y cambiar el numero de plot\n",
    "# ====================================================================================\n",
    "import numpy as np\n",
    "import matplotlib.pyplot as plt\n",
    "from matplotlib import rc\n",
    "import os\n",
    "from cuts import density_data\n",
    "rc('text', usetex=True)\n",
    "rc('font', family='serif')\n",
    "% matplotlib inline"
   ]
  },
  {
   "cell_type": "code",
   "execution_count": 52,
   "metadata": {
    "collapsed": false,
    "scrolled": true
   },
   "outputs": [
    {
     "name": "stdout",
     "output_type": "stream",
     "text": [
      "Model: L16\n",
      "Select criteria:\n",
      " Stellarmass cuts: 1\n",
      " SFR cuts: 2\n",
      " Choice:2\n"
     ]
    }
   ],
   "source": [
    "ab = str(raw_input(\"Model: \"))\n",
    "model = ab + \"_millennium\"\n",
    "type_cut = int(raw_input(\"Select criteria:\\n Stellarmass cuts: 1\\n SFR cuts: 2\\n Choice:\"))"
   ]
  },
  {
   "cell_type": "code",
   "execution_count": null,
   "metadata": {
    "collapsed": false
   },
   "outputs": [],
   "source": [
    "path = \"/home/esteban/Escritorio/Practica/Data/\" + model\n",
    "os.chdir( path )"
   ]
  },
  {
   "cell_type": "code",
   "execution_count": null,
   "metadata": {
    "collapsed": false
   },
   "outputs": [],
   "source": [
    "#import cuts\n",
    "sfr = np.load('sfr.npy')\n",
    "stellarmass = np.load('stellarmass.npy')\n",
    "if ab == 'G13': log_centralmvir = np.log10(np.load('centralmvir.npy') + 1e-10) + 10 # MPA\n",
    "else: log_centralmvir = np.log10(np.load('mdhalo.npy') + 1e-10) + 10  # Durham\n",
    "Type = np.load('type.npy')\n",
    "\n",
    "#Density samples (Only 1 run!) Done!\n",
    "#cuts.density_data(sfr, stellarmass)"
   ]
  },
  {
   "cell_type": "code",
   "execution_count": null,
   "metadata": {
    "collapsed": false
   },
   "outputs": [],
   "source": [
    "ab = 'L16'\n",
    "model = ab + \"_millennium\"\n",
    "path = \"/home/esteban/Escritorio/Practica/Data/\" + model\n",
    "xi_sam_path = path + '/xi_sam/' + 'SFR/'\n",
    "logr, xi, DD, RR = np.loadtxt(xi_sam_path + 'xi_2.5.txt', unpack = True)\n",
    "\n",
    "#os.chdir(path)\n",
    "#f = open('G13_xi_sergio.txt', 'w')\n",
    "#for i in range(len(logr)):\n",
    "#    print >> f, logr[i], xi[i], DD[i], RR[i]\n",
    "#f.close()"
   ]
  },
  {
   "cell_type": "code",
   "execution_count": null,
   "metadata": {
    "collapsed": false
   },
   "outputs": [],
   "source": [
    "#xi = xi - 1\n",
    "#os.chdir( xi_sam_path )\n",
    "#np.savetxt('xi_2.5.txt', np.array([logr, xi, DD, RR]).T)"
   ]
  },
  {
   "cell_type": "code",
   "execution_count": 60,
   "metadata": {
    "collapsed": false
   },
   "outputs": [],
   "source": [
    "path = \"/home/esteban/Escritorio/Practica/Data/\" + model\n",
    "\n",
    "if type_cut == 1: tc = 'Stellar Mass/'\n",
    "else: tc = 'SFR/'\n",
    "\n",
    "cat_path = path + '/Catalogues/'+ tc\n",
    "data = np.load(cat_path + 'cat_d3_fixed.npy')\n",
    "x,y,z,halomass = data[:,0], data[:,1], data[:,2], data[:,3]\n",
    "\n",
    "\n",
    "logm_min = 10\n",
    "logm_max = 14.8333333\n",
    "NBIN = 29\n",
    "bin_width = (logm_max - logm_min)/NBIN\n",
    "\n",
    "mass_labels = ((halomass - logm_min)/(logm_max - logm_min) * NBIN).astype(int)\n",
    "bin_width = (logm_max - logm_min)/NBIN\n",
    "bins = np.array([logm_min + bin_width*i for i in range(NBIN)]) + bin_width *.5"
   ]
  },
  {
   "cell_type": "code",
   "execution_count": 61,
   "metadata": {
    "collapsed": false
   },
   "outputs": [],
   "source": [
    "HOD = np.zeros(NBIN)\n",
    "for i in range(NBIN):\n",
    "    idx = np.where(mass_labels ==i)[0]\n",
    "    haloes_mask = halomass[idx]\n",
    "    Len_Haloes = len(np.unique(haloes_mask)) + 1e-10\n",
    "    Len_Full = len(idx)\n",
    "    HOD[i]      = Len_Full / Len_Haloes \n",
    "        \n",
    "HOD = np.log10(HOD + 1e-10)\n"
   ]
  },
  {
   "cell_type": "code",
   "execution_count": 62,
   "metadata": {
    "collapsed": false
   },
   "outputs": [
    {
     "data": {
      "image/png": "[encoded data removed]",
      "text/plain": [
       "<matplotlib.figure.Figure at 0x7f9eb64d0ed0>"
      ]
     },
     "metadata": {},
     "output_type": "display_data"
    }
   ],
   "source": [
    "f = plt.figure()\n",
    "plt.plot(bins, HOD, 'k.', label = 'All')\n",
    "#plt.plot(bins, line, 'k--', lw = .5 )\n",
    "plt.title(r\"$n = 10^{-2.5} /h^{-3} Mpc^3$\")\n",
    "plt.xlabel(r\"$log(M_h / h^{-1}M_{\\odot})$\", fontsize = 10)\n",
    "plt.ylabel(r\"$log(N)$\", fontsize = 10)\n",
    "plt.ylim(-2,3)\n",
    "plt.xlim(10,15)\n",
    "plt.minorticks_on()\n",
    "plt.legend(loc='upper left',title = r\"\\textbf{%s}\"% ab, frameon = False, prop={'size':10})\n",
    "pp = cat_path + '/HOD/'\n",
    "os.chdir(pp)\n",
    "f.savefig('hod_2.5.pdf')"
   ]
  },
  {
   "cell_type": "code",
   "execution_count": null,
   "metadata": {
    "collapsed": false
   },
   "outputs": [],
   "source": [
    "logm_min = 10\n",
    "logm_max = 15.\n",
    "NBIN = 30\n",
    "\n",
    "mass_labels = ((log_centralmvir - logm_min)/(logm_max - logm_min) * NBIN).astype(int)\n",
    "bin_width = (logm_max - logm_min)/NBIN\n",
    "bins = np.array([logm_min + bin_width*i for i in range(NBIN)]) + bin_width *.5"
   ]
  },
  {
   "cell_type": "code",
   "execution_count": null,
   "metadata": {
    "collapsed": false
   },
   "outputs": [],
   "source": [
    "#n = [5, 10, 15, 20, 25]\n",
    "n = [1,2,3]\n",
    "#log_rho, mass_cuts, sfr_cuts = np.loadtxt('density_data.txt', unpack = True)\n",
    "\n",
    "for k in n:\n",
    "    path = \"/home/esteban/Escritorio/Practica/Data/\" + model\n",
    "    \n",
    "    os.chdir( path )\n",
    "    \n",
    "    %%time\n",
    "    # Density selection\n",
    "    # =================\n",
    "    #   Fila    log(rho)\n",
    "    #    25      -1.5\n",
    "    #    20      -2.0\n",
    "    #    15      -2.5\n",
    "    #    10      -3.0\n",
    "    #     5      -3.5\n",
    "    # =================\n",
    "\n",
    "    #log_rho, mass_cuts, sfr_cuts = np.loadtxt('density_data.txt', unpack = True)\n",
    "    #rho, mass_cut, sfr_cut = log_rho[k], mass_cuts[k], sfr_cuts[k]\n",
    "\n",
    "    #if type_cut == 1: feature = stellarmass; cut = mass_cut ; tc = 'Stellar Mass/'\n",
    "    #else: feature = sfr; cut = sfr_cut; tc = 'SFR/'\n",
    "\n",
    "    # To make HODs\n",
    "    HOD = np.zeros(NBIN)\n",
    "    Cent = np.zeros(NBIN)\n",
    "    Sats = np.zeros(NBIN)\n",
    "\n",
    "    for i in range(NBIN):\n",
    "\n",
    "        idx = np.where(mass_labels == i)[0]\n",
    "        Halos = np.where(Type[idx] == 0)[0] \n",
    "\n",
    "        mask_HOD = feature[idx] > cut # Msun/year\n",
    "        HOD_ID = np.where(mask_HOD)[0]\n",
    "\n",
    "        mask_Cent = np.where(Type[idx][HOD_ID] == 0)[0]\n",
    "        mask_Sats = np.where(Type[idx][HOD_ID] != 0)[0]\n",
    "\n",
    "        Len_Full = len(HOD_ID)\n",
    "        Len_Cent = len(mask_Cent)\n",
    "        Len_Sats = len(mask_Sats)\n",
    "        Len_Haloes = float(len(Halos)) + 1e-10\n",
    "\n",
    "        HOD[i]      = Len_Full / Len_Haloes \n",
    "        Cent[i]     = Len_Cent / Len_Haloes\n",
    "        Sats[i]     = Len_Sats / Len_Haloes\n",
    "        \n",
    "    HOD = np.log10(HOD + 1e-10)\n",
    "    Cent = np.log10(Cent + 1e-10)\n",
    "    Sats = np.log10(Sats + 1e-10)\n",
    "\n",
    "    #mm = path + '/hod_data/' + tc \n",
    "    #np.savetxt(mm + 'hod_%.1f' % abs(rho), np.array([bins, HOD, Cent, Sats]).T)\n"
   ]
  },
  {
   "cell_type": "code",
   "execution_count": null,
   "metadata": {
    "collapsed": true
   },
   "outputs": [],
   "source": [
    "plt.plot(bins, HOD, 'k.', label = 'All')\n",
    "plt.plot(bins, Cent, 'r--', label = 'Cent')\n",
    "plt.plot(bins, Sats, 'b--', label = 'Sats')\n",
    "plt.plot(bins, line, 'k--', lw = .5 )\n",
    "plt.title(r\"$n = 10^{-%.1f} /h^{-3} Mpc^3$\")\n",
    "plt.xlabel(r\"$log(M_h / h^{-1}M_{\\odot})$\", fontsize = 10)\n",
    "plt.ylabel(r\"$log(N)$\", fontsize = 10)\n",
    "plt.ylim(-2,3)\n",
    "plt.xlim(10,15)\n",
    "plt.minorticks_on()\n",
    "plt.legend(loc='upper left',title = r\"\\textbf{%s}\"% ab, frameon = False, prop={'size':10})"
   ]
  },
  {
   "cell_type": "code",
   "execution_count": null,
   "metadata": {
    "collapsed": false,
    "scrolled": true
   },
   "outputs": [],
   "source": [
    "# ======== TO PLOT ===========\n",
    "f = plt.figure()\n",
    "line = np.zeros(NBIN)\n",
    "\n",
    "path = \"/home/esteban/Escritorio/Practica/Plots/\" + model + '/HOD/' + tc\n",
    "os.chdir( path )\n",
    "rho = 3.5\n",
    "\n",
    "bins, HOD, Cent, Sats = np.loadtxt(mm + 'hod_%.1f' %rho, unpack=True)\n",
    "\n",
    "plt.plot(bins, HOD, 'k.', label = 'All')\n",
    "plt.plot(bins, Cent, 'r--', label = 'Cent')\n",
    "plt.plot(bins, Sats, 'b--', label = 'Sats')\n",
    "plt.plot(bins, line, 'k--', lw = .5 )\n",
    "plt.title(r\"$n = 10^{-%.1f} /h^{-3} Mpc^3$\" %rho)\n",
    "plt.xlabel(r\"$log(M_h / h^{-1}M_{\\odot})$\", fontsize = 10)\n",
    "plt.ylabel(r\"$log(N)$\", fontsize = 10)\n",
    "plt.ylim(-2,3)\n",
    "plt.xlim(10,15)\n",
    "plt.minorticks_on()\n",
    "plt.legend(loc='upper left',title = r\"\\textbf{%s}\"% ab, frameon = False, prop={'size':10})\n",
    "f.savefig('hod_%.1f.pdf' %rho)"
   ]
  },
  {
   "cell_type": "code",
   "execution_count": null,
   "metadata": {
    "collapsed": true
   },
   "outputs": [],
   "source": []
  },
  {
   "cell_type": "code",
   "execution_count": null,
   "metadata": {
    "collapsed": true
   },
   "outputs": [],
   "source": []
  }
 ],
 "metadata": {
  "kernelspec": {
   "display_name": "Python 2",
   "language": "python",
   "name": "python2"
  },
  "language_info": {
   "codemirror_mode": {
    "name": "ipython",
    "version": 2
   },
   "file_extension": ".py",
   "mimetype": "text/x-python",
   "name": "python",
   "nbconvert_exporter": "python",
   "pygments_lexer": "ipython2",
   "version": "2.7.12"
  }
 },
 "nbformat": 4,
 "nbformat_minor": 1
}
