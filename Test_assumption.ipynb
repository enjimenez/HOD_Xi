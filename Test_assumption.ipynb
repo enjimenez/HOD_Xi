{
 "cells": [
  {
   "cell_type": "code",
   "execution_count": null,
   "metadata": {
    "collapsed": false
   },
   "outputs": [],
   "source": [
    "import numpy as np\n",
    "import matplotlib.pyplot as plt\n",
    "from matplotlib import rc\n",
    "import os\n",
    "% matplotlib inline\n",
    "rc('text', usetex=True)\n",
    "rc('font', family='serif')\n",
    "\n",
    "ab = str(raw_input(\"Model: \"))\n",
    "model = ab + \"_millennium\"\n",
    "path = \"/home/esteban/Escritorio/Practica/Data/\" + model\n",
    "os.chdir( path )\n",
    "\n",
    "halos_data = np.load('halos_sfrcut_1.5.npy')\n",
    "\n",
    "logmass = halos_data[:,1]\n",
    "Cent = halos_data[:,3]\n",
    "Sats = halos_data[:,4]\n",
    "\n",
    "#logm_min = 10.5\n",
    "#logm_max = 15\n",
    "#NBIN = 30\n",
    "#halomass_labels = ((logmass - logm_min)/(logm_max - logm_min) * NBIN).astype(int)\n",
    "#bin_width = (logm_max - logm_min)/NBIN\n",
    "#bins = np.array([logm_min + bin_width*i for i in range(NBIN)]) + bin_width *.5\n",
    "\n",
    "logm_min = 10.5\n",
    "logm_max = 15\n",
    "NBIN = 30\n",
    "halomass_labels = ((logmass - logm_min)/(logm_max - logm_min) * NBIN).astype(int)\n",
    "bin_width = (logm_max - logm_min)/NBIN\n",
    "bins = np.array([logm_min + bin_width*i for i in range(NBIN)]) + bin_width *.5\n",
    "\n",
    "ICS_plt = np.zeros(NBIN)\n",
    "ACS_plt = np.zeros(NBIN)    \n",
    "for i in range(NBIN):\n",
    "    \n",
    "    idx = np.where(halomass_labels == i)[0]\n",
    "    Cent_ar = Cent[idx]\n",
    "    Sats_ar = Sats[idx]\n",
    "    \n",
    "    Mean_Cent = np.mean(Cent_ar)\n",
    "    Mean_Sats = np.mean(Sats_ar)\n",
    "    ICS_plt[i] = Mean_Cent * Mean_Sats\n",
    "    \n",
    "    CS = Cent_ar * Sats_ar\n",
    "    ACS_plt[i] = np.mean(CS)\n",
    "    \n",
    "np.savetxt(\"test_assumption_05\", np.array([bins, ICS_plt, ACS_plt]).T)    "
   ]
  },
  {
   "cell_type": "code",
   "execution_count": 25,
   "metadata": {
    "collapsed": false
   },
   "outputs": [
    {
     "name": "stdout",
     "output_type": "stream",
     "text": [
      "Model: G13\n"
     ]
    }
   ],
   "source": [
    "import numpy as np\n",
    "import matplotlib.pyplot as plt\n",
    "from matplotlib import rc\n",
    "import os\n",
    "% matplotlib inline\n",
    "rc('text', usetex=True)\n",
    "rc('font', family='serif')\n",
    "\n",
    "ab = str(raw_input(\"Model: \"))\n",
    "model = ab + \"_millennium\"\n",
    "path = \"/home/esteban/Escritorio/Practica/Data/\" + model\n",
    "os.chdir( path )\n",
    "\n",
    "halos_data = np.load('halos_masscut_1.5.npy')\n",
    "logmass = halos_data[:,1]\n",
    "All = halos_data[:,2] ################ TENGO QUE BORRAR LO QUE NO CUMPLE CON EL CRITERIO \n",
    "Cent = halos_data[:,3]\n",
    "Sats = halos_data[:,4]\n",
    "\n",
    "#mask = (All != 0)\n",
    "#logmass = logmass[mask]\n",
    "#Cent = Cent[mask]\n",
    "#Sats = Sats[mask]"
   ]
  },
  {
   "cell_type": "code",
   "execution_count": 26,
   "metadata": {
    "collapsed": false
   },
   "outputs": [],
   "source": [
    "logm_min = 10.5\n",
    "logm_max = 15.5\n",
    "NBIN = 30\n",
    "labels = (((logmass - logm_min)/(logm_max - logm_min)) * NBIN).astype('int')\n",
    "bin_width = (logm_max - logm_min)/NBIN\n",
    "bins = np.array([logm_min + bin_width*i for i in range(NBIN)]) + bin_width *.5"
   ]
  },
  {
   "cell_type": "code",
   "execution_count": 27,
   "metadata": {
    "collapsed": false
   },
   "outputs": [
    {
     "name": "stdout",
     "output_type": "stream",
     "text": [
      "CPU times: user 29.2 s, sys: 240 ms, total: 29.5 s\n",
      "Wall time: 29.3 s\n"
     ]
    }
   ],
   "source": [
    "%%time\n",
    "Nsat = np.zeros(NBIN)\n",
    "Ncen = np.zeros(NBIN)\n",
    "N_cs = np.zeros(NBIN)\n",
    "Nhalos = np.zeros(NBIN)\n",
    "\n",
    "mask = (labels >= 0) & (labels < NBIN)\n",
    "Cent = Cent[mask]\n",
    "Sats = Sats[mask]\n",
    "labels = labels[mask]\n",
    "\n",
    "for j,i in enumerate(labels):\n",
    "    \n",
    "    Ncen[i] += Cent[j]\n",
    "    Nsat[i] += Sats[j]\n",
    "    N_cs[i] += (Cent[j] * Sats[j])\n",
    "    Nhalos[i] += 1\n",
    "    \n",
    "    \n",
    "    \n",
    "    "
   ]
  },
  {
   "cell_type": "code",
   "execution_count": 14,
   "metadata": {
    "collapsed": false
   },
   "outputs": [
    {
     "data": {
      "text/plain": [
       "array([  4.90362400e+06,   1.55801100e+06,   1.13053900e+06,\n",
       "         8.10871000e+05,   5.81958000e+05,   4.07121000e+05,\n",
       "         2.93056000e+05,   2.08953000e+05,   1.48182000e+05,\n",
       "         1.05262000e+05,   7.38820000e+04,   5.26120000e+04,\n",
       "         3.66960000e+04,   2.54800000e+04,   1.79430000e+04,\n",
       "         1.23380000e+04,   8.37700000e+03,   5.47700000e+03,\n",
       "         3.55300000e+03,   2.27600000e+03,   1.40500000e+03,\n",
       "         8.46000000e+02,   4.95000000e+02,   2.62000000e+02,\n",
       "         1.05000000e+02,   5.70000000e+01,   1.60000000e+01,\n",
       "         0.00000000e+00,   0.00000000e+00,   0.00000000e+00])"
      ]
     },
     "execution_count": 14,
     "metadata": {},
     "output_type": "execute_result"
    }
   ],
   "source": [
    "Nhalos"
   ]
  },
  {
   "cell_type": "code",
   "execution_count": 6,
   "metadata": {
    "collapsed": false,
    "scrolled": true
   },
   "outputs": [
    {
     "data": {
      "text/plain": [
       "array([  0.00000000e+00,   3.00000000e+00,   4.00000000e+00,\n",
       "         7.00000000e+00,   1.10000000e+01,   2.00000000e+01,\n",
       "         1.02000000e+02,   6.27000000e+02,   1.81200000e+03,\n",
       "         3.80800000e+03,   6.96000000e+03,   1.02310000e+04,\n",
       "         1.33190000e+04,   1.62060000e+04,   1.81560000e+04,\n",
       "         2.03780000e+04,   2.12660000e+04,   2.27260000e+04,\n",
       "         2.33870000e+04,   2.26400000e+04,   2.24410000e+04,\n",
       "         2.09880000e+04,   1.88580000e+04,   1.81040000e+04,\n",
       "         1.59290000e+04,   1.16870000e+04,   1.02530000e+04,\n",
       "         5.59900000e+03,   4.94600000e+03,   1.63600000e+03])"
      ]
     },
     "execution_count": 6,
     "metadata": {},
     "output_type": "execute_result"
    }
   ],
   "source": [
    "Nsat"
   ]
  },
  {
   "cell_type": "code",
   "execution_count": 28,
   "metadata": {
    "collapsed": true
   },
   "outputs": [],
   "source": [
    "Nhalos += 1e-10\n",
    "Nsat += 1e-10\n",
    "Ncen += 1e-10"
   ]
  },
  {
   "cell_type": "code",
   "execution_count": 29,
   "metadata": {
    "collapsed": false
   },
   "outputs": [],
   "source": [
    "Mean_Cent = Ncen/Nhalos\n",
    "Mean_Sats = Nsat/Nhalos\n",
    "DCS = N_cs / Nhalos"
   ]
  },
  {
   "cell_type": "code",
   "execution_count": 32,
   "metadata": {
    "collapsed": false
   },
   "outputs": [
    {
     "data": {
      "text/plain": [
       "array([  8.36116309e-06,   3.97943275e-05,   1.20296602e-04,\n",
       "         4.71098362e-04,   1.57915176e-03,   8.17693020e-03,\n",
       "         1.85411662e-01,   4.86228961e-01,   6.31696157e-01,\n",
       "         7.39906139e-01,   8.34181533e-01,   8.97190755e-01,\n",
       "         9.38576412e-01,   9.64835165e-01,   9.82110015e-01,\n",
       "         9.88977144e-01,   9.93911902e-01,   9.94522549e-01,\n",
       "         9.96059668e-01,   9.95166960e-01,   9.97864769e-01,\n",
       "         9.97635934e-01,   1.00000000e+00,   9.96183206e-01,\n",
       "         1.00000000e+00,   1.00000000e+00,   1.00000000e+00,\n",
       "         1.00000000e+00,   1.00000000e+00,   1.00000000e+00])"
      ]
     },
     "execution_count": 32,
     "metadata": {},
     "output_type": "execute_result"
    }
   ],
   "source": [
    "Mean_Cent"
   ]
  },
  {
   "cell_type": "code",
   "execution_count": 30,
   "metadata": {
    "collapsed": false
   },
   "outputs": [
    {
     "data": {
      "text/plain": [
       "array([  1.00000000e-10,   5.00000000e+00,   4.00000000e+00,\n",
       "         1.00000000e+01,   1.30000000e+01,   5.90000000e+01,\n",
       "         4.66000000e+02,   1.76200000e+03,   4.07500000e+03,\n",
       "         7.94300000e+03,   1.19800000e+04,   1.58020000e+04,\n",
       "         1.90040000e+04,   2.11830000e+04,   2.35950000e+04,\n",
       "         2.47430000e+04,   2.59110000e+04,   2.51080000e+04,\n",
       "         2.46610000e+04,   2.29240000e+04,   2.11580000e+04,\n",
       "         1.88370000e+04,   1.54760000e+04,   1.24100000e+04,\n",
       "         7.23900000e+03,   5.69600000e+03,   2.04000000e+03,\n",
       "         1.00000000e-10,   1.00000000e-10,   1.00000000e-10])"
      ]
     },
     "execution_count": 30,
     "metadata": {},
     "output_type": "execute_result"
    }
   ],
   "source": [
    "Nsat"
   ]
  },
  {
   "cell_type": "code",
   "execution_count": 31,
   "metadata": {
    "collapsed": false
   },
   "outputs": [
    {
     "data": {
      "text/plain": [
       "array([  2.03930807e-17,   3.20921996e-06,   3.53813535e-06,\n",
       "         1.23324179e-05,   2.23383818e-05,   1.44920061e-04,\n",
       "         1.59013977e-03,   8.43251832e-03,   2.74999663e-02,\n",
       "         7.54593301e-02,   1.62150456e-01,   3.00349730e-01,\n",
       "         5.17876608e-01,   8.31357928e-01,   1.31499749e+00,\n",
       "         2.00543038e+00,   3.09311209e+00,   4.58426146e+00,\n",
       "         6.94089502e+00,   1.00720562e+01,   1.50590747e+01,\n",
       "         2.22659574e+01,   3.12646465e+01,   4.73664122e+01,\n",
       "         6.89428571e+01,   9.99298246e+01,   1.27500000e+02,\n",
       "         1.00000000e+00,   1.00000000e+00,   1.00000000e+00])"
      ]
     },
     "execution_count": 31,
     "metadata": {},
     "output_type": "execute_result"
    }
   ],
   "source": [
    "Mean_Sats"
   ]
  },
  {
   "cell_type": "code",
   "execution_count": 33,
   "metadata": {
    "collapsed": false
   },
   "outputs": [],
   "source": [
    "ICS = Mean_Cent * Mean_Sats"
   ]
  },
  {
   "cell_type": "code",
   "execution_count": null,
   "metadata": {
    "collapsed": false
   },
   "outputs": [],
   "source": [
    "np.log10(ICS)"
   ]
  },
  {
   "cell_type": "code",
   "execution_count": 34,
   "metadata": {
    "collapsed": false,
    "scrolled": true
   },
   "outputs": [
    {
     "data": {
      "text/plain": [
       "(0.01, 1000.0)"
      ]
     },
     "execution_count": 34,
     "metadata": {},
     "output_type": "execute_result"
    },
    {
     "data": {
      "image/png": "[encoded data removed]",
      "text/plain": [
       "<matplotlib.figure.Figure at 0x7f895e9e3990>"
      ]
     },
     "metadata": {},
     "output_type": "display_data"
    }
   ],
   "source": [
    "plt.plot(bins, ICS, 'r.')\n",
    "plt.plot(bins, DCS, 'b.')\n",
    "plt.yscale('log')\n",
    "plt.ylim(1e-2, 1e3)"
   ]
  },
  {
   "cell_type": "code",
   "execution_count": null,
   "metadata": {
    "collapsed": false
   },
   "outputs": [],
   "source": [
    "plt.plot(bins, np.log10(ICS), 'r.')"
   ]
  },
  {
   "cell_type": "code",
   "execution_count": null,
   "metadata": {
    "collapsed": true
   },
   "outputs": [],
   "source": []
  }
 ],
 "metadata": {
  "kernelspec": {
   "display_name": "Python 2",
   "language": "python",
   "name": "python2"
  },
  "language_info": {
   "codemirror_mode": {
    "name": "ipython",
    "version": 2
   },
   "file_extension": ".py",
   "mimetype": "text/x-python",
   "name": "python",
   "nbconvert_exporter": "python",
   "pygments_lexer": "ipython2",
   "version": "2.7.12"
  }
 },
 "nbformat": 4,
 "nbformat_minor": 1
}
