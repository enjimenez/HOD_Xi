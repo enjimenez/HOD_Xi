{
 "cells": [
  {
   "cell_type": "code",
   "execution_count": null,
   "metadata": {
    "collapsed": false
   },
   "outputs": [],
   "source": [
    "\"\"\"\n",
    "import numpy as np\n",
    "import matplotlib.pyplot as plt\n",
    "from matplotlib import rc\n",
    "import os\n",
    "% matplotlib inline\n",
    "rc('text', usetex=True)\n",
    "rc('font', family='serif')\n",
    "\n",
    "ab = str(raw_input(\"Model: \"))\n",
    "model = ab + \"_millennium\"\n",
    "path = \"/home/esteban/Escritorio/Practica/Data/\" + model\n",
    "os.chdir( path )\n",
    "\n",
    "halos_data = np.load('halos_sfrcut_1.5.npy')\n",
    "\n",
    "logmass = halos_data[:,1]\n",
    "Cent = halos_data[:,3]\n",
    "Sats = halos_data[:,4]\n",
    "\n",
    "#logm_min = 10.5\n",
    "#logm_max = 15\n",
    "#NBIN = 30\n",
    "#halomass_labels = ((logmass - logm_min)/(logm_max - logm_min) * NBIN).astype(int)\n",
    "#bin_width = (logm_max - logm_min)/NBIN\n",
    "#bins = np.array([logm_min + bin_width*i for i in range(NBIN)]) + bin_width *.5\n",
    "\n",
    "logm_min = 10.5\n",
    "logm_max = 15\n",
    "NBIN = 30\n",
    "halomass_labels = ((logmass - logm_min)/(logm_max - logm_min) * NBIN).astype(int)\n",
    "bin_width = (logm_max - logm_min)/NBIN\n",
    "bins = np.array([logm_min + bin_width*i for i in range(NBIN)]) + bin_width *.5\n",
    "\n",
    "ICS_plt = np.zeros(NBIN)\n",
    "ACS_plt = np.zeros(NBIN)    \n",
    "for i in range(NBIN):\n",
    "    \n",
    "    idx = np.where(halomass_labels == i)[0]\n",
    "    Cent_ar = Cent[idx]\n",
    "    Sats_ar = Sats[idx]\n",
    "    \n",
    "    Mean_Cent = np.mean(Cent_ar)\n",
    "    Mean_Sats = np.mean(Sats_ar)\n",
    "    ICS_plt[i] = Mean_Cent * Mean_Sats\n",
    "    \n",
    "    CS = Cent_ar * Sats_ar\n",
    "    ACS_plt[i] = np.mean(CS)\n",
    "    \n",
    "np.savetxt(\"test_assumption_05\", np.array([bins, ICS_plt, ACS_plt]).T)    \n",
    "\"\"\""
   ]
  },
  {
   "cell_type": "code",
   "execution_count": 3,
   "metadata": {
    "collapsed": false
   },
   "outputs": [
    {
     "name": "stdout",
     "output_type": "stream",
     "text": [
      "CPU times: user 1min 38s, sys: 4.23 s, total: 1min 42s\n",
      "Wall time: 2min 13s\n"
     ]
    }
   ],
   "source": [
    "%%time\n",
    "import numpy as np\n",
    "import matplotlib.pyplot as plt\n",
    "from matplotlib import rc\n",
    "import os\n",
    "% matplotlib inline\n",
    "rc('text', usetex=True)\n",
    "rc('font', family='serif')\n",
    "\n",
    "ab = 'G13'#str(raw_input(\"Model: \"))\n",
    "model = ab + \"_millennium\"\n",
    "path = \"/home/esteban/Escritorio/Practica/Data/\" + model\n",
    "os.chdir( path )\n",
    "\n",
    "rhos = [1.5, 2.0, 2.5]\n",
    "for k,rho in enumerate(rhos):\n",
    "    \n",
    "    halos_data = np.load('halos_masscut_%.1f.npy' %rho)\n",
    "    logmass = halos_data[:,1]\n",
    "    All = halos_data[:,2] #######\n",
    "    Cent = halos_data[:,3]\n",
    "    Sats = halos_data[:,4]\n",
    "\n",
    "    #mask = (All != 0)\n",
    "    #logmass = logmass[mask]\n",
    "    #Cent = Cent[mask]\n",
    "    #Sats = Sats[mask]\n",
    "\n",
    "    logm_min = 10.5\n",
    "    logm_max = 15.\n",
    "    NBIN = 30\n",
    "    labels = (((logmass - logm_min)/(logm_max - logm_min)) * NBIN).astype('int')\n",
    "    bin_width = (logm_max - logm_min)/NBIN\n",
    "    bins = np.array([logm_min + bin_width*i for i in range(NBIN)]) + bin_width *.5\n",
    "\n",
    "    Nsat = np.zeros(NBIN)\n",
    "    Ncen = np.zeros(NBIN)\n",
    "    N_cs = np.zeros(NBIN)\n",
    "    Nhalos = np.zeros(NBIN)\n",
    "\n",
    "    mask = (labels >= 0) & (labels < NBIN)\n",
    "    Cent = Cent[mask]\n",
    "    Sats = Sats[mask]\n",
    "    labels = labels[mask]\n",
    "\n",
    "    for j,i in enumerate(labels):\n",
    "\n",
    "        Ncen[i] += Cent[j]\n",
    "        Nsat[i] += Sats[j]\n",
    "        N_cs[i] += (Cent[j] * Sats[j])\n",
    "        Nhalos[i] += 1    \n",
    "\n",
    "    Nhalos += 1e-10\n",
    "    Nsat += 1e-10\n",
    "    Ncen += 1e-10    \n",
    "\n",
    "    Mean_Cent = Ncen/Nhalos\n",
    "    Mean_Sats = Nsat/Nhalos\n",
    "    DCS = N_cs / Nhalos\n",
    "    ICS = Mean_Cent * Mean_Sats\n",
    "\n",
    "    np.savetxt('test_assumption_smass_%.1f' %rho, np.array([bins, ICS, DCS]).T)"
   ]
  },
  {
   "cell_type": "code",
   "execution_count": null,
   "metadata": {
    "collapsed": false
   },
   "outputs": [],
   "source": [
    "logm_min = 10.5\n",
    "logm_max = 15.\n",
    "NBIN = 30\n",
    "labels = (((logmass - logm_min)/(logm_max - logm_min)) * NBIN).astype('int')\n",
    "bin_width = (logm_max - logm_min)/NBIN\n",
    "bins = np.array([logm_min + bin_width*i for i in range(NBIN)]) + bin_width *.5"
   ]
  },
  {
   "cell_type": "code",
   "execution_count": null,
   "metadata": {
    "collapsed": false
   },
   "outputs": [],
   "source": [
    "%%time\n",
    "Nsat = np.zeros(NBIN)\n",
    "Ncen = np.zeros(NBIN)\n",
    "N_cs = np.zeros(NBIN)\n",
    "Nhalos = np.zeros(NBIN)\n",
    "\n",
    "mask = (labels >= 0) & (labels < NBIN)\n",
    "Cent = Cent[mask]\n",
    "Sats = Sats[mask]\n",
    "labels = labels[mask]\n",
    "\n",
    "for j,i in enumerate(labels):\n",
    "    \n",
    "    Ncen[i] += Cent[j]\n",
    "    Nsat[i] += Sats[j]\n",
    "    N_cs[i] += (Cent[j] * Sats[j])\n",
    "    Nhalos[i] += 1    "
   ]
  },
  {
   "cell_type": "code",
   "execution_count": null,
   "metadata": {
    "collapsed": true
   },
   "outputs": [],
   "source": [
    "Nhalos += 1e-10\n",
    "Nsat += 1e-10\n",
    "Ncen += 1e-10"
   ]
  },
  {
   "cell_type": "code",
   "execution_count": null,
   "metadata": {
    "collapsed": false
   },
   "outputs": [],
   "source": [
    "Mean_Cent = Ncen/Nhalos\n",
    "Mean_Sats = Nsat/Nhalos\n",
    "DCS = N_cs / Nhalos"
   ]
  },
  {
   "cell_type": "code",
   "execution_count": null,
   "metadata": {
    "collapsed": false
   },
   "outputs": [],
   "source": [
    "ICS = Mean_Cent * Mean_Sats"
   ]
  },
  {
   "cell_type": "code",
   "execution_count": null,
   "metadata": {
    "collapsed": true
   },
   "outputs": [],
   "source": [
    "#DCS = DCS/bin_width\n",
    "#ICS = ICS/bin_width"
   ]
  },
  {
   "cell_type": "code",
   "execution_count": null,
   "metadata": {
    "collapsed": false,
    "scrolled": true
   },
   "outputs": [],
   "source": [
    "plt.plot(bins, ICS, 'r--')\n",
    "plt.plot(bins, DCS, 'b--')\n",
    "plt.yscale('log')\n",
    "plt.ylim((1e-1 - 1e-2)/2, 1e3)\n",
    "plt.xlim(11,15.0)"
   ]
  },
  {
   "cell_type": "code",
   "execution_count": null,
   "metadata": {
    "collapsed": false
   },
   "outputs": [],
   "source": [
    "np.savetxt('test_assumption_01', np.array([bins, ICS, DCS]).T)"
   ]
  },
  {
   "cell_type": "code",
   "execution_count": null,
   "metadata": {
    "collapsed": true
   },
   "outputs": [],
   "source": []
  }
 ],
 "metadata": {
  "kernelspec": {
   "display_name": "Python 2",
   "language": "python",
   "name": "python2"
  },
  "language_info": {
   "codemirror_mode": {
    "name": "ipython",
    "version": 2
   },
   "file_extension": ".py",
   "mimetype": "text/x-python",
   "name": "python",
   "nbconvert_exporter": "python",
   "pygments_lexer": "ipython2",
   "version": "2.7.12"
  }
 },
 "nbformat": 4,
 "nbformat_minor": 1
}
