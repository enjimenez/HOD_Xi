{
 "cells": [
  {
   "cell_type": "code",
   "execution_count": 1,
   "metadata": {
    "collapsed": false
   },
   "outputs": [
    {
     "name": "stdout",
     "output_type": "stream",
     "text": [
      "Using matplotlib backend: TkAgg\n"
     ]
    }
   ],
   "source": [
    "import numpy as np\n",
    "import os\n",
    "import matplotlib.pyplot as plt\n",
    "from matplotlib import rc\n",
    "rc('text', usetex=True)\n",
    "rc('font', family='serif')\n",
    "% matplotlib"
   ]
  },
  {
   "cell_type": "code",
   "execution_count": 2,
   "metadata": {
    "collapsed": true
   },
   "outputs": [],
   "source": [
    "path = \"/home/esteban/Escritorio/Practica/Data/G13_millennium\"  # Guo2013    (MPA)\n",
    "#path = \"/home/esteban/Escritorio/Practica/Data/G14_millennium\"  # Gonzalez2014  (Durham)\n",
    "#path = \"/home/esteban/Escritorio/Practica/Data/L16_millennium\"   # Lacey2016     (Durham)\n",
    "os.chdir( path )"
   ]
  },
  {
   "cell_type": "code",
   "execution_count": 9,
   "metadata": {
    "collapsed": true
   },
   "outputs": [],
   "source": [
    "log_stellarmass = np.log10(np.load('stellarmass.npy') +1e-10) + 10\n",
    "#log_stellarmass = log_stellarmass[~mask]\n",
    "# Usar el largo real del catalogo o el largo con el mask?"
   ]
  },
  {
   "cell_type": "code",
   "execution_count": 10,
   "metadata": {
    "collapsed": true
   },
   "outputs": [],
   "source": [
    "logm_min = 6.5\n",
    "logm_max = 11.5\n",
    "NBIN = 100\n",
    "\n",
    "mask = (log_stellarmass < logm_min) | (log_stellarmass > logm_max)\n",
    "log_stellarmass = log_stellarmass[~mask]\n",
    "Ngal_t = float(len(log_stellarmass))\n",
    "\n",
    "\n",
    "bin_width = (logm_max - logm_min)/NBIN\n",
    "bins = np.array([logm_min + bin_width*i for i in range(NBIN)]) "
   ]
  },
  {
   "cell_type": "code",
   "execution_count": 11,
   "metadata": {
    "collapsed": true
   },
   "outputs": [],
   "source": [
    "weights = np.ones(len(log_stellarmass))*bin_width\n",
    "plt.hist(log_stellarmass, bins=100, weights=weights)\n",
    "plt.show()"
   ]
  },
  {
   "cell_type": "code",
   "execution_count": 13,
   "metadata": {
    "collapsed": true
   },
   "outputs": [],
   "source": [
    "left = np.linspace(logm_min, logm_max, NBIN, endpoint=False)\n",
    "log_SMF = np.zeros(NBIN)\n",
    "for i in range(NBIN):\n",
    "    mass_cut = left[i]\n",
    "    Ngal_c = len(np.where(log_stellarmass > mass_cut)[0])\n",
    "    log_SMF[i] = np.log10( Ngal_c/Ngal_t )"
   ]
  },
  {
   "cell_type": "code",
   "execution_count": 14,
   "metadata": {
    "collapsed": false
   },
   "outputs": [],
   "source": [
    "plt.plot(bins, log_SMF, 'k-')\n",
    "plt.xlim(6.5, 11.5)\n",
    "plt.ylim(-4,-.001)\n",
    "plt.xlabel(r\"$log(M_{*} / h^{-1}M_{\\odot})$\", fontsize = 12)\n",
    "plt.ylabel(r\"$Ngal (> M_{*}) /h^{-3} Mpc^3$ \", fontsize = 12)\n",
    "plt.show()"
   ]
  },
  {
   "cell_type": "code",
   "execution_count": null,
   "metadata": {
    "collapsed": true
   },
   "outputs": [],
   "source": []
  }
 ],
 "metadata": {
  "kernelspec": {
   "display_name": "Python 2",
   "language": "python",
   "name": "python2"
  },
  "language_info": {
   "codemirror_mode": {
    "name": "ipython",
    "version": 2
   },
   "file_extension": ".py",
   "mimetype": "text/x-python",
   "name": "python",
   "nbconvert_exporter": "python",
   "pygments_lexer": "ipython2",
   "version": "2.7.12"
  }
 },
 "nbformat": 4,
 "nbformat_minor": 1
}
